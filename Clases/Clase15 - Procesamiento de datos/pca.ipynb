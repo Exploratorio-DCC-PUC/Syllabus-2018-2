{
 "cells": [
  {
   "cell_type": "markdown",
   "metadata": {},
   "source": [
    "# IMPORTANTE: es recomendable correr el código de Altair con JupyterLab. Si no se usa JupyterLab, se deben hacer ajustes adicionales al código."
   ]
  },
  {
   "cell_type": "markdown",
   "metadata": {},
   "source": [
    "# Parte 1: Preprocesamiento de datos\n",
    "\n",
    "Muchas veces los datos de un problema real están incompletos y/o en formatos difíciles de manejar, aquí veremos con un ejemplo cómo manejar datos del estilo."
   ]
  },
  {
   "cell_type": "code",
   "execution_count": 1,
   "metadata": {},
   "outputs": [],
   "source": [
    "import pandas as pd"
   ]
  },
  {
   "cell_type": "code",
   "execution_count": 2,
   "metadata": {},
   "outputs": [
    {
     "data": {
      "text/html": [
       "<div>\n",
       "<style scoped>\n",
       "    .dataframe tbody tr th:only-of-type {\n",
       "        vertical-align: middle;\n",
       "    }\n",
       "\n",
       "    .dataframe tbody tr th {\n",
       "        vertical-align: top;\n",
       "    }\n",
       "\n",
       "    .dataframe thead th {\n",
       "        text-align: right;\n",
       "    }\n",
       "</style>\n",
       "<table border=\"1\" class=\"dataframe\">\n",
       "  <thead>\n",
       "    <tr style=\"text-align: right;\">\n",
       "      <th></th>\n",
       "      <th>Volcano Number</th>\n",
       "      <th>Volcano Name</th>\n",
       "      <th>Primary Volcano Type</th>\n",
       "      <th>Last Eruption Year</th>\n",
       "      <th>Country</th>\n",
       "      <th>Region</th>\n",
       "      <th>Subregion</th>\n",
       "      <th>Latitude</th>\n",
       "      <th>Longitude</th>\n",
       "      <th>Elevation</th>\n",
       "      <th>...</th>\n",
       "      <th>Major Rock 5</th>\n",
       "      <th>Minor Rock 1</th>\n",
       "      <th>Minor Rock 2</th>\n",
       "      <th>Minor Rock 3</th>\n",
       "      <th>Minor Rock 4</th>\n",
       "      <th>Minor Rock 5</th>\n",
       "      <th>Population within 5 km</th>\n",
       "      <th>Population within 10 km</th>\n",
       "      <th>Population within 30 km</th>\n",
       "      <th>Population within 100 km</th>\n",
       "    </tr>\n",
       "  </thead>\n",
       "  <tbody>\n",
       "    <tr>\n",
       "      <th>0</th>\n",
       "      <td>343050</td>\n",
       "      <td>14 de Marzo, Cerro</td>\n",
       "      <td>Pyroclastic cone of San Salvador</td>\n",
       "      <td>NaN</td>\n",
       "      <td>NaN</td>\n",
       "      <td>NaN</td>\n",
       "      <td>NaN</td>\n",
       "      <td>NaN</td>\n",
       "      <td>NaN</td>\n",
       "      <td>NaN</td>\n",
       "      <td>...</td>\n",
       "      <td>NaN</td>\n",
       "      <td>NaN</td>\n",
       "      <td>NaN</td>\n",
       "      <td>NaN</td>\n",
       "      <td>NaN</td>\n",
       "      <td>NaN</td>\n",
       "      <td>NaN</td>\n",
       "      <td>NaN</td>\n",
       "      <td>NaN</td>\n",
       "      <td>NaN</td>\n",
       "    </tr>\n",
       "    <tr>\n",
       "      <th>1</th>\n",
       "      <td>221170</td>\n",
       "      <td>Aabida</td>\n",
       "      <td>Synonym of Adwa</td>\n",
       "      <td>NaN</td>\n",
       "      <td>NaN</td>\n",
       "      <td>NaN</td>\n",
       "      <td>NaN</td>\n",
       "      <td>NaN</td>\n",
       "      <td>NaN</td>\n",
       "      <td>NaN</td>\n",
       "      <td>...</td>\n",
       "      <td>NaN</td>\n",
       "      <td>NaN</td>\n",
       "      <td>NaN</td>\n",
       "      <td>NaN</td>\n",
       "      <td>NaN</td>\n",
       "      <td>NaN</td>\n",
       "      <td>NaN</td>\n",
       "      <td>NaN</td>\n",
       "      <td>NaN</td>\n",
       "      <td>NaN</td>\n",
       "    </tr>\n",
       "    <tr>\n",
       "      <th>2</th>\n",
       "      <td>232010</td>\n",
       "      <td>Ab E Garm</td>\n",
       "      <td>Thermal of Damavand</td>\n",
       "      <td>NaN</td>\n",
       "      <td>NaN</td>\n",
       "      <td>NaN</td>\n",
       "      <td>NaN</td>\n",
       "      <td>NaN</td>\n",
       "      <td>NaN</td>\n",
       "      <td>NaN</td>\n",
       "      <td>...</td>\n",
       "      <td>NaN</td>\n",
       "      <td>NaN</td>\n",
       "      <td>NaN</td>\n",
       "      <td>NaN</td>\n",
       "      <td>NaN</td>\n",
       "      <td>NaN</td>\n",
       "      <td>NaN</td>\n",
       "      <td>NaN</td>\n",
       "      <td>NaN</td>\n",
       "      <td>NaN</td>\n",
       "    </tr>\n",
       "    <tr>\n",
       "      <th>3</th>\n",
       "      <td>264010</td>\n",
       "      <td>Abang, Gunung</td>\n",
       "      <td>Stratovolcano of Batur</td>\n",
       "      <td>NaN</td>\n",
       "      <td>NaN</td>\n",
       "      <td>NaN</td>\n",
       "      <td>NaN</td>\n",
       "      <td>NaN</td>\n",
       "      <td>NaN</td>\n",
       "      <td>NaN</td>\n",
       "      <td>...</td>\n",
       "      <td>NaN</td>\n",
       "      <td>NaN</td>\n",
       "      <td>NaN</td>\n",
       "      <td>NaN</td>\n",
       "      <td>NaN</td>\n",
       "      <td>NaN</td>\n",
       "      <td>NaN</td>\n",
       "      <td>NaN</td>\n",
       "      <td>NaN</td>\n",
       "      <td>NaN</td>\n",
       "    </tr>\n",
       "    <tr>\n",
       "      <th>4</th>\n",
       "      <td>221290</td>\n",
       "      <td>Abaro</td>\n",
       "      <td>Cone of Corbetti Caldera</td>\n",
       "      <td>NaN</td>\n",
       "      <td>NaN</td>\n",
       "      <td>NaN</td>\n",
       "      <td>NaN</td>\n",
       "      <td>NaN</td>\n",
       "      <td>NaN</td>\n",
       "      <td>NaN</td>\n",
       "      <td>...</td>\n",
       "      <td>NaN</td>\n",
       "      <td>NaN</td>\n",
       "      <td>NaN</td>\n",
       "      <td>NaN</td>\n",
       "      <td>NaN</td>\n",
       "      <td>NaN</td>\n",
       "      <td>NaN</td>\n",
       "      <td>NaN</td>\n",
       "      <td>NaN</td>\n",
       "      <td>NaN</td>\n",
       "    </tr>\n",
       "  </tbody>\n",
       "</table>\n",
       "<p>5 rows × 26 columns</p>\n",
       "</div>"
      ],
      "text/plain": [
       "   Volcano Number        Volcano Name              Primary Volcano Type  \\\n",
       "0          343050  14 de Marzo, Cerro  Pyroclastic cone of San Salvador   \n",
       "1          221170              Aabida                   Synonym of Adwa   \n",
       "2          232010           Ab E Garm               Thermal of Damavand   \n",
       "3          264010       Abang, Gunung            Stratovolcano of Batur   \n",
       "4          221290               Abaro          Cone of Corbetti Caldera   \n",
       "\n",
       "  Last Eruption Year Country Region Subregion  Latitude  Longitude  Elevation  \\\n",
       "0                NaN     NaN    NaN       NaN       NaN        NaN        NaN   \n",
       "1                NaN     NaN    NaN       NaN       NaN        NaN        NaN   \n",
       "2                NaN     NaN    NaN       NaN       NaN        NaN        NaN   \n",
       "3                NaN     NaN    NaN       NaN       NaN        NaN        NaN   \n",
       "4                NaN     NaN    NaN       NaN       NaN        NaN        NaN   \n",
       "\n",
       "            ...            Major Rock 5 Minor Rock 1 Minor Rock 2  \\\n",
       "0           ...                     NaN          NaN          NaN   \n",
       "1           ...                     NaN          NaN          NaN   \n",
       "2           ...                     NaN          NaN          NaN   \n",
       "3           ...                     NaN          NaN          NaN   \n",
       "4           ...                     NaN          NaN          NaN   \n",
       "\n",
       "  Minor Rock 3 Minor Rock 4 Minor Rock 5 Population within 5 km  \\\n",
       "0          NaN          NaN          NaN                    NaN   \n",
       "1          NaN          NaN          NaN                    NaN   \n",
       "2          NaN          NaN          NaN                    NaN   \n",
       "3          NaN          NaN          NaN                    NaN   \n",
       "4          NaN          NaN          NaN                    NaN   \n",
       "\n",
       "  Population within 10 km Population within 30 km Population within 100 km  \n",
       "0                     NaN                     NaN                      NaN  \n",
       "1                     NaN                     NaN                      NaN  \n",
       "2                     NaN                     NaN                      NaN  \n",
       "3                     NaN                     NaN                      NaN  \n",
       "4                     NaN                     NaN                      NaN  \n",
       "\n",
       "[5 rows x 26 columns]"
      ]
     },
     "execution_count": 2,
     "metadata": {},
     "output_type": "execute_result"
    }
   ],
   "source": [
    "volcanoes = pd.read_csv('datasets/volcanoes.csv')\n",
    "volcanoes.head()"
   ]
  },
  {
   "cell_type": "code",
   "execution_count": 3,
   "metadata": {},
   "outputs": [
    {
     "data": {
      "text/plain": [
       "12766"
      ]
     },
     "execution_count": 3,
     "metadata": {},
     "output_type": "execute_result"
    }
   ],
   "source": [
    "len(volcanoes)"
   ]
  },
  {
   "cell_type": "code",
   "execution_count": 4,
   "metadata": {},
   "outputs": [
    {
     "data": {
      "text/html": [
       "<div>\n",
       "<style scoped>\n",
       "    .dataframe tbody tr th:only-of-type {\n",
       "        vertical-align: middle;\n",
       "    }\n",
       "\n",
       "    .dataframe tbody tr th {\n",
       "        vertical-align: top;\n",
       "    }\n",
       "\n",
       "    .dataframe thead th {\n",
       "        text-align: right;\n",
       "    }\n",
       "</style>\n",
       "<table border=\"1\" class=\"dataframe\">\n",
       "  <thead>\n",
       "    <tr style=\"text-align: right;\">\n",
       "      <th></th>\n",
       "      <th>Volcano Number</th>\n",
       "      <th>Volcano Name</th>\n",
       "      <th>Primary Volcano Type</th>\n",
       "      <th>Last Eruption Year</th>\n",
       "      <th>Country</th>\n",
       "      <th>Region</th>\n",
       "      <th>Subregion</th>\n",
       "      <th>Latitude</th>\n",
       "      <th>Longitude</th>\n",
       "      <th>Elevation</th>\n",
       "      <th>...</th>\n",
       "      <th>Major Rock 5</th>\n",
       "      <th>Minor Rock 1</th>\n",
       "      <th>Minor Rock 2</th>\n",
       "      <th>Minor Rock 3</th>\n",
       "      <th>Minor Rock 4</th>\n",
       "      <th>Minor Rock 5</th>\n",
       "      <th>Population within 5 km</th>\n",
       "      <th>Population within 10 km</th>\n",
       "      <th>Population within 30 km</th>\n",
       "      <th>Population within 100 km</th>\n",
       "    </tr>\n",
       "  </thead>\n",
       "  <tbody>\n",
       "    <tr>\n",
       "      <th>17</th>\n",
       "      <td>283001</td>\n",
       "      <td>Abu</td>\n",
       "      <td>Shield(s)</td>\n",
       "      <td>-6850</td>\n",
       "      <td>Japan</td>\n",
       "      <td>Japan, Taiwan, Marianas</td>\n",
       "      <td>Honshu</td>\n",
       "      <td>34.500</td>\n",
       "      <td>131.600</td>\n",
       "      <td>641.0</td>\n",
       "      <td>...</td>\n",
       "      <td></td>\n",
       "      <td></td>\n",
       "      <td></td>\n",
       "      <td></td>\n",
       "      <td></td>\n",
       "      <td></td>\n",
       "      <td>3597.0</td>\n",
       "      <td>9594.0</td>\n",
       "      <td>117805.0</td>\n",
       "      <td>4071152.0</td>\n",
       "    </tr>\n",
       "    <tr>\n",
       "      <th>22</th>\n",
       "      <td>355096</td>\n",
       "      <td>Acamarachi</td>\n",
       "      <td>Stratovolcano</td>\n",
       "      <td>Unknown</td>\n",
       "      <td>Chile</td>\n",
       "      <td>South America</td>\n",
       "      <td>Northern Chile, Bolivia and Argentina</td>\n",
       "      <td>-23.292</td>\n",
       "      <td>-67.618</td>\n",
       "      <td>6023.0</td>\n",
       "      <td>...</td>\n",
       "      <td></td>\n",
       "      <td></td>\n",
       "      <td></td>\n",
       "      <td></td>\n",
       "      <td></td>\n",
       "      <td></td>\n",
       "      <td>0.0</td>\n",
       "      <td>7.0</td>\n",
       "      <td>294.0</td>\n",
       "      <td>9092.0</td>\n",
       "    </tr>\n",
       "    <tr>\n",
       "      <th>25</th>\n",
       "      <td>342080</td>\n",
       "      <td>Acatenango</td>\n",
       "      <td>Stratovolcano(es)</td>\n",
       "      <td>1972</td>\n",
       "      <td>Guatemala</td>\n",
       "      <td>México and Central America</td>\n",
       "      <td>Guatemala</td>\n",
       "      <td>14.501</td>\n",
       "      <td>-90.876</td>\n",
       "      <td>3976.0</td>\n",
       "      <td>...</td>\n",
       "      <td></td>\n",
       "      <td>Basalt / Picro-Basalt</td>\n",
       "      <td></td>\n",
       "      <td></td>\n",
       "      <td></td>\n",
       "      <td></td>\n",
       "      <td>4329.0</td>\n",
       "      <td>60730.0</td>\n",
       "      <td>1042836.0</td>\n",
       "      <td>7634778.0</td>\n",
       "    </tr>\n",
       "    <tr>\n",
       "      <th>37</th>\n",
       "      <td>213004</td>\n",
       "      <td>Acigol-Nevsehir</td>\n",
       "      <td>Caldera</td>\n",
       "      <td>-2080</td>\n",
       "      <td>Turkey</td>\n",
       "      <td>Mediterranean and Western Asia</td>\n",
       "      <td>Turkey</td>\n",
       "      <td>38.537</td>\n",
       "      <td>34.621</td>\n",
       "      <td>1683.0</td>\n",
       "      <td>...</td>\n",
       "      <td></td>\n",
       "      <td></td>\n",
       "      <td></td>\n",
       "      <td></td>\n",
       "      <td></td>\n",
       "      <td></td>\n",
       "      <td>127863.0</td>\n",
       "      <td>127863.0</td>\n",
       "      <td>218469.0</td>\n",
       "      <td>2253483.0</td>\n",
       "    </tr>\n",
       "    <tr>\n",
       "      <th>44</th>\n",
       "      <td>321040</td>\n",
       "      <td>Adams</td>\n",
       "      <td>Stratovolcano</td>\n",
       "      <td>950</td>\n",
       "      <td>United States</td>\n",
       "      <td>Canada and Western USA</td>\n",
       "      <td>USA (Washington)</td>\n",
       "      <td>46.206</td>\n",
       "      <td>-121.490</td>\n",
       "      <td>3742.0</td>\n",
       "      <td>...</td>\n",
       "      <td></td>\n",
       "      <td>Dacite</td>\n",
       "      <td></td>\n",
       "      <td></td>\n",
       "      <td></td>\n",
       "      <td></td>\n",
       "      <td>0.0</td>\n",
       "      <td>70.0</td>\n",
       "      <td>4019.0</td>\n",
       "      <td>393303.0</td>\n",
       "    </tr>\n",
       "  </tbody>\n",
       "</table>\n",
       "<p>5 rows × 26 columns</p>\n",
       "</div>"
      ],
      "text/plain": [
       "    Volcano Number     Volcano Name Primary Volcano Type Last Eruption Year  \\\n",
       "17          283001              Abu            Shield(s)              -6850   \n",
       "22          355096       Acamarachi        Stratovolcano            Unknown   \n",
       "25          342080       Acatenango    Stratovolcano(es)               1972   \n",
       "37          213004  Acigol-Nevsehir              Caldera              -2080   \n",
       "44          321040            Adams        Stratovolcano                950   \n",
       "\n",
       "          Country                          Region  \\\n",
       "17          Japan         Japan, Taiwan, Marianas   \n",
       "22          Chile                   South America   \n",
       "25      Guatemala      México and Central America   \n",
       "37         Turkey  Mediterranean and Western Asia   \n",
       "44  United States          Canada and Western USA   \n",
       "\n",
       "                                Subregion  Latitude  Longitude  Elevation  \\\n",
       "17                                 Honshu    34.500    131.600      641.0   \n",
       "22  Northern Chile, Bolivia and Argentina   -23.292    -67.618     6023.0   \n",
       "25                              Guatemala    14.501    -90.876     3976.0   \n",
       "37                                 Turkey    38.537     34.621     1683.0   \n",
       "44                       USA (Washington)    46.206   -121.490     3742.0   \n",
       "\n",
       "             ...            Major Rock 5           Minor Rock 1 Minor Rock 2  \\\n",
       "17           ...                                                               \n",
       "22           ...                                                               \n",
       "25           ...                          Basalt / Picro-Basalt                \n",
       "37           ...                                                               \n",
       "44           ...                                         Dacite                \n",
       "\n",
       "   Minor Rock 3 Minor Rock 4 Minor Rock 5 Population within 5 km  \\\n",
       "17                                                        3597.0   \n",
       "22                                                           0.0   \n",
       "25                                                        4329.0   \n",
       "37                                                      127863.0   \n",
       "44                                                           0.0   \n",
       "\n",
       "   Population within 10 km Population within 30 km Population within 100 km  \n",
       "17                  9594.0                117805.0                4071152.0  \n",
       "22                     7.0                   294.0                   9092.0  \n",
       "25                 60730.0               1042836.0                7634778.0  \n",
       "37                127863.0                218469.0                2253483.0  \n",
       "44                    70.0                  4019.0                 393303.0  \n",
       "\n",
       "[5 rows x 26 columns]"
      ]
     },
     "execution_count": 4,
     "metadata": {},
     "output_type": "execute_result"
    }
   ],
   "source": [
    "volcanoes_clean = volcanoes.dropna()\n",
    "volcanoes_clean.head()"
   ]
  },
  {
   "cell_type": "code",
   "execution_count": 5,
   "metadata": {},
   "outputs": [
    {
     "data": {
      "text/plain": [
       "1429"
      ]
     },
     "execution_count": 5,
     "metadata": {},
     "output_type": "execute_result"
    }
   ],
   "source": [
    "len(volcanoes_clean)"
   ]
  },
  {
   "cell_type": "code",
   "execution_count": 6,
   "metadata": {},
   "outputs": [
    {
     "data": {
      "text/html": [
       "<div>\n",
       "<style scoped>\n",
       "    .dataframe tbody tr th:only-of-type {\n",
       "        vertical-align: middle;\n",
       "    }\n",
       "\n",
       "    .dataframe tbody tr th {\n",
       "        vertical-align: top;\n",
       "    }\n",
       "\n",
       "    .dataframe thead th {\n",
       "        text-align: right;\n",
       "    }\n",
       "</style>\n",
       "<table border=\"1\" class=\"dataframe\">\n",
       "  <thead>\n",
       "    <tr style=\"text-align: right;\">\n",
       "      <th></th>\n",
       "      <th>Volcano Number</th>\n",
       "      <th>Volcano Name</th>\n",
       "      <th>Eruption Number</th>\n",
       "      <th>Eruption Category</th>\n",
       "      <th>Area of Activity</th>\n",
       "      <th>VEI</th>\n",
       "      <th>VEI Modifier</th>\n",
       "      <th>Start Year Modifier</th>\n",
       "      <th>Start Year</th>\n",
       "      <th>Start Year Uncertainty</th>\n",
       "      <th>...</th>\n",
       "      <th>Evidence Method (dating)</th>\n",
       "      <th>End Year Modifier</th>\n",
       "      <th>End Year</th>\n",
       "      <th>End Year Uncertainty</th>\n",
       "      <th>End Month</th>\n",
       "      <th>End Day Modifier</th>\n",
       "      <th>End Day</th>\n",
       "      <th>End Day Uncertainty</th>\n",
       "      <th>Latitude</th>\n",
       "      <th>Longitude</th>\n",
       "    </tr>\n",
       "  </thead>\n",
       "  <tbody>\n",
       "    <tr>\n",
       "      <th>0</th>\n",
       "      <td>252120</td>\n",
       "      <td>Ulawun</td>\n",
       "      <td>22286</td>\n",
       "      <td>Confirmed Eruption</td>\n",
       "      <td>NaN</td>\n",
       "      <td>NaN</td>\n",
       "      <td>NaN</td>\n",
       "      <td>NaN</td>\n",
       "      <td>2018</td>\n",
       "      <td>NaN</td>\n",
       "      <td>...</td>\n",
       "      <td>Historical Observations</td>\n",
       "      <td>NaN</td>\n",
       "      <td>2018.0</td>\n",
       "      <td>NaN</td>\n",
       "      <td>9.0</td>\n",
       "      <td>NaN</td>\n",
       "      <td>21.0</td>\n",
       "      <td>NaN</td>\n",
       "      <td>-5.050</td>\n",
       "      <td>151.330</td>\n",
       "    </tr>\n",
       "    <tr>\n",
       "      <th>1</th>\n",
       "      <td>290200</td>\n",
       "      <td>Ketoi</td>\n",
       "      <td>22287</td>\n",
       "      <td>Confirmed Eruption</td>\n",
       "      <td>NaN</td>\n",
       "      <td>NaN</td>\n",
       "      <td>NaN</td>\n",
       "      <td>NaN</td>\n",
       "      <td>2018</td>\n",
       "      <td>NaN</td>\n",
       "      <td>...</td>\n",
       "      <td>Historical Observations</td>\n",
       "      <td>NaN</td>\n",
       "      <td>2018.0</td>\n",
       "      <td>NaN</td>\n",
       "      <td>9.0</td>\n",
       "      <td>NaN</td>\n",
       "      <td>21.0</td>\n",
       "      <td>NaN</td>\n",
       "      <td>47.350</td>\n",
       "      <td>152.475</td>\n",
       "    </tr>\n",
       "    <tr>\n",
       "      <th>2</th>\n",
       "      <td>290240</td>\n",
       "      <td>Sarychev Peak</td>\n",
       "      <td>22288</td>\n",
       "      <td>Confirmed Eruption</td>\n",
       "      <td>NaN</td>\n",
       "      <td>2.0</td>\n",
       "      <td>NaN</td>\n",
       "      <td>NaN</td>\n",
       "      <td>2018</td>\n",
       "      <td>NaN</td>\n",
       "      <td>...</td>\n",
       "      <td>Historical Observations</td>\n",
       "      <td>&gt;</td>\n",
       "      <td>2018.0</td>\n",
       "      <td>NaN</td>\n",
       "      <td>9.0</td>\n",
       "      <td>NaN</td>\n",
       "      <td>21.0</td>\n",
       "      <td>NaN</td>\n",
       "      <td>48.092</td>\n",
       "      <td>153.200</td>\n",
       "    </tr>\n",
       "    <tr>\n",
       "      <th>3</th>\n",
       "      <td>311060</td>\n",
       "      <td>Semisopochnoi</td>\n",
       "      <td>22289</td>\n",
       "      <td>Confirmed Eruption</td>\n",
       "      <td>NaN</td>\n",
       "      <td>NaN</td>\n",
       "      <td>NaN</td>\n",
       "      <td>NaN</td>\n",
       "      <td>2018</td>\n",
       "      <td>NaN</td>\n",
       "      <td>...</td>\n",
       "      <td>Historical Observations</td>\n",
       "      <td>NaN</td>\n",
       "      <td>2018.0</td>\n",
       "      <td>NaN</td>\n",
       "      <td>9.0</td>\n",
       "      <td>NaN</td>\n",
       "      <td>8.0</td>\n",
       "      <td>NaN</td>\n",
       "      <td>51.930</td>\n",
       "      <td>179.580</td>\n",
       "    </tr>\n",
       "    <tr>\n",
       "      <th>4</th>\n",
       "      <td>312070</td>\n",
       "      <td>Veniaminof</td>\n",
       "      <td>22290</td>\n",
       "      <td>Confirmed Eruption</td>\n",
       "      <td>NaN</td>\n",
       "      <td>1.0</td>\n",
       "      <td>NaN</td>\n",
       "      <td>NaN</td>\n",
       "      <td>2018</td>\n",
       "      <td>NaN</td>\n",
       "      <td>...</td>\n",
       "      <td>Historical Observations</td>\n",
       "      <td>&gt;</td>\n",
       "      <td>2018.0</td>\n",
       "      <td>NaN</td>\n",
       "      <td>9.0</td>\n",
       "      <td>NaN</td>\n",
       "      <td>27.0</td>\n",
       "      <td>NaN</td>\n",
       "      <td>56.170</td>\n",
       "      <td>-159.380</td>\n",
       "    </tr>\n",
       "  </tbody>\n",
       "</table>\n",
       "<p>5 rows × 24 columns</p>\n",
       "</div>"
      ],
      "text/plain": [
       "   Volcano Number   Volcano Name  Eruption Number   Eruption Category  \\\n",
       "0          252120         Ulawun            22286  Confirmed Eruption   \n",
       "1          290200          Ketoi            22287  Confirmed Eruption   \n",
       "2          290240  Sarychev Peak            22288  Confirmed Eruption   \n",
       "3          311060  Semisopochnoi            22289  Confirmed Eruption   \n",
       "4          312070     Veniaminof            22290  Confirmed Eruption   \n",
       "\n",
       "  Area of Activity  VEI VEI Modifier Start Year Modifier  Start Year  \\\n",
       "0              NaN  NaN          NaN                 NaN        2018   \n",
       "1              NaN  NaN          NaN                 NaN        2018   \n",
       "2              NaN  2.0          NaN                 NaN        2018   \n",
       "3              NaN  NaN          NaN                 NaN        2018   \n",
       "4              NaN  1.0          NaN                 NaN        2018   \n",
       "\n",
       "   Start Year Uncertainty    ...     Evidence Method (dating)  \\\n",
       "0                     NaN    ...      Historical Observations   \n",
       "1                     NaN    ...      Historical Observations   \n",
       "2                     NaN    ...      Historical Observations   \n",
       "3                     NaN    ...      Historical Observations   \n",
       "4                     NaN    ...      Historical Observations   \n",
       "\n",
       "  End Year Modifier  End Year  End Year Uncertainty End Month  \\\n",
       "0               NaN    2018.0                   NaN       9.0   \n",
       "1               NaN    2018.0                   NaN       9.0   \n",
       "2                 >    2018.0                   NaN       9.0   \n",
       "3               NaN    2018.0                   NaN       9.0   \n",
       "4                 >    2018.0                   NaN       9.0   \n",
       "\n",
       "  End Day Modifier  End Day  End Day Uncertainty  Latitude Longitude  \n",
       "0              NaN     21.0                  NaN    -5.050   151.330  \n",
       "1              NaN     21.0                  NaN    47.350   152.475  \n",
       "2              NaN     21.0                  NaN    48.092   153.200  \n",
       "3              NaN      8.0                  NaN    51.930   179.580  \n",
       "4              NaN     27.0                  NaN    56.170  -159.380  \n",
       "\n",
       "[5 rows x 24 columns]"
      ]
     },
     "execution_count": 6,
     "metadata": {},
     "output_type": "execute_result"
    }
   ],
   "source": [
    "eruptions = pd.read_csv('datasets/eruptions.csv')\n",
    "eruptions.head()"
   ]
  },
  {
   "cell_type": "code",
   "execution_count": 7,
   "metadata": {},
   "outputs": [
    {
     "data": {
      "text/plain": [
       "11135"
      ]
     },
     "execution_count": 7,
     "metadata": {},
     "output_type": "execute_result"
    }
   ],
   "source": [
    "len(eruptions)"
   ]
  },
  {
   "cell_type": "markdown",
   "metadata": {},
   "source": [
    "Si eliminamos las filas con valores faltantes del dataset de erupciones, terminamos con un dataset vacío."
   ]
  },
  {
   "cell_type": "code",
   "execution_count": 8,
   "metadata": {},
   "outputs": [
    {
     "data": {
      "text/html": [
       "<div>\n",
       "<style scoped>\n",
       "    .dataframe tbody tr th:only-of-type {\n",
       "        vertical-align: middle;\n",
       "    }\n",
       "\n",
       "    .dataframe tbody tr th {\n",
       "        vertical-align: top;\n",
       "    }\n",
       "\n",
       "    .dataframe thead th {\n",
       "        text-align: right;\n",
       "    }\n",
       "</style>\n",
       "<table border=\"1\" class=\"dataframe\">\n",
       "  <thead>\n",
       "    <tr style=\"text-align: right;\">\n",
       "      <th></th>\n",
       "      <th>Volcano Number</th>\n",
       "      <th>Volcano Name</th>\n",
       "      <th>Eruption Number</th>\n",
       "      <th>Eruption Category</th>\n",
       "      <th>Area of Activity</th>\n",
       "      <th>VEI</th>\n",
       "      <th>VEI Modifier</th>\n",
       "      <th>Start Year Modifier</th>\n",
       "      <th>Start Year</th>\n",
       "      <th>Start Year Uncertainty</th>\n",
       "      <th>...</th>\n",
       "      <th>Evidence Method (dating)</th>\n",
       "      <th>End Year Modifier</th>\n",
       "      <th>End Year</th>\n",
       "      <th>End Year Uncertainty</th>\n",
       "      <th>End Month</th>\n",
       "      <th>End Day Modifier</th>\n",
       "      <th>End Day</th>\n",
       "      <th>End Day Uncertainty</th>\n",
       "      <th>Latitude</th>\n",
       "      <th>Longitude</th>\n",
       "    </tr>\n",
       "  </thead>\n",
       "  <tbody>\n",
       "  </tbody>\n",
       "</table>\n",
       "<p>0 rows × 24 columns</p>\n",
       "</div>"
      ],
      "text/plain": [
       "Empty DataFrame\n",
       "Columns: [Volcano Number, Volcano Name, Eruption Number, Eruption Category, Area of Activity, VEI, VEI Modifier, Start Year Modifier, Start Year, Start Year Uncertainty, Start Month, Start Day Modifier, Start Day, Start Day Uncertainty, Evidence Method (dating), End Year Modifier, End Year, End Year Uncertainty, End Month, End Day Modifier, End Day, End Day Uncertainty, Latitude, Longitude]\n",
       "Index: []\n",
       "\n",
       "[0 rows x 24 columns]"
      ]
     },
     "execution_count": 8,
     "metadata": {},
     "output_type": "execute_result"
    }
   ],
   "source": [
    "eruptions.dropna()"
   ]
  },
  {
   "cell_type": "markdown",
   "metadata": {},
   "source": [
    "Por lo anterior, trataremos eliminando las columnas con datos faltantes"
   ]
  },
  {
   "cell_type": "code",
   "execution_count": 9,
   "metadata": {},
   "outputs": [
    {
     "data": {
      "text/html": [
       "<div>\n",
       "<style scoped>\n",
       "    .dataframe tbody tr th:only-of-type {\n",
       "        vertical-align: middle;\n",
       "    }\n",
       "\n",
       "    .dataframe tbody tr th {\n",
       "        vertical-align: top;\n",
       "    }\n",
       "\n",
       "    .dataframe thead th {\n",
       "        text-align: right;\n",
       "    }\n",
       "</style>\n",
       "<table border=\"1\" class=\"dataframe\">\n",
       "  <thead>\n",
       "    <tr style=\"text-align: right;\">\n",
       "      <th></th>\n",
       "      <th>Volcano Number</th>\n",
       "      <th>Volcano Name</th>\n",
       "      <th>Eruption Number</th>\n",
       "      <th>Eruption Category</th>\n",
       "      <th>Start Year</th>\n",
       "      <th>Latitude</th>\n",
       "      <th>Longitude</th>\n",
       "    </tr>\n",
       "  </thead>\n",
       "  <tbody>\n",
       "    <tr>\n",
       "      <th>0</th>\n",
       "      <td>252120</td>\n",
       "      <td>Ulawun</td>\n",
       "      <td>22286</td>\n",
       "      <td>Confirmed Eruption</td>\n",
       "      <td>2018</td>\n",
       "      <td>-5.050</td>\n",
       "      <td>151.330</td>\n",
       "    </tr>\n",
       "    <tr>\n",
       "      <th>1</th>\n",
       "      <td>290200</td>\n",
       "      <td>Ketoi</td>\n",
       "      <td>22287</td>\n",
       "      <td>Confirmed Eruption</td>\n",
       "      <td>2018</td>\n",
       "      <td>47.350</td>\n",
       "      <td>152.475</td>\n",
       "    </tr>\n",
       "    <tr>\n",
       "      <th>2</th>\n",
       "      <td>290240</td>\n",
       "      <td>Sarychev Peak</td>\n",
       "      <td>22288</td>\n",
       "      <td>Confirmed Eruption</td>\n",
       "      <td>2018</td>\n",
       "      <td>48.092</td>\n",
       "      <td>153.200</td>\n",
       "    </tr>\n",
       "    <tr>\n",
       "      <th>3</th>\n",
       "      <td>311060</td>\n",
       "      <td>Semisopochnoi</td>\n",
       "      <td>22289</td>\n",
       "      <td>Confirmed Eruption</td>\n",
       "      <td>2018</td>\n",
       "      <td>51.930</td>\n",
       "      <td>179.580</td>\n",
       "    </tr>\n",
       "    <tr>\n",
       "      <th>4</th>\n",
       "      <td>312070</td>\n",
       "      <td>Veniaminof</td>\n",
       "      <td>22290</td>\n",
       "      <td>Confirmed Eruption</td>\n",
       "      <td>2018</td>\n",
       "      <td>56.170</td>\n",
       "      <td>-159.380</td>\n",
       "    </tr>\n",
       "  </tbody>\n",
       "</table>\n",
       "</div>"
      ],
      "text/plain": [
       "   Volcano Number   Volcano Name  Eruption Number   Eruption Category  \\\n",
       "0          252120         Ulawun            22286  Confirmed Eruption   \n",
       "1          290200          Ketoi            22287  Confirmed Eruption   \n",
       "2          290240  Sarychev Peak            22288  Confirmed Eruption   \n",
       "3          311060  Semisopochnoi            22289  Confirmed Eruption   \n",
       "4          312070     Veniaminof            22290  Confirmed Eruption   \n",
       "\n",
       "   Start Year  Latitude  Longitude  \n",
       "0        2018    -5.050    151.330  \n",
       "1        2018    47.350    152.475  \n",
       "2        2018    48.092    153.200  \n",
       "3        2018    51.930    179.580  \n",
       "4        2018    56.170   -159.380  "
      ]
     },
     "execution_count": 9,
     "metadata": {},
     "output_type": "execute_result"
    }
   ],
   "source": [
    "eruptions.dropna(axis=1).head()"
   ]
  },
  {
   "cell_type": "markdown",
   "metadata": {},
   "source": [
    "### Conservación de datos de filas o columnas con datos faltantes\n",
    "Eliminar las filas o columnas con al menos 1 dato faltante (lo que hemos hecho hasta ahora), elimina datos que podrían sernos útiles, por lo que necesitamos un método menos destructivo. Generalmente, se eliminan filas de los *datasets* dependiendo de las columnas que queremos usar en alguna tarea particular. Por ejemplo, si quisiéramos obtener todos los volcanes que tengan el año de su última erupción"
   ]
  },
  {
   "cell_type": "code",
   "execution_count": 10,
   "metadata": {},
   "outputs": [
    {
     "data": {
      "text/html": [
       "<div>\n",
       "<style scoped>\n",
       "    .dataframe tbody tr th:only-of-type {\n",
       "        vertical-align: middle;\n",
       "    }\n",
       "\n",
       "    .dataframe tbody tr th {\n",
       "        vertical-align: top;\n",
       "    }\n",
       "\n",
       "    .dataframe thead th {\n",
       "        text-align: right;\n",
       "    }\n",
       "</style>\n",
       "<table border=\"1\" class=\"dataframe\">\n",
       "  <thead>\n",
       "    <tr style=\"text-align: right;\">\n",
       "      <th></th>\n",
       "      <th>Volcano Number</th>\n",
       "      <th>Volcano Name</th>\n",
       "      <th>Primary Volcano Type</th>\n",
       "      <th>Last Eruption Year</th>\n",
       "      <th>Country</th>\n",
       "      <th>Region</th>\n",
       "      <th>Subregion</th>\n",
       "      <th>Latitude</th>\n",
       "      <th>Longitude</th>\n",
       "      <th>Elevation</th>\n",
       "      <th>...</th>\n",
       "      <th>Major Rock 5</th>\n",
       "      <th>Minor Rock 1</th>\n",
       "      <th>Minor Rock 2</th>\n",
       "      <th>Minor Rock 3</th>\n",
       "      <th>Minor Rock 4</th>\n",
       "      <th>Minor Rock 5</th>\n",
       "      <th>Population within 5 km</th>\n",
       "      <th>Population within 10 km</th>\n",
       "      <th>Population within 30 km</th>\n",
       "      <th>Population within 100 km</th>\n",
       "    </tr>\n",
       "  </thead>\n",
       "  <tbody>\n",
       "    <tr>\n",
       "      <th>17</th>\n",
       "      <td>283001</td>\n",
       "      <td>Abu</td>\n",
       "      <td>Shield(s)</td>\n",
       "      <td>-6850</td>\n",
       "      <td>Japan</td>\n",
       "      <td>Japan, Taiwan, Marianas</td>\n",
       "      <td>Honshu</td>\n",
       "      <td>34.500</td>\n",
       "      <td>131.600</td>\n",
       "      <td>641.0</td>\n",
       "      <td>...</td>\n",
       "      <td></td>\n",
       "      <td></td>\n",
       "      <td></td>\n",
       "      <td></td>\n",
       "      <td></td>\n",
       "      <td></td>\n",
       "      <td>3597.0</td>\n",
       "      <td>9594.0</td>\n",
       "      <td>117805.0</td>\n",
       "      <td>4071152.0</td>\n",
       "    </tr>\n",
       "    <tr>\n",
       "      <th>22</th>\n",
       "      <td>355096</td>\n",
       "      <td>Acamarachi</td>\n",
       "      <td>Stratovolcano</td>\n",
       "      <td>Unknown</td>\n",
       "      <td>Chile</td>\n",
       "      <td>South America</td>\n",
       "      <td>Northern Chile, Bolivia and Argentina</td>\n",
       "      <td>-23.292</td>\n",
       "      <td>-67.618</td>\n",
       "      <td>6023.0</td>\n",
       "      <td>...</td>\n",
       "      <td></td>\n",
       "      <td></td>\n",
       "      <td></td>\n",
       "      <td></td>\n",
       "      <td></td>\n",
       "      <td></td>\n",
       "      <td>0.0</td>\n",
       "      <td>7.0</td>\n",
       "      <td>294.0</td>\n",
       "      <td>9092.0</td>\n",
       "    </tr>\n",
       "    <tr>\n",
       "      <th>25</th>\n",
       "      <td>342080</td>\n",
       "      <td>Acatenango</td>\n",
       "      <td>Stratovolcano(es)</td>\n",
       "      <td>1972</td>\n",
       "      <td>Guatemala</td>\n",
       "      <td>México and Central America</td>\n",
       "      <td>Guatemala</td>\n",
       "      <td>14.501</td>\n",
       "      <td>-90.876</td>\n",
       "      <td>3976.0</td>\n",
       "      <td>...</td>\n",
       "      <td></td>\n",
       "      <td>Basalt / Picro-Basalt</td>\n",
       "      <td></td>\n",
       "      <td></td>\n",
       "      <td></td>\n",
       "      <td></td>\n",
       "      <td>4329.0</td>\n",
       "      <td>60730.0</td>\n",
       "      <td>1042836.0</td>\n",
       "      <td>7634778.0</td>\n",
       "    </tr>\n",
       "    <tr>\n",
       "      <th>37</th>\n",
       "      <td>213004</td>\n",
       "      <td>Acigol-Nevsehir</td>\n",
       "      <td>Caldera</td>\n",
       "      <td>-2080</td>\n",
       "      <td>Turkey</td>\n",
       "      <td>Mediterranean and Western Asia</td>\n",
       "      <td>Turkey</td>\n",
       "      <td>38.537</td>\n",
       "      <td>34.621</td>\n",
       "      <td>1683.0</td>\n",
       "      <td>...</td>\n",
       "      <td></td>\n",
       "      <td></td>\n",
       "      <td></td>\n",
       "      <td></td>\n",
       "      <td></td>\n",
       "      <td></td>\n",
       "      <td>127863.0</td>\n",
       "      <td>127863.0</td>\n",
       "      <td>218469.0</td>\n",
       "      <td>2253483.0</td>\n",
       "    </tr>\n",
       "    <tr>\n",
       "      <th>44</th>\n",
       "      <td>321040</td>\n",
       "      <td>Adams</td>\n",
       "      <td>Stratovolcano</td>\n",
       "      <td>950</td>\n",
       "      <td>United States</td>\n",
       "      <td>Canada and Western USA</td>\n",
       "      <td>USA (Washington)</td>\n",
       "      <td>46.206</td>\n",
       "      <td>-121.490</td>\n",
       "      <td>3742.0</td>\n",
       "      <td>...</td>\n",
       "      <td></td>\n",
       "      <td>Dacite</td>\n",
       "      <td></td>\n",
       "      <td></td>\n",
       "      <td></td>\n",
       "      <td></td>\n",
       "      <td>0.0</td>\n",
       "      <td>70.0</td>\n",
       "      <td>4019.0</td>\n",
       "      <td>393303.0</td>\n",
       "    </tr>\n",
       "  </tbody>\n",
       "</table>\n",
       "<p>5 rows × 26 columns</p>\n",
       "</div>"
      ],
      "text/plain": [
       "    Volcano Number     Volcano Name Primary Volcano Type Last Eruption Year  \\\n",
       "17          283001              Abu            Shield(s)              -6850   \n",
       "22          355096       Acamarachi        Stratovolcano            Unknown   \n",
       "25          342080       Acatenango    Stratovolcano(es)               1972   \n",
       "37          213004  Acigol-Nevsehir              Caldera              -2080   \n",
       "44          321040            Adams        Stratovolcano                950   \n",
       "\n",
       "          Country                          Region  \\\n",
       "17          Japan         Japan, Taiwan, Marianas   \n",
       "22          Chile                   South America   \n",
       "25      Guatemala      México and Central America   \n",
       "37         Turkey  Mediterranean and Western Asia   \n",
       "44  United States          Canada and Western USA   \n",
       "\n",
       "                                Subregion  Latitude  Longitude  Elevation  \\\n",
       "17                                 Honshu    34.500    131.600      641.0   \n",
       "22  Northern Chile, Bolivia and Argentina   -23.292    -67.618     6023.0   \n",
       "25                              Guatemala    14.501    -90.876     3976.0   \n",
       "37                                 Turkey    38.537     34.621     1683.0   \n",
       "44                       USA (Washington)    46.206   -121.490     3742.0   \n",
       "\n",
       "             ...            Major Rock 5           Minor Rock 1 Minor Rock 2  \\\n",
       "17           ...                                                               \n",
       "22           ...                                                               \n",
       "25           ...                          Basalt / Picro-Basalt                \n",
       "37           ...                                                               \n",
       "44           ...                                         Dacite                \n",
       "\n",
       "   Minor Rock 3 Minor Rock 4 Minor Rock 5 Population within 5 km  \\\n",
       "17                                                        3597.0   \n",
       "22                                                           0.0   \n",
       "25                                                        4329.0   \n",
       "37                                                      127863.0   \n",
       "44                                                           0.0   \n",
       "\n",
       "   Population within 10 km Population within 30 km Population within 100 km  \n",
       "17                  9594.0                117805.0                4071152.0  \n",
       "22                     7.0                   294.0                   9092.0  \n",
       "25                 60730.0               1042836.0                7634778.0  \n",
       "37                127863.0                218469.0                2253483.0  \n",
       "44                    70.0                  4019.0                 393303.0  \n",
       "\n",
       "[5 rows x 26 columns]"
      ]
     },
     "execution_count": 10,
     "metadata": {},
     "output_type": "execute_result"
    }
   ],
   "source": [
    "volcanoes.loc[volcanoes['Last Eruption Year'].notnull()].head()"
   ]
  },
  {
   "cell_type": "markdown",
   "metadata": {},
   "source": [
    "Podemos observar que hay algunos valores de los años que son el string 'Unknown'. Estos valores no nos son útiles"
   ]
  },
  {
   "cell_type": "code",
   "execution_count": 11,
   "metadata": {},
   "outputs": [
    {
     "data": {
      "text/html": [
       "<div>\n",
       "<style scoped>\n",
       "    .dataframe tbody tr th:only-of-type {\n",
       "        vertical-align: middle;\n",
       "    }\n",
       "\n",
       "    .dataframe tbody tr th {\n",
       "        vertical-align: top;\n",
       "    }\n",
       "\n",
       "    .dataframe thead th {\n",
       "        text-align: right;\n",
       "    }\n",
       "</style>\n",
       "<table border=\"1\" class=\"dataframe\">\n",
       "  <thead>\n",
       "    <tr style=\"text-align: right;\">\n",
       "      <th></th>\n",
       "      <th>Volcano Number</th>\n",
       "      <th>Volcano Name</th>\n",
       "      <th>Primary Volcano Type</th>\n",
       "      <th>Last Eruption Year</th>\n",
       "      <th>Country</th>\n",
       "      <th>Region</th>\n",
       "      <th>Subregion</th>\n",
       "      <th>Latitude</th>\n",
       "      <th>Longitude</th>\n",
       "      <th>Elevation</th>\n",
       "      <th>...</th>\n",
       "      <th>Major Rock 5</th>\n",
       "      <th>Minor Rock 1</th>\n",
       "      <th>Minor Rock 2</th>\n",
       "      <th>Minor Rock 3</th>\n",
       "      <th>Minor Rock 4</th>\n",
       "      <th>Minor Rock 5</th>\n",
       "      <th>Population within 5 km</th>\n",
       "      <th>Population within 10 km</th>\n",
       "      <th>Population within 30 km</th>\n",
       "      <th>Population within 100 km</th>\n",
       "    </tr>\n",
       "  </thead>\n",
       "  <tbody>\n",
       "    <tr>\n",
       "      <th>17</th>\n",
       "      <td>283001</td>\n",
       "      <td>Abu</td>\n",
       "      <td>Shield(s)</td>\n",
       "      <td>-6850</td>\n",
       "      <td>Japan</td>\n",
       "      <td>Japan, Taiwan, Marianas</td>\n",
       "      <td>Honshu</td>\n",
       "      <td>34.500</td>\n",
       "      <td>131.600</td>\n",
       "      <td>641.0</td>\n",
       "      <td>...</td>\n",
       "      <td></td>\n",
       "      <td></td>\n",
       "      <td></td>\n",
       "      <td></td>\n",
       "      <td></td>\n",
       "      <td></td>\n",
       "      <td>3597.0</td>\n",
       "      <td>9594.0</td>\n",
       "      <td>117805.0</td>\n",
       "      <td>4071152.0</td>\n",
       "    </tr>\n",
       "    <tr>\n",
       "      <th>25</th>\n",
       "      <td>342080</td>\n",
       "      <td>Acatenango</td>\n",
       "      <td>Stratovolcano(es)</td>\n",
       "      <td>1972</td>\n",
       "      <td>Guatemala</td>\n",
       "      <td>México and Central America</td>\n",
       "      <td>Guatemala</td>\n",
       "      <td>14.501</td>\n",
       "      <td>-90.876</td>\n",
       "      <td>3976.0</td>\n",
       "      <td>...</td>\n",
       "      <td></td>\n",
       "      <td>Basalt / Picro-Basalt</td>\n",
       "      <td></td>\n",
       "      <td></td>\n",
       "      <td></td>\n",
       "      <td></td>\n",
       "      <td>4329.0</td>\n",
       "      <td>60730.0</td>\n",
       "      <td>1042836.0</td>\n",
       "      <td>7634778.0</td>\n",
       "    </tr>\n",
       "    <tr>\n",
       "      <th>37</th>\n",
       "      <td>213004</td>\n",
       "      <td>Acigol-Nevsehir</td>\n",
       "      <td>Caldera</td>\n",
       "      <td>-2080</td>\n",
       "      <td>Turkey</td>\n",
       "      <td>Mediterranean and Western Asia</td>\n",
       "      <td>Turkey</td>\n",
       "      <td>38.537</td>\n",
       "      <td>34.621</td>\n",
       "      <td>1683.0</td>\n",
       "      <td>...</td>\n",
       "      <td></td>\n",
       "      <td></td>\n",
       "      <td></td>\n",
       "      <td></td>\n",
       "      <td></td>\n",
       "      <td></td>\n",
       "      <td>127863.0</td>\n",
       "      <td>127863.0</td>\n",
       "      <td>218469.0</td>\n",
       "      <td>2253483.0</td>\n",
       "    </tr>\n",
       "    <tr>\n",
       "      <th>44</th>\n",
       "      <td>321040</td>\n",
       "      <td>Adams</td>\n",
       "      <td>Stratovolcano</td>\n",
       "      <td>950</td>\n",
       "      <td>United States</td>\n",
       "      <td>Canada and Western USA</td>\n",
       "      <td>USA (Washington)</td>\n",
       "      <td>46.206</td>\n",
       "      <td>-121.490</td>\n",
       "      <td>3742.0</td>\n",
       "      <td>...</td>\n",
       "      <td></td>\n",
       "      <td>Dacite</td>\n",
       "      <td></td>\n",
       "      <td></td>\n",
       "      <td></td>\n",
       "      <td></td>\n",
       "      <td>0.0</td>\n",
       "      <td>70.0</td>\n",
       "      <td>4019.0</td>\n",
       "      <td>393303.0</td>\n",
       "    </tr>\n",
       "    <tr>\n",
       "      <th>45</th>\n",
       "      <td>333050</td>\n",
       "      <td>Adams Seamount</td>\n",
       "      <td>Submarine</td>\n",
       "      <td>-50</td>\n",
       "      <td>Undersea Features</td>\n",
       "      <td>Hawaii and Pacific Ocean</td>\n",
       "      <td>Pacific Ocean (central)</td>\n",
       "      <td>-25.370</td>\n",
       "      <td>-129.270</td>\n",
       "      <td>-39.0</td>\n",
       "      <td>...</td>\n",
       "      <td></td>\n",
       "      <td>Andesite / Basaltic Andesite</td>\n",
       "      <td>Trachyandesite / Basaltic Trachyandesite</td>\n",
       "      <td></td>\n",
       "      <td></td>\n",
       "      <td></td>\n",
       "      <td>0.0</td>\n",
       "      <td>0.0</td>\n",
       "      <td>0.0</td>\n",
       "      <td>44.0</td>\n",
       "    </tr>\n",
       "  </tbody>\n",
       "</table>\n",
       "<p>5 rows × 26 columns</p>\n",
       "</div>"
      ],
      "text/plain": [
       "    Volcano Number     Volcano Name Primary Volcano Type Last Eruption Year  \\\n",
       "17          283001              Abu            Shield(s)              -6850   \n",
       "25          342080       Acatenango    Stratovolcano(es)               1972   \n",
       "37          213004  Acigol-Nevsehir              Caldera              -2080   \n",
       "44          321040            Adams        Stratovolcano                950   \n",
       "45          333050   Adams Seamount            Submarine                -50   \n",
       "\n",
       "              Country                          Region  \\\n",
       "17              Japan         Japan, Taiwan, Marianas   \n",
       "25          Guatemala      México and Central America   \n",
       "37             Turkey  Mediterranean and Western Asia   \n",
       "44      United States          Canada and Western USA   \n",
       "45  Undersea Features        Hawaii and Pacific Ocean   \n",
       "\n",
       "                  Subregion  Latitude  Longitude  Elevation  \\\n",
       "17                   Honshu    34.500    131.600      641.0   \n",
       "25                Guatemala    14.501    -90.876     3976.0   \n",
       "37                   Turkey    38.537     34.621     1683.0   \n",
       "44         USA (Washington)    46.206   -121.490     3742.0   \n",
       "45  Pacific Ocean (central)   -25.370   -129.270      -39.0   \n",
       "\n",
       "             ...            Major Rock 5                  Minor Rock 1  \\\n",
       "17           ...                                                         \n",
       "25           ...                                 Basalt / Picro-Basalt   \n",
       "37           ...                                                         \n",
       "44           ...                                                Dacite   \n",
       "45           ...                          Andesite / Basaltic Andesite   \n",
       "\n",
       "                                Minor Rock 2 Minor Rock 3 Minor Rock 4  \\\n",
       "17                                                                       \n",
       "25                                                                       \n",
       "37                                                                       \n",
       "44                                                                       \n",
       "45  Trachyandesite / Basaltic Trachyandesite                             \n",
       "\n",
       "   Minor Rock 5 Population within 5 km Population within 10 km  \\\n",
       "17                              3597.0                  9594.0   \n",
       "25                              4329.0                 60730.0   \n",
       "37                            127863.0                127863.0   \n",
       "44                                 0.0                    70.0   \n",
       "45                                 0.0                     0.0   \n",
       "\n",
       "   Population within 30 km Population within 100 km  \n",
       "17                117805.0                4071152.0  \n",
       "25               1042836.0                7634778.0  \n",
       "37                218469.0                2253483.0  \n",
       "44                  4019.0                 393303.0  \n",
       "45                     0.0                     44.0  \n",
       "\n",
       "[5 rows x 26 columns]"
      ]
     },
     "execution_count": 11,
     "metadata": {},
     "output_type": "execute_result"
    }
   ],
   "source": [
    "volcanoes_last_erupt = volcanoes.loc[\n",
    "    volcanoes['Last Eruption Year'].notnull() &\n",
    "    ~(volcanoes['Last Eruption Year'] == 'Unknown')\n",
    "]\n",
    "volcanoes_last_erupt.head()"
   ]
  },
  {
   "cell_type": "markdown",
   "metadata": {},
   "source": [
    "Si quisiéramos usar el tipo de roca (Minor Rock 1) que tienen los volcanes, podemos ver los datos que contiene la columna"
   ]
  },
  {
   "cell_type": "code",
   "execution_count": 12,
   "metadata": {},
   "outputs": [
    {
     "data": {
      "text/plain": [
       "0                                     NaN\n",
       "1                                     NaN\n",
       "2                                     NaN\n",
       "3                                     NaN\n",
       "4                                     NaN\n",
       "5                                     NaN\n",
       "6                                     NaN\n",
       "7                                     NaN\n",
       "8                                     NaN\n",
       "9                                     NaN\n",
       "10                                    NaN\n",
       "11                                    NaN\n",
       "12                                    NaN\n",
       "13                                    NaN\n",
       "14                                    NaN\n",
       "15                                    NaN\n",
       "16                                    NaN\n",
       "17                                       \n",
       "18                                    NaN\n",
       "19                                    NaN\n",
       "20                                    NaN\n",
       "21                                    NaN\n",
       "22                                       \n",
       "23                                    NaN\n",
       "24                                    NaN\n",
       "25                  Basalt / Picro-Basalt\n",
       "26                                    NaN\n",
       "27                                    NaN\n",
       "28                                    NaN\n",
       "29                                    NaN\n",
       "                       ...               \n",
       "12736                                 NaN\n",
       "12737                                 NaN\n",
       "12738                                 NaN\n",
       "12739                                    \n",
       "12740                                 NaN\n",
       "12741                                 NaN\n",
       "12742                                 NaN\n",
       "12743    Trachybasalt / Tephrite Basanite\n",
       "12744                                 NaN\n",
       "12745                                 NaN\n",
       "12746                                 NaN\n",
       "12747                                 NaN\n",
       "12748                                 NaN\n",
       "12749                                 NaN\n",
       "12750                                 NaN\n",
       "12751                                 NaN\n",
       "12752                                    \n",
       "12753                                 NaN\n",
       "12754                                 NaN\n",
       "12755                                    \n",
       "12756                                 NaN\n",
       "12757                                    \n",
       "12758                                 NaN\n",
       "12759                                 NaN\n",
       "12760                                 NaN\n",
       "12761                                 NaN\n",
       "12762                                 NaN\n",
       "12763                                 NaN\n",
       "12764                                 NaN\n",
       "12765                                 NaN\n",
       "Name: Minor Rock 1, Length: 12766, dtype: object"
      ]
     },
     "execution_count": 12,
     "metadata": {},
     "output_type": "execute_result"
    }
   ],
   "source": [
    "volcanoes['Minor Rock 1']"
   ]
  },
  {
   "cell_type": "markdown",
   "metadata": {},
   "source": [
    "Arriba se puede ver que no solo hay valores faltantes en forma de NaNs, sino que también como *whitespaces*, por lo que tenemos que filtrar esos valores, adicionalmente."
   ]
  },
  {
   "cell_type": "code",
   "execution_count": 13,
   "metadata": {},
   "outputs": [
    {
     "data": {
      "text/html": [
       "<div>\n",
       "<style scoped>\n",
       "    .dataframe tbody tr th:only-of-type {\n",
       "        vertical-align: middle;\n",
       "    }\n",
       "\n",
       "    .dataframe tbody tr th {\n",
       "        vertical-align: top;\n",
       "    }\n",
       "\n",
       "    .dataframe thead th {\n",
       "        text-align: right;\n",
       "    }\n",
       "</style>\n",
       "<table border=\"1\" class=\"dataframe\">\n",
       "  <thead>\n",
       "    <tr style=\"text-align: right;\">\n",
       "      <th></th>\n",
       "      <th>Volcano Number</th>\n",
       "      <th>Volcano Name</th>\n",
       "      <th>Primary Volcano Type</th>\n",
       "      <th>Last Eruption Year</th>\n",
       "      <th>Country</th>\n",
       "      <th>Region</th>\n",
       "      <th>Subregion</th>\n",
       "      <th>Latitude</th>\n",
       "      <th>Longitude</th>\n",
       "      <th>Elevation</th>\n",
       "      <th>...</th>\n",
       "      <th>Major Rock 5</th>\n",
       "      <th>Minor Rock 1</th>\n",
       "      <th>Minor Rock 2</th>\n",
       "      <th>Minor Rock 3</th>\n",
       "      <th>Minor Rock 4</th>\n",
       "      <th>Minor Rock 5</th>\n",
       "      <th>Population within 5 km</th>\n",
       "      <th>Population within 10 km</th>\n",
       "      <th>Population within 30 km</th>\n",
       "      <th>Population within 100 km</th>\n",
       "    </tr>\n",
       "  </thead>\n",
       "  <tbody>\n",
       "    <tr>\n",
       "      <th>25</th>\n",
       "      <td>342080</td>\n",
       "      <td>Acatenango</td>\n",
       "      <td>Stratovolcano(es)</td>\n",
       "      <td>1972</td>\n",
       "      <td>Guatemala</td>\n",
       "      <td>México and Central America</td>\n",
       "      <td>Guatemala</td>\n",
       "      <td>14.501</td>\n",
       "      <td>-90.876</td>\n",
       "      <td>3976.0</td>\n",
       "      <td>...</td>\n",
       "      <td></td>\n",
       "      <td>Basalt / Picro-Basalt</td>\n",
       "      <td></td>\n",
       "      <td></td>\n",
       "      <td></td>\n",
       "      <td></td>\n",
       "      <td>4329.0</td>\n",
       "      <td>60730.0</td>\n",
       "      <td>1042836.0</td>\n",
       "      <td>7634778.0</td>\n",
       "    </tr>\n",
       "    <tr>\n",
       "      <th>44</th>\n",
       "      <td>321040</td>\n",
       "      <td>Adams</td>\n",
       "      <td>Stratovolcano</td>\n",
       "      <td>950</td>\n",
       "      <td>United States</td>\n",
       "      <td>Canada and Western USA</td>\n",
       "      <td>USA (Washington)</td>\n",
       "      <td>46.206</td>\n",
       "      <td>-121.490</td>\n",
       "      <td>3742.0</td>\n",
       "      <td>...</td>\n",
       "      <td></td>\n",
       "      <td>Dacite</td>\n",
       "      <td></td>\n",
       "      <td></td>\n",
       "      <td></td>\n",
       "      <td></td>\n",
       "      <td>0.0</td>\n",
       "      <td>70.0</td>\n",
       "      <td>4019.0</td>\n",
       "      <td>393303.0</td>\n",
       "    </tr>\n",
       "    <tr>\n",
       "      <th>45</th>\n",
       "      <td>333050</td>\n",
       "      <td>Adams Seamount</td>\n",
       "      <td>Submarine</td>\n",
       "      <td>-50</td>\n",
       "      <td>Undersea Features</td>\n",
       "      <td>Hawaii and Pacific Ocean</td>\n",
       "      <td>Pacific Ocean (central)</td>\n",
       "      <td>-25.370</td>\n",
       "      <td>-129.270</td>\n",
       "      <td>-39.0</td>\n",
       "      <td>...</td>\n",
       "      <td></td>\n",
       "      <td>Andesite / Basaltic Andesite</td>\n",
       "      <td>Trachyandesite / Basaltic Trachyandesite</td>\n",
       "      <td></td>\n",
       "      <td></td>\n",
       "      <td></td>\n",
       "      <td>0.0</td>\n",
       "      <td>0.0</td>\n",
       "      <td>0.0</td>\n",
       "      <td>44.0</td>\n",
       "    </tr>\n",
       "    <tr>\n",
       "      <th>48</th>\n",
       "      <td>283170</td>\n",
       "      <td>Adatarayama</td>\n",
       "      <td>Stratovolcano(es)</td>\n",
       "      <td>1996</td>\n",
       "      <td>Japan</td>\n",
       "      <td>Japan, Taiwan, Marianas</td>\n",
       "      <td>Honshu</td>\n",
       "      <td>37.647</td>\n",
       "      <td>140.281</td>\n",
       "      <td>1728.0</td>\n",
       "      <td>...</td>\n",
       "      <td></td>\n",
       "      <td>Basalt / Picro-Basalt</td>\n",
       "      <td>Dacite</td>\n",
       "      <td></td>\n",
       "      <td></td>\n",
       "      <td></td>\n",
       "      <td>428.0</td>\n",
       "      <td>3936.0</td>\n",
       "      <td>717078.0</td>\n",
       "      <td>5024654.0</td>\n",
       "    </tr>\n",
       "    <tr>\n",
       "      <th>64</th>\n",
       "      <td>221110</td>\n",
       "      <td>Afdera</td>\n",
       "      <td>Stratovolcano</td>\n",
       "      <td>Unknown</td>\n",
       "      <td>Ethiopia</td>\n",
       "      <td>Africa and Red Sea</td>\n",
       "      <td>Africa (northeastern) and Red Sea</td>\n",
       "      <td>13.088</td>\n",
       "      <td>40.853</td>\n",
       "      <td>1250.0</td>\n",
       "      <td>...</td>\n",
       "      <td></td>\n",
       "      <td>Andesite / Basaltic Andesite</td>\n",
       "      <td>Basalt / Picro-Basalt</td>\n",
       "      <td>Trachybasalt / Tephrite Basanite</td>\n",
       "      <td></td>\n",
       "      <td></td>\n",
       "      <td>51.0</td>\n",
       "      <td>6042.0</td>\n",
       "      <td>8611.0</td>\n",
       "      <td>161009.0</td>\n",
       "    </tr>\n",
       "  </tbody>\n",
       "</table>\n",
       "<p>5 rows × 26 columns</p>\n",
       "</div>"
      ],
      "text/plain": [
       "    Volcano Number    Volcano Name Primary Volcano Type Last Eruption Year  \\\n",
       "25          342080      Acatenango    Stratovolcano(es)               1972   \n",
       "44          321040           Adams        Stratovolcano                950   \n",
       "45          333050  Adams Seamount            Submarine                -50   \n",
       "48          283170     Adatarayama    Stratovolcano(es)               1996   \n",
       "64          221110          Afdera        Stratovolcano            Unknown   \n",
       "\n",
       "              Country                      Region  \\\n",
       "25          Guatemala  México and Central America   \n",
       "44      United States      Canada and Western USA   \n",
       "45  Undersea Features    Hawaii and Pacific Ocean   \n",
       "48              Japan     Japan, Taiwan, Marianas   \n",
       "64           Ethiopia          Africa and Red Sea   \n",
       "\n",
       "                            Subregion  Latitude  Longitude  Elevation  \\\n",
       "25                          Guatemala    14.501    -90.876     3976.0   \n",
       "44                   USA (Washington)    46.206   -121.490     3742.0   \n",
       "45            Pacific Ocean (central)   -25.370   -129.270      -39.0   \n",
       "48                             Honshu    37.647    140.281     1728.0   \n",
       "64  Africa (northeastern) and Red Sea    13.088     40.853     1250.0   \n",
       "\n",
       "             ...            Major Rock 5                  Minor Rock 1  \\\n",
       "25           ...                                 Basalt / Picro-Basalt   \n",
       "44           ...                                                Dacite   \n",
       "45           ...                          Andesite / Basaltic Andesite   \n",
       "48           ...                                 Basalt / Picro-Basalt   \n",
       "64           ...                          Andesite / Basaltic Andesite   \n",
       "\n",
       "                                Minor Rock 2  \\\n",
       "25                                             \n",
       "44                                             \n",
       "45  Trachyandesite / Basaltic Trachyandesite   \n",
       "48                                    Dacite   \n",
       "64                     Basalt / Picro-Basalt   \n",
       "\n",
       "                        Minor Rock 3 Minor Rock 4 Minor Rock 5  \\\n",
       "25                                                               \n",
       "44                                                               \n",
       "45                                                               \n",
       "48                                                               \n",
       "64  Trachybasalt / Tephrite Basanite                             \n",
       "\n",
       "   Population within 5 km Population within 10 km Population within 30 km  \\\n",
       "25                 4329.0                 60730.0               1042836.0   \n",
       "44                    0.0                    70.0                  4019.0   \n",
       "45                    0.0                     0.0                     0.0   \n",
       "48                  428.0                  3936.0                717078.0   \n",
       "64                   51.0                  6042.0                  8611.0   \n",
       "\n",
       "   Population within 100 km  \n",
       "25                7634778.0  \n",
       "44                 393303.0  \n",
       "45                     44.0  \n",
       "48                5024654.0  \n",
       "64                 161009.0  \n",
       "\n",
       "[5 rows x 26 columns]"
      ]
     },
     "execution_count": 13,
     "metadata": {},
     "output_type": "execute_result"
    }
   ],
   "source": [
    "volcanoes_minor_rock = volcanoes.loc[\n",
    "    volcanoes['Minor Rock 1'].notnull() & \n",
    "    ~(volcanoes['Minor Rock 1'].str.strip() == '')\n",
    "]\n",
    "volcanoes_minor_rock.head()"
   ]
  },
  {
   "cell_type": "markdown",
   "metadata": {},
   "source": [
    "#### Join\n",
    "Si necesitaramos juntar información de los volcanes con la información de las erupciones, podríamos hacer un *join*"
   ]
  },
  {
   "cell_type": "code",
   "execution_count": 14,
   "metadata": {},
   "outputs": [
    {
     "data": {
      "text/html": [
       "<div>\n",
       "<style scoped>\n",
       "    .dataframe tbody tr th:only-of-type {\n",
       "        vertical-align: middle;\n",
       "    }\n",
       "\n",
       "    .dataframe tbody tr th {\n",
       "        vertical-align: top;\n",
       "    }\n",
       "\n",
       "    .dataframe thead th {\n",
       "        text-align: right;\n",
       "    }\n",
       "</style>\n",
       "<table border=\"1\" class=\"dataframe\">\n",
       "  <thead>\n",
       "    <tr style=\"text-align: right;\">\n",
       "      <th></th>\n",
       "      <th>Volcano Number</th>\n",
       "      <th>Volcano Name_x</th>\n",
       "      <th>Primary Volcano Type</th>\n",
       "      <th>Last Eruption Year</th>\n",
       "      <th>Country</th>\n",
       "      <th>Region</th>\n",
       "      <th>Subregion</th>\n",
       "      <th>Latitude_x</th>\n",
       "      <th>Longitude_x</th>\n",
       "      <th>Elevation</th>\n",
       "      <th>...</th>\n",
       "      <th>Evidence Method (dating)</th>\n",
       "      <th>End Year Modifier</th>\n",
       "      <th>End Year</th>\n",
       "      <th>End Year Uncertainty</th>\n",
       "      <th>End Month</th>\n",
       "      <th>End Day Modifier</th>\n",
       "      <th>End Day</th>\n",
       "      <th>End Day Uncertainty</th>\n",
       "      <th>Latitude_y</th>\n",
       "      <th>Longitude_y</th>\n",
       "    </tr>\n",
       "  </thead>\n",
       "  <tbody>\n",
       "    <tr>\n",
       "      <th>0</th>\n",
       "      <td>343050</td>\n",
       "      <td>14 de Marzo, Cerro</td>\n",
       "      <td>Pyroclastic cone of San Salvador</td>\n",
       "      <td>NaN</td>\n",
       "      <td>NaN</td>\n",
       "      <td>NaN</td>\n",
       "      <td>NaN</td>\n",
       "      <td>NaN</td>\n",
       "      <td>NaN</td>\n",
       "      <td>NaN</td>\n",
       "      <td>...</td>\n",
       "      <td>Historical Observations</td>\n",
       "      <td>NaN</td>\n",
       "      <td>1917.0</td>\n",
       "      <td>NaN</td>\n",
       "      <td>11.0</td>\n",
       "      <td>NaN</td>\n",
       "      <td>0.0</td>\n",
       "      <td>NaN</td>\n",
       "      <td>13.734</td>\n",
       "      <td>-89.294</td>\n",
       "    </tr>\n",
       "    <tr>\n",
       "      <th>1</th>\n",
       "      <td>343050</td>\n",
       "      <td>14 de Marzo, Cerro</td>\n",
       "      <td>Pyroclastic cone of San Salvador</td>\n",
       "      <td>NaN</td>\n",
       "      <td>NaN</td>\n",
       "      <td>NaN</td>\n",
       "      <td>NaN</td>\n",
       "      <td>NaN</td>\n",
       "      <td>NaN</td>\n",
       "      <td>NaN</td>\n",
       "      <td>...</td>\n",
       "      <td>NaN</td>\n",
       "      <td>NaN</td>\n",
       "      <td>NaN</td>\n",
       "      <td>NaN</td>\n",
       "      <td>NaN</td>\n",
       "      <td>NaN</td>\n",
       "      <td>NaN</td>\n",
       "      <td>NaN</td>\n",
       "      <td>13.734</td>\n",
       "      <td>-89.294</td>\n",
       "    </tr>\n",
       "    <tr>\n",
       "      <th>2</th>\n",
       "      <td>343050</td>\n",
       "      <td>14 de Marzo, Cerro</td>\n",
       "      <td>Pyroclastic cone of San Salvador</td>\n",
       "      <td>NaN</td>\n",
       "      <td>NaN</td>\n",
       "      <td>NaN</td>\n",
       "      <td>NaN</td>\n",
       "      <td>NaN</td>\n",
       "      <td>NaN</td>\n",
       "      <td>NaN</td>\n",
       "      <td>...</td>\n",
       "      <td>Historical Observations</td>\n",
       "      <td>NaN</td>\n",
       "      <td>1671.0</td>\n",
       "      <td>NaN</td>\n",
       "      <td>8.0</td>\n",
       "      <td>&gt;</td>\n",
       "      <td>NaN</td>\n",
       "      <td>NaN</td>\n",
       "      <td>13.734</td>\n",
       "      <td>-89.294</td>\n",
       "    </tr>\n",
       "    <tr>\n",
       "      <th>3</th>\n",
       "      <td>343050</td>\n",
       "      <td>14 de Marzo, Cerro</td>\n",
       "      <td>Pyroclastic cone of San Salvador</td>\n",
       "      <td>NaN</td>\n",
       "      <td>NaN</td>\n",
       "      <td>NaN</td>\n",
       "      <td>NaN</td>\n",
       "      <td>NaN</td>\n",
       "      <td>NaN</td>\n",
       "      <td>NaN</td>\n",
       "      <td>...</td>\n",
       "      <td>Historical Observations</td>\n",
       "      <td>NaN</td>\n",
       "      <td>NaN</td>\n",
       "      <td>NaN</td>\n",
       "      <td>NaN</td>\n",
       "      <td>NaN</td>\n",
       "      <td>NaN</td>\n",
       "      <td>NaN</td>\n",
       "      <td>13.734</td>\n",
       "      <td>-89.294</td>\n",
       "    </tr>\n",
       "    <tr>\n",
       "      <th>4</th>\n",
       "      <td>343050</td>\n",
       "      <td>14 de Marzo, Cerro</td>\n",
       "      <td>Pyroclastic cone of San Salvador</td>\n",
       "      <td>NaN</td>\n",
       "      <td>NaN</td>\n",
       "      <td>NaN</td>\n",
       "      <td>NaN</td>\n",
       "      <td>NaN</td>\n",
       "      <td>NaN</td>\n",
       "      <td>NaN</td>\n",
       "      <td>...</td>\n",
       "      <td>Anthropology</td>\n",
       "      <td>NaN</td>\n",
       "      <td>NaN</td>\n",
       "      <td>NaN</td>\n",
       "      <td>NaN</td>\n",
       "      <td>NaN</td>\n",
       "      <td>NaN</td>\n",
       "      <td>NaN</td>\n",
       "      <td>13.734</td>\n",
       "      <td>-89.294</td>\n",
       "    </tr>\n",
       "  </tbody>\n",
       "</table>\n",
       "<p>5 rows × 49 columns</p>\n",
       "</div>"
      ],
      "text/plain": [
       "   Volcano Number      Volcano Name_x              Primary Volcano Type  \\\n",
       "0          343050  14 de Marzo, Cerro  Pyroclastic cone of San Salvador   \n",
       "1          343050  14 de Marzo, Cerro  Pyroclastic cone of San Salvador   \n",
       "2          343050  14 de Marzo, Cerro  Pyroclastic cone of San Salvador   \n",
       "3          343050  14 de Marzo, Cerro  Pyroclastic cone of San Salvador   \n",
       "4          343050  14 de Marzo, Cerro  Pyroclastic cone of San Salvador   \n",
       "\n",
       "  Last Eruption Year Country Region Subregion  Latitude_x  Longitude_x  \\\n",
       "0                NaN     NaN    NaN       NaN         NaN          NaN   \n",
       "1                NaN     NaN    NaN       NaN         NaN          NaN   \n",
       "2                NaN     NaN    NaN       NaN         NaN          NaN   \n",
       "3                NaN     NaN    NaN       NaN         NaN          NaN   \n",
       "4                NaN     NaN    NaN       NaN         NaN          NaN   \n",
       "\n",
       "   Elevation     ...     Evidence Method (dating) End Year Modifier End Year  \\\n",
       "0        NaN     ...      Historical Observations               NaN   1917.0   \n",
       "1        NaN     ...                          NaN               NaN      NaN   \n",
       "2        NaN     ...      Historical Observations               NaN   1671.0   \n",
       "3        NaN     ...      Historical Observations               NaN      NaN   \n",
       "4        NaN     ...                 Anthropology               NaN      NaN   \n",
       "\n",
       "  End Year Uncertainty End Month End Day Modifier End Day End Day Uncertainty  \\\n",
       "0                  NaN      11.0              NaN     0.0                 NaN   \n",
       "1                  NaN       NaN              NaN     NaN                 NaN   \n",
       "2                  NaN       8.0                >     NaN                 NaN   \n",
       "3                  NaN       NaN              NaN     NaN                 NaN   \n",
       "4                  NaN       NaN              NaN     NaN                 NaN   \n",
       "\n",
       "  Latitude_y Longitude_y  \n",
       "0     13.734     -89.294  \n",
       "1     13.734     -89.294  \n",
       "2     13.734     -89.294  \n",
       "3     13.734     -89.294  \n",
       "4     13.734     -89.294  \n",
       "\n",
       "[5 rows x 49 columns]"
      ]
     },
     "execution_count": 14,
     "metadata": {},
     "output_type": "execute_result"
    }
   ],
   "source": [
    "volruptions = volcanoes.merge(eruptions, on='Volcano Number')\n",
    "volruptions.head()"
   ]
  },
  {
   "cell_type": "code",
   "execution_count": 15,
   "metadata": {},
   "outputs": [
    {
     "data": {
      "text/plain": [
       "0               Volcano Number\n",
       "1               Volcano Name_x\n",
       "2         Primary Volcano Type\n",
       "3           Last Eruption Year\n",
       "4                      Country\n",
       "5                       Region\n",
       "6                    Subregion\n",
       "7                   Latitude_x\n",
       "8                  Longitude_x\n",
       "9                    Elevation\n",
       "10           Tectonic Settings\n",
       "11           Evidence Category\n",
       "12                Major Rock 1\n",
       "13                Major Rock 2\n",
       "14                Major Rock 3\n",
       "15                Major Rock 4\n",
       "16                Major Rock 5\n",
       "17                Minor Rock 1\n",
       "18                Minor Rock 2\n",
       "19                Minor Rock 3\n",
       "20                Minor Rock 4\n",
       "21                Minor Rock 5\n",
       "22      Population within 5 km\n",
       "23     Population within 10 km\n",
       "24     Population within 30 km\n",
       "25    Population within 100 km\n",
       "26              Volcano Name_y\n",
       "27             Eruption Number\n",
       "28           Eruption Category\n",
       "29            Area of Activity\n",
       "30                         VEI\n",
       "31                VEI Modifier\n",
       "32         Start Year Modifier\n",
       "33                  Start Year\n",
       "34      Start Year Uncertainty\n",
       "35                 Start Month\n",
       "36          Start Day Modifier\n",
       "37                   Start Day\n",
       "38       Start Day Uncertainty\n",
       "39    Evidence Method (dating)\n",
       "40           End Year Modifier\n",
       "41                    End Year\n",
       "42        End Year Uncertainty\n",
       "43                   End Month\n",
       "44            End Day Modifier\n",
       "45                     End Day\n",
       "46         End Day Uncertainty\n",
       "47                  Latitude_y\n",
       "48                 Longitude_y\n",
       "dtype: object"
      ]
     },
     "execution_count": 15,
     "metadata": {},
     "output_type": "execute_result"
    }
   ],
   "source": [
    "pd.Series(volruptions.columns)"
   ]
  },
  {
   "cell_type": "markdown",
   "metadata": {},
   "source": [
    "Rellenar valores"
   ]
  },
  {
   "cell_type": "code",
   "execution_count": 16,
   "metadata": {},
   "outputs": [
    {
     "data": {
      "text/plain": [
       "Basalt / Picro-Basalt           79\n",
       "Dacite                          58\n",
       "Andesite / Basaltic Andesite    35\n",
       "Rhyolite                        28\n",
       "Trachyte / Trachydacite         23\n",
       "Name: Minor Rock 1, dtype: int64"
      ]
     },
     "execution_count": 16,
     "metadata": {},
     "output_type": "execute_result"
    }
   ],
   "source": [
    "rock_types_count = volcanoes_minor_rock['Minor Rock 1'].value_counts()\n",
    "rock_types_count.head()"
   ]
  },
  {
   "cell_type": "code",
   "execution_count": 17,
   "metadata": {},
   "outputs": [],
   "source": [
    "most_frquent_rock = rock_types_count.idxmax()"
   ]
  },
  {
   "cell_type": "code",
   "execution_count": 18,
   "metadata": {},
   "outputs": [
    {
     "data": {
      "text/html": [
       "<div>\n",
       "<style scoped>\n",
       "    .dataframe tbody tr th:only-of-type {\n",
       "        vertical-align: middle;\n",
       "    }\n",
       "\n",
       "    .dataframe tbody tr th {\n",
       "        vertical-align: top;\n",
       "    }\n",
       "\n",
       "    .dataframe thead th {\n",
       "        text-align: right;\n",
       "    }\n",
       "</style>\n",
       "<table border=\"1\" class=\"dataframe\">\n",
       "  <thead>\n",
       "    <tr style=\"text-align: right;\">\n",
       "      <th></th>\n",
       "      <th>Volcano Number</th>\n",
       "      <th>Volcano Name</th>\n",
       "      <th>Primary Volcano Type</th>\n",
       "      <th>Last Eruption Year</th>\n",
       "      <th>Country</th>\n",
       "      <th>Region</th>\n",
       "      <th>Subregion</th>\n",
       "      <th>Latitude</th>\n",
       "      <th>Longitude</th>\n",
       "      <th>Elevation</th>\n",
       "      <th>...</th>\n",
       "      <th>Major Rock 5</th>\n",
       "      <th>Minor Rock 1</th>\n",
       "      <th>Minor Rock 2</th>\n",
       "      <th>Minor Rock 3</th>\n",
       "      <th>Minor Rock 4</th>\n",
       "      <th>Minor Rock 5</th>\n",
       "      <th>Population within 5 km</th>\n",
       "      <th>Population within 10 km</th>\n",
       "      <th>Population within 30 km</th>\n",
       "      <th>Population within 100 km</th>\n",
       "    </tr>\n",
       "  </thead>\n",
       "  <tbody>\n",
       "    <tr>\n",
       "      <th>0</th>\n",
       "      <td>343050</td>\n",
       "      <td>14 de Marzo, Cerro</td>\n",
       "      <td>Pyroclastic cone of San Salvador</td>\n",
       "      <td>NaN</td>\n",
       "      <td>NaN</td>\n",
       "      <td>NaN</td>\n",
       "      <td>NaN</td>\n",
       "      <td>NaN</td>\n",
       "      <td>NaN</td>\n",
       "      <td>NaN</td>\n",
       "      <td>...</td>\n",
       "      <td>NaN</td>\n",
       "      <td>Basalt / Picro-Basalt</td>\n",
       "      <td>NaN</td>\n",
       "      <td>NaN</td>\n",
       "      <td>NaN</td>\n",
       "      <td>NaN</td>\n",
       "      <td>NaN</td>\n",
       "      <td>NaN</td>\n",
       "      <td>NaN</td>\n",
       "      <td>NaN</td>\n",
       "    </tr>\n",
       "    <tr>\n",
       "      <th>1</th>\n",
       "      <td>221170</td>\n",
       "      <td>Aabida</td>\n",
       "      <td>Synonym of Adwa</td>\n",
       "      <td>NaN</td>\n",
       "      <td>NaN</td>\n",
       "      <td>NaN</td>\n",
       "      <td>NaN</td>\n",
       "      <td>NaN</td>\n",
       "      <td>NaN</td>\n",
       "      <td>NaN</td>\n",
       "      <td>...</td>\n",
       "      <td>NaN</td>\n",
       "      <td>Basalt / Picro-Basalt</td>\n",
       "      <td>NaN</td>\n",
       "      <td>NaN</td>\n",
       "      <td>NaN</td>\n",
       "      <td>NaN</td>\n",
       "      <td>NaN</td>\n",
       "      <td>NaN</td>\n",
       "      <td>NaN</td>\n",
       "      <td>NaN</td>\n",
       "    </tr>\n",
       "    <tr>\n",
       "      <th>2</th>\n",
       "      <td>232010</td>\n",
       "      <td>Ab E Garm</td>\n",
       "      <td>Thermal of Damavand</td>\n",
       "      <td>NaN</td>\n",
       "      <td>NaN</td>\n",
       "      <td>NaN</td>\n",
       "      <td>NaN</td>\n",
       "      <td>NaN</td>\n",
       "      <td>NaN</td>\n",
       "      <td>NaN</td>\n",
       "      <td>...</td>\n",
       "      <td>NaN</td>\n",
       "      <td>Basalt / Picro-Basalt</td>\n",
       "      <td>NaN</td>\n",
       "      <td>NaN</td>\n",
       "      <td>NaN</td>\n",
       "      <td>NaN</td>\n",
       "      <td>NaN</td>\n",
       "      <td>NaN</td>\n",
       "      <td>NaN</td>\n",
       "      <td>NaN</td>\n",
       "    </tr>\n",
       "    <tr>\n",
       "      <th>3</th>\n",
       "      <td>264010</td>\n",
       "      <td>Abang, Gunung</td>\n",
       "      <td>Stratovolcano of Batur</td>\n",
       "      <td>NaN</td>\n",
       "      <td>NaN</td>\n",
       "      <td>NaN</td>\n",
       "      <td>NaN</td>\n",
       "      <td>NaN</td>\n",
       "      <td>NaN</td>\n",
       "      <td>NaN</td>\n",
       "      <td>...</td>\n",
       "      <td>NaN</td>\n",
       "      <td>Basalt / Picro-Basalt</td>\n",
       "      <td>NaN</td>\n",
       "      <td>NaN</td>\n",
       "      <td>NaN</td>\n",
       "      <td>NaN</td>\n",
       "      <td>NaN</td>\n",
       "      <td>NaN</td>\n",
       "      <td>NaN</td>\n",
       "      <td>NaN</td>\n",
       "    </tr>\n",
       "    <tr>\n",
       "      <th>4</th>\n",
       "      <td>221290</td>\n",
       "      <td>Abaro</td>\n",
       "      <td>Cone of Corbetti Caldera</td>\n",
       "      <td>NaN</td>\n",
       "      <td>NaN</td>\n",
       "      <td>NaN</td>\n",
       "      <td>NaN</td>\n",
       "      <td>NaN</td>\n",
       "      <td>NaN</td>\n",
       "      <td>NaN</td>\n",
       "      <td>...</td>\n",
       "      <td>NaN</td>\n",
       "      <td>Basalt / Picro-Basalt</td>\n",
       "      <td>NaN</td>\n",
       "      <td>NaN</td>\n",
       "      <td>NaN</td>\n",
       "      <td>NaN</td>\n",
       "      <td>NaN</td>\n",
       "      <td>NaN</td>\n",
       "      <td>NaN</td>\n",
       "      <td>NaN</td>\n",
       "    </tr>\n",
       "  </tbody>\n",
       "</table>\n",
       "<p>5 rows × 26 columns</p>\n",
       "</div>"
      ],
      "text/plain": [
       "   Volcano Number        Volcano Name              Primary Volcano Type  \\\n",
       "0          343050  14 de Marzo, Cerro  Pyroclastic cone of San Salvador   \n",
       "1          221170              Aabida                   Synonym of Adwa   \n",
       "2          232010           Ab E Garm               Thermal of Damavand   \n",
       "3          264010       Abang, Gunung            Stratovolcano of Batur   \n",
       "4          221290               Abaro          Cone of Corbetti Caldera   \n",
       "\n",
       "  Last Eruption Year Country Region Subregion  Latitude  Longitude  Elevation  \\\n",
       "0                NaN     NaN    NaN       NaN       NaN        NaN        NaN   \n",
       "1                NaN     NaN    NaN       NaN       NaN        NaN        NaN   \n",
       "2                NaN     NaN    NaN       NaN       NaN        NaN        NaN   \n",
       "3                NaN     NaN    NaN       NaN       NaN        NaN        NaN   \n",
       "4                NaN     NaN    NaN       NaN       NaN        NaN        NaN   \n",
       "\n",
       "            ...            Major Rock 5           Minor Rock 1 Minor Rock 2  \\\n",
       "0           ...                     NaN  Basalt / Picro-Basalt          NaN   \n",
       "1           ...                     NaN  Basalt / Picro-Basalt          NaN   \n",
       "2           ...                     NaN  Basalt / Picro-Basalt          NaN   \n",
       "3           ...                     NaN  Basalt / Picro-Basalt          NaN   \n",
       "4           ...                     NaN  Basalt / Picro-Basalt          NaN   \n",
       "\n",
       "  Minor Rock 3 Minor Rock 4 Minor Rock 5 Population within 5 km  \\\n",
       "0          NaN          NaN          NaN                    NaN   \n",
       "1          NaN          NaN          NaN                    NaN   \n",
       "2          NaN          NaN          NaN                    NaN   \n",
       "3          NaN          NaN          NaN                    NaN   \n",
       "4          NaN          NaN          NaN                    NaN   \n",
       "\n",
       "  Population within 10 km Population within 30 km Population within 100 km  \n",
       "0                     NaN                     NaN                      NaN  \n",
       "1                     NaN                     NaN                      NaN  \n",
       "2                     NaN                     NaN                      NaN  \n",
       "3                     NaN                     NaN                      NaN  \n",
       "4                     NaN                     NaN                      NaN  \n",
       "\n",
       "[5 rows x 26 columns]"
      ]
     },
     "execution_count": 18,
     "metadata": {},
     "output_type": "execute_result"
    }
   ],
   "source": [
    "volcanoes.fillna(value={'Minor Rock 1': most_frquent_rock}).head()"
   ]
  },
  {
   "cell_type": "markdown",
   "metadata": {},
   "source": [
    "# Parte 2: PCA"
   ]
  },
  {
   "cell_type": "code",
   "execution_count": 19,
   "metadata": {},
   "outputs": [],
   "source": [
    "from sklearn.preprocessing import scale\n",
    "from sklearn.datasets import load_breast_cancer\n",
    "from sklearn.decomposition import PCA\n",
    "import altair as alt"
   ]
  },
  {
   "cell_type": "markdown",
   "metadata": {},
   "source": [
    "Cargar datos de vinos de scikit-learn. Este dataset está limpio y listo para ser usado"
   ]
  },
  {
   "cell_type": "code",
   "execution_count": 20,
   "metadata": {},
   "outputs": [
    {
     "data": {
      "text/html": [
       "<div>\n",
       "<style scoped>\n",
       "    .dataframe tbody tr th:only-of-type {\n",
       "        vertical-align: middle;\n",
       "    }\n",
       "\n",
       "    .dataframe tbody tr th {\n",
       "        vertical-align: top;\n",
       "    }\n",
       "\n",
       "    .dataframe thead th {\n",
       "        text-align: right;\n",
       "    }\n",
       "</style>\n",
       "<table border=\"1\" class=\"dataframe\">\n",
       "  <thead>\n",
       "    <tr style=\"text-align: right;\">\n",
       "      <th></th>\n",
       "      <th>mean radius</th>\n",
       "      <th>mean texture</th>\n",
       "      <th>mean perimeter</th>\n",
       "      <th>mean area</th>\n",
       "      <th>mean smoothness</th>\n",
       "      <th>mean compactness</th>\n",
       "      <th>mean concavity</th>\n",
       "      <th>mean concave points</th>\n",
       "      <th>mean symmetry</th>\n",
       "      <th>mean fractal dimension</th>\n",
       "      <th>...</th>\n",
       "      <th>worst radius</th>\n",
       "      <th>worst texture</th>\n",
       "      <th>worst perimeter</th>\n",
       "      <th>worst area</th>\n",
       "      <th>worst smoothness</th>\n",
       "      <th>worst compactness</th>\n",
       "      <th>worst concavity</th>\n",
       "      <th>worst concave points</th>\n",
       "      <th>worst symmetry</th>\n",
       "      <th>worst fractal dimension</th>\n",
       "    </tr>\n",
       "  </thead>\n",
       "  <tbody>\n",
       "    <tr>\n",
       "      <th>0</th>\n",
       "      <td>17.99</td>\n",
       "      <td>10.38</td>\n",
       "      <td>122.80</td>\n",
       "      <td>1001.0</td>\n",
       "      <td>0.11840</td>\n",
       "      <td>0.27760</td>\n",
       "      <td>0.3001</td>\n",
       "      <td>0.14710</td>\n",
       "      <td>0.2419</td>\n",
       "      <td>0.07871</td>\n",
       "      <td>...</td>\n",
       "      <td>25.38</td>\n",
       "      <td>17.33</td>\n",
       "      <td>184.60</td>\n",
       "      <td>2019.0</td>\n",
       "      <td>0.1622</td>\n",
       "      <td>0.6656</td>\n",
       "      <td>0.7119</td>\n",
       "      <td>0.2654</td>\n",
       "      <td>0.4601</td>\n",
       "      <td>0.11890</td>\n",
       "    </tr>\n",
       "    <tr>\n",
       "      <th>1</th>\n",
       "      <td>20.57</td>\n",
       "      <td>17.77</td>\n",
       "      <td>132.90</td>\n",
       "      <td>1326.0</td>\n",
       "      <td>0.08474</td>\n",
       "      <td>0.07864</td>\n",
       "      <td>0.0869</td>\n",
       "      <td>0.07017</td>\n",
       "      <td>0.1812</td>\n",
       "      <td>0.05667</td>\n",
       "      <td>...</td>\n",
       "      <td>24.99</td>\n",
       "      <td>23.41</td>\n",
       "      <td>158.80</td>\n",
       "      <td>1956.0</td>\n",
       "      <td>0.1238</td>\n",
       "      <td>0.1866</td>\n",
       "      <td>0.2416</td>\n",
       "      <td>0.1860</td>\n",
       "      <td>0.2750</td>\n",
       "      <td>0.08902</td>\n",
       "    </tr>\n",
       "    <tr>\n",
       "      <th>2</th>\n",
       "      <td>19.69</td>\n",
       "      <td>21.25</td>\n",
       "      <td>130.00</td>\n",
       "      <td>1203.0</td>\n",
       "      <td>0.10960</td>\n",
       "      <td>0.15990</td>\n",
       "      <td>0.1974</td>\n",
       "      <td>0.12790</td>\n",
       "      <td>0.2069</td>\n",
       "      <td>0.05999</td>\n",
       "      <td>...</td>\n",
       "      <td>23.57</td>\n",
       "      <td>25.53</td>\n",
       "      <td>152.50</td>\n",
       "      <td>1709.0</td>\n",
       "      <td>0.1444</td>\n",
       "      <td>0.4245</td>\n",
       "      <td>0.4504</td>\n",
       "      <td>0.2430</td>\n",
       "      <td>0.3613</td>\n",
       "      <td>0.08758</td>\n",
       "    </tr>\n",
       "    <tr>\n",
       "      <th>3</th>\n",
       "      <td>11.42</td>\n",
       "      <td>20.38</td>\n",
       "      <td>77.58</td>\n",
       "      <td>386.1</td>\n",
       "      <td>0.14250</td>\n",
       "      <td>0.28390</td>\n",
       "      <td>0.2414</td>\n",
       "      <td>0.10520</td>\n",
       "      <td>0.2597</td>\n",
       "      <td>0.09744</td>\n",
       "      <td>...</td>\n",
       "      <td>14.91</td>\n",
       "      <td>26.50</td>\n",
       "      <td>98.87</td>\n",
       "      <td>567.7</td>\n",
       "      <td>0.2098</td>\n",
       "      <td>0.8663</td>\n",
       "      <td>0.6869</td>\n",
       "      <td>0.2575</td>\n",
       "      <td>0.6638</td>\n",
       "      <td>0.17300</td>\n",
       "    </tr>\n",
       "    <tr>\n",
       "      <th>4</th>\n",
       "      <td>20.29</td>\n",
       "      <td>14.34</td>\n",
       "      <td>135.10</td>\n",
       "      <td>1297.0</td>\n",
       "      <td>0.10030</td>\n",
       "      <td>0.13280</td>\n",
       "      <td>0.1980</td>\n",
       "      <td>0.10430</td>\n",
       "      <td>0.1809</td>\n",
       "      <td>0.05883</td>\n",
       "      <td>...</td>\n",
       "      <td>22.54</td>\n",
       "      <td>16.67</td>\n",
       "      <td>152.20</td>\n",
       "      <td>1575.0</td>\n",
       "      <td>0.1374</td>\n",
       "      <td>0.2050</td>\n",
       "      <td>0.4000</td>\n",
       "      <td>0.1625</td>\n",
       "      <td>0.2364</td>\n",
       "      <td>0.07678</td>\n",
       "    </tr>\n",
       "  </tbody>\n",
       "</table>\n",
       "<p>5 rows × 30 columns</p>\n",
       "</div>"
      ],
      "text/plain": [
       "   mean radius  mean texture  mean perimeter  mean area  mean smoothness  \\\n",
       "0        17.99         10.38          122.80     1001.0          0.11840   \n",
       "1        20.57         17.77          132.90     1326.0          0.08474   \n",
       "2        19.69         21.25          130.00     1203.0          0.10960   \n",
       "3        11.42         20.38           77.58      386.1          0.14250   \n",
       "4        20.29         14.34          135.10     1297.0          0.10030   \n",
       "\n",
       "   mean compactness  mean concavity  mean concave points  mean symmetry  \\\n",
       "0           0.27760          0.3001              0.14710         0.2419   \n",
       "1           0.07864          0.0869              0.07017         0.1812   \n",
       "2           0.15990          0.1974              0.12790         0.2069   \n",
       "3           0.28390          0.2414              0.10520         0.2597   \n",
       "4           0.13280          0.1980              0.10430         0.1809   \n",
       "\n",
       "   mean fractal dimension           ...             worst radius  \\\n",
       "0                 0.07871           ...                    25.38   \n",
       "1                 0.05667           ...                    24.99   \n",
       "2                 0.05999           ...                    23.57   \n",
       "3                 0.09744           ...                    14.91   \n",
       "4                 0.05883           ...                    22.54   \n",
       "\n",
       "   worst texture  worst perimeter  worst area  worst smoothness  \\\n",
       "0          17.33           184.60      2019.0            0.1622   \n",
       "1          23.41           158.80      1956.0            0.1238   \n",
       "2          25.53           152.50      1709.0            0.1444   \n",
       "3          26.50            98.87       567.7            0.2098   \n",
       "4          16.67           152.20      1575.0            0.1374   \n",
       "\n",
       "   worst compactness  worst concavity  worst concave points  worst symmetry  \\\n",
       "0             0.6656           0.7119                0.2654          0.4601   \n",
       "1             0.1866           0.2416                0.1860          0.2750   \n",
       "2             0.4245           0.4504                0.2430          0.3613   \n",
       "3             0.8663           0.6869                0.2575          0.6638   \n",
       "4             0.2050           0.4000                0.1625          0.2364   \n",
       "\n",
       "   worst fractal dimension  \n",
       "0                  0.11890  \n",
       "1                  0.08902  \n",
       "2                  0.08758  \n",
       "3                  0.17300  \n",
       "4                  0.07678  \n",
       "\n",
       "[5 rows x 30 columns]"
      ]
     },
     "execution_count": 20,
     "metadata": {},
     "output_type": "execute_result"
    }
   ],
   "source": [
    "# cargar los datos\n",
    "dataset = load_breast_cancer()\n",
    "\n",
    "# extraer los datos\n",
    "cancer_data = dataset['data']  # wines\n",
    "cancer_target = dataset['target']  # clases de los vinos\n",
    "cancer_features = dataset['feature_names'] # 13 atributos de los vinos\n",
    "\n",
    "# crear dataframe de vinos\n",
    "cancers = pd.DataFrame(cancer_data, columns=cancer_features)  # datos originales\n",
    "cancers.head()"
   ]
  },
  {
   "cell_type": "markdown",
   "metadata": {},
   "source": [
    "Hacer *Principal Component Analysis* con 2 componentes principales"
   ]
  },
  {
   "cell_type": "code",
   "execution_count": 23,
   "metadata": {},
   "outputs": [
    {
     "data": {
      "text/html": [
       "<div>\n",
       "<style scoped>\n",
       "    .dataframe tbody tr th:only-of-type {\n",
       "        vertical-align: middle;\n",
       "    }\n",
       "\n",
       "    .dataframe tbody tr th {\n",
       "        vertical-align: top;\n",
       "    }\n",
       "\n",
       "    .dataframe thead th {\n",
       "        text-align: right;\n",
       "    }\n",
       "</style>\n",
       "<table border=\"1\" class=\"dataframe\">\n",
       "  <thead>\n",
       "    <tr style=\"text-align: right;\">\n",
       "      <th></th>\n",
       "      <th>PC1</th>\n",
       "      <th>PC2</th>\n",
       "      <th>class</th>\n",
       "    </tr>\n",
       "  </thead>\n",
       "  <tbody>\n",
       "    <tr>\n",
       "      <th>0</th>\n",
       "      <td>1160.142574</td>\n",
       "      <td>-293.917544</td>\n",
       "      <td>0</td>\n",
       "    </tr>\n",
       "    <tr>\n",
       "      <th>1</th>\n",
       "      <td>1269.122443</td>\n",
       "      <td>15.630182</td>\n",
       "      <td>0</td>\n",
       "    </tr>\n",
       "    <tr>\n",
       "      <th>2</th>\n",
       "      <td>995.793889</td>\n",
       "      <td>39.156743</td>\n",
       "      <td>0</td>\n",
       "    </tr>\n",
       "    <tr>\n",
       "      <th>3</th>\n",
       "      <td>-407.180803</td>\n",
       "      <td>-67.380320</td>\n",
       "      <td>0</td>\n",
       "    </tr>\n",
       "    <tr>\n",
       "      <th>4</th>\n",
       "      <td>930.341180</td>\n",
       "      <td>189.340742</td>\n",
       "      <td>0</td>\n",
       "    </tr>\n",
       "  </tbody>\n",
       "</table>\n",
       "</div>"
      ],
      "text/plain": [
       "           PC1         PC2  class\n",
       "0  1160.142574 -293.917544      0\n",
       "1  1269.122443   15.630182      0\n",
       "2   995.793889   39.156743      0\n",
       "3  -407.180803  -67.380320      0\n",
       "4   930.341180  189.340742      0"
      ]
     },
     "execution_count": 23,
     "metadata": {},
     "output_type": "execute_result"
    }
   ],
   "source": [
    "pca = PCA(n_components=2, random_state=42)\n",
    "trans_cancers = pd.DataFrame(pca.fit_transform(cancers), columns=['PC1', 'PC2'])\n",
    "trans_cancers['class'] = cancer_target  # añadir columna 'class'\n",
    "trans_cancers.head()"
   ]
  },
  {
   "cell_type": "code",
   "execution_count": 24,
   "metadata": {},
   "outputs": [
    {
     "data": {
      "application/vnd.vegalite.v2+json": {
       "$schema": "https://vega.github.io/schema/vega-lite/v2.6.0.json",
       "config": {
        "view": {
         "height": 300,
         "width": 400
        }
       },
       "data": {
        "name": "data-460fc093e9a62b15ffdffd97ea2e35dc"
       },
       "datasets": {
        "data-460fc093e9a62b15ffdffd97ea2e35dc": [
         {
          "PC1": 1160.1425737041397,
          "PC2": -293.91754363738636,
          "class": 0
         },
         {
          "PC1": 1269.12244319365,
          "PC2": 15.630181843399635,
          "class": 0
         },
         {
          "PC1": 995.7938889594562,
          "PC2": 39.156743243945186,
          "class": 0
         },
         {
          "PC1": -407.1808025313544,
          "PC2": -67.38031982267424,
          "class": 0
         },
         {
          "PC1": 930.3411801543025,
          "PC2": 189.34074157803764,
          "class": 0
         },
         {
          "PC1": -211.59125901232838,
          "PC2": -79.87744625773048,
          "class": 0
         },
         {
          "PC1": 821.2108998864413,
          "PC2": -47.149669941656036,
          "class": 0
         },
         {
          "PC1": -25.08997758360814,
          "PC2": -74.18601460628634,
          "class": 0
         },
         {
          "PC1": -191.29283442652144,
          "PC2": -42.12648962430978,
          "class": 0
         },
         {
          "PC1": -238.2928631808369,
          "PC2": -65.38650691770252,
          "class": 0
         },
         {
          "PC1": 304.687818061543,
          "PC2": -17.72505983739341,
          "class": 0
         },
         {
          "PC1": 424.3611282803781,
          "PC2": -109.22029973153384,
          "class": 0
         },
         {
          "PC1": 634.5143351580115,
          "PC2": 167.20543573639043,
          "class": 0
         },
         {
          "PC1": 63.04269063463105,
          "PC2": 111.67757566869051,
          "class": 0
         },
         {
          "PC1": -196.44120953852118,
          "PC2": 29.657934246091763,
          "class": 0
         },
         {
          "PC1": 56.00468283228058,
          "PC2": -29.148348577334286,
          "class": 0
         },
         {
          "PC1": 235.85811954240282,
          "PC2": -108.42564295979139,
          "class": 0
         },
         {
          "PC1": 447.39277966390466,
          "PC2": -102.1515664421812,
          "class": 0
         },
         {
          "PC1": 1615.093452592813,
          "PC2": -270.3333510573439,
          "class": 0
         },
         {
          "PC1": -191.62104540131665,
          "PC2": 12.259177667474916,
          "class": 1
         },
         {
          "PC1": -285.0512749325815,
          "PC2": 14.557361895064139,
          "class": 1
         },
         {
          "PC1": -683.5839523267605,
          "PC2": -32.5761260158654,
          "class": 1
         },
         {
          "PC1": 112.56045884124175,
          "PC2": -9.160553988383434,
          "class": 0
         },
         {
          "PC1": 1873.7331160048827,
          "PC2": -260.19605533302064,
          "class": 0
         },
         {
          "PC1": 1273.7306565898778,
          "PC2": -479.3214187375355,
          "class": 0
         },
         {
          "PC1": 634.8797685243508,
          "PC2": -79.93167625015751,
          "class": 0
         },
         {
          "PC1": 8.59184125743859,
          "PC2": -16.984420544966035,
          "class": 0
         },
         {
          "PC1": 677.7845259117674,
          "PC2": 104.82466196501673,
          "class": 0
         },
         {
          "PC1": 373.7198814939228,
          "PC2": -135.33476275217717,
          "class": 0
         },
         {
          "PC1": 453.6780888143275,
          "PC2": 77.39995467565612,
          "class": 0
         },
         {
          "PC1": 903.9812789509617,
          "PC2": -38.910187661320215,
          "class": 0
         },
         {
          "PC1": -103.68931153801564,
          "PC2": -187.68532430520386,
          "class": 0
         },
         {
          "PC1": 524.9452025118678,
          "PC2": -31.2276266015029,
          "class": 0
         },
         {
          "PC1": 1062.171585560261,
          "PC2": -50.24014887747331,
          "class": 0
         },
         {
          "PC1": 404.3859342192015,
          "PC2": -67.07954492366353,
          "class": 0
         },
         {
          "PC1": 410.04975592483316,
          "PC2": 2.8641318972825163,
          "class": 0
         },
         {
          "PC1": -80.6577945765549,
          "PC2": 23.363527333296304,
          "class": 0
         },
         {
          "PC1": -355.87784973513936,
          "PC2": 61.535566174249325,
          "class": 1
         },
         {
          "PC1": -128.97315587393788,
          "PC2": 132.60688701385547,
          "class": 0
         },
         {
          "PC1": -170.24572278092265,
          "PC2": -9.054875298496267,
          "class": 0
         },
         {
          "PC1": -127.9947607777476,
          "PC2": -30.687498226414313,
          "class": 0
         },
         {
          "PC1": -462.028007692726,
          "PC2": -52.80258738773156,
          "class": 0
         },
         {
          "PC1": 897.0274270790976,
          "PC2": -15.172052511056776,
          "class": 0
         },
         {
          "PC1": -34.375201460396475,
          "PC2": -107.6727614964112,
          "class": 0
         },
         {
          "PC1": -184.7073626261095,
          "PC2": -33.080658852347675,
          "class": 0
         },
         {
          "PC1": 807.5645732939272,
          "PC2": 4.27138033525038,
          "class": 0
         },
         {
          "PC1": -783.8386677933679,
          "PC2": -56.82655599146681,
          "class": 1
         },
         {
          "PC1": -166.75718349978033,
          "PC2": -40.01468420854919,
          "class": 0
         },
         {
          "PC1": -362.69950661037683,
          "PC2": -21.215395240793057,
          "class": 1
         },
         {
          "PC1": -205.11174440093066,
          "PC2": 13.940287250910083,
          "class": 1
         },
         {
          "PC1": -430.0340798055237,
          "PC2": -5.319685089486329,
          "class": 1
         },
         {
          "PC1": -235.89353028364636,
          "PC2": 45.13060520767391,
          "class": 1
         },
         {
          "PC1": -416.46950683653455,
          "PC2": -2.5706880303051265,
          "class": 1
         },
         {
          "PC1": 576.3603078504784,
          "PC2": 95.45172422415311,
          "class": 0
         },
         {
          "PC1": 157.4040789382252,
          "PC2": -28.156747521710553,
          "class": 0
         },
         {
          "PC1": -448.9827192068151,
          "PC2": -16.141200147234798,
          "class": 1
         },
         {
          "PC1": 1342.1385654561552,
          "PC2": -231.14827000559885,
          "class": 0
         },
         {
          "PC1": 90.99894938374186,
          "PC2": -52.66424873021988,
          "class": 0
         },
         {
          "PC1": -286.1454358745159,
          "PC2": 23.933298243736875,
          "class": 1
         },
         {
          "PC1": -744.0918348203469,
          "PC2": -54.30082746794736,
          "class": 1
         },
         {
          "PC1": -616.729720715595,
          "PC2": -27.7352453151268,
          "class": 1
         },
         {
          "PC1": -745.600807968906,
          "PC2": -56.16454295227338,
          "class": 1
         },
         {
          "PC1": 64.40838621045887,
          "PC2": -48.46995593403433,
          "class": 0
         },
         {
          "PC1": -693.9616993308931,
          "PC2": -41.221187591294864,
          "class": 1
         },
         {
          "PC1": -74.27680463298483,
          "PC2": -137.5430707409066,
          "class": 0
         },
         {
          "PC1": 45.175429675415224,
          "PC2": -11.522659024919033,
          "class": 0
         },
         {
          "PC1": -672.3767040120723,
          "PC2": -44.8824624078169,
          "class": 1
         },
         {
          "PC1": -490.8795291842775,
          "PC2": -8.46032004072231,
          "class": 1
         },
         {
          "PC1": -687.2231991566654,
          "PC2": -57.79596750506483,
          "class": 1
         },
         {
          "PC1": -358.98187287202353,
          "PC2": 38.71049115429811,
          "class": 1
         },
         {
          "PC1": 1092.401047840692,
          "PC2": -105.03575927178257,
          "class": 0
         },
         {
          "PC1": -724.6625829953203,
          "PC2": -42.22810515325521,
          "class": 1
         },
         {
          "PC1": 828.5811984980518,
          "PC2": -180.66786869609936,
          "class": 0
         },
         {
          "PC1": -95.55636164961146,
          "PC2": -25.01734282996663,
          "class": 0
         },
         {
          "PC1": -327.21552272128946,
          "PC2": -17.594247794402857,
          "class": 1
         },
         {
          "PC1": 379.6023865196635,
          "PC2": -38.20142278469089,
          "class": 0
         },
         {
          "PC1": -285.27811923493545,
          "PC2": 61.34647503543569,
          "class": 1
         },
         {
          "PC1": 811.390004530354,
          "PC2": -77.41738010023155,
          "class": 0
         },
         {
          "PC1": 946.8658579311729,
          "PC2": 120.57415109578939,
          "class": 0
         },
         {
          "PC1": -299.25019585340135,
          "PC2": 7.078303393126318,
          "class": 1
         },
         {
          "PC1": -436.5039393307117,
          "PC2": -32.45033448638015,
          "class": 1
         },
         {
          "PC1": -298.3626559403288,
          "PC2": 22.672177339166346,
          "class": 1
         },
         {
          "PC1": 2077.4059386849112,
          "PC2": 173.51833851335874,
          "class": 0
         },
         {
          "PC1": 606.8243265597957,
          "PC2": 191.92337035603774,
          "class": 0
         },
         {
          "PC1": -378.6613858595138,
          "PC2": -18.84099565430115,
          "class": 1
         },
         {
          "PC1": 838.236033539416,
          "PC2": -15.47440777064427,
          "class": 0
         },
         {
          "PC1": -64.46308433683842,
          "PC2": 31.641266251501545,
          "class": 0
         },
         {
          "PC1": 854.6137988360956,
          "PC2": -25.18453065014096,
          "class": 0
         },
         {
          "PC1": -360.50012258830776,
          "PC2": -2.8285668663887016,
          "class": 1
         },
         {
          "PC1": -66.79162714579795,
          "PC2": 37.836772576455665,
          "class": 1
         },
         {
          "PC1": -61.94248440527733,
          "PC2": 46.67275027715951,
          "class": 1
         },
         {
          "PC1": -4.737083209296975,
          "PC2": 88.70351580664351,
          "class": 0
         },
         {
          "PC1": -96.55625224920298,
          "PC2": -62.3546964328208,
          "class": 1
         },
         {
          "PC1": -207.4772122367599,
          "PC2": 8.710406583717837,
          "class": 1
         },
         {
          "PC1": 150.75303730593296,
          "PC2": -31.266360519032713,
          "class": 0
         },
         {
          "PC1": 1062.2037615492743,
          "PC2": 69.83217009921852,
          "class": 0
         },
         {
          "PC1": -436.37354746181234,
          "PC2": 25.753837824692233,
          "class": 1
         },
         {
          "PC1": -628.7692957851033,
          "PC2": -41.65559211625132,
          "class": 1
         },
         {
          "PC1": -442.12124953207325,
          "PC2": -16.257399170391025,
          "class": 1
         },
         {
          "PC1": -53.10555282660548,
          "PC2": 17.59638692634543,
          "class": 0
         },
         {
          "PC1": -15.097025311119273,
          "PC2": -75.33594625017874,
          "class": 0
         },
         {
          "PC1": -863.1423077842004,
          "PC2": -77.39952056671882,
          "class": 1
         },
         {
          "PC1": -388.02703929350713,
          "PC2": 4.613189883849959,
          "class": 1
         },
         {
          "PC1": -631.2101936674543,
          "PC2": -35.8248172211671,
          "class": 1
         },
         {
          "PC1": -575.3755936192504,
          "PC2": -24.89222143237075,
          "class": 1
         },
         {
          "PC1": -110.47836154086994,
          "PC2": -78.76476106140198,
          "class": 0
         },
         {
          "PC1": -433.85587473150315,
          "PC2": -21.210520607554592,
          "class": 1
         },
         {
          "PC1": -387.25858908008126,
          "PC2": 13.49955980292558,
          "class": 1
         },
         {
          "PC1": 1716.4192215531189,
          "PC2": -36.5487343596072,
          "class": 0
         },
         {
          "PC1": -445.5942604789752,
          "PC2": -33.17914078144955,
          "class": 1
         },
         {
          "PC1": -629.9309318085042,
          "PC2": -45.66881436269896,
          "class": 1
         },
         {
          "PC1": -393.49561785953813,
          "PC2": 34.1547739347159,
          "class": 1
         },
         {
          "PC1": -159.55009014974092,
          "PC2": 68.20417402097513,
          "class": 1
         },
         {
          "PC1": -600.7745424199298,
          "PC2": -11.691616018206577,
          "class": 1
         },
         {
          "PC1": -732.3505584692604,
          "PC2": -53.7548690671918,
          "class": 1
         },
         {
          "PC1": -367.7523085142354,
          "PC2": -30.68792326318113,
          "class": 1
         },
         {
          "PC1": -736.7440057069264,
          "PC2": -33.80955098902495,
          "class": 1
         },
         {
          "PC1": 198.25072141969673,
          "PC2": -87.51014142473444,
          "class": 0
         },
         {
          "PC1": 402.2178698307658,
          "PC2": -93.71470143243137,
          "class": 0
         },
         {
          "PC1": 495.88690069594753,
          "PC2": 82.41878561287069,
          "class": 0
         },
         {
          "PC1": -448.93254730341346,
          "PC2": -23.222632693996985,
          "class": 1
         },
         {
          "PC1": 793.4673048111416,
          "PC2": 14.432702278101749,
          "class": 0
         },
         {
          "PC1": 1604.798404813112,
          "PC2": 328.66757000996483,
          "class": 0
         },
         {
          "PC1": -123.5245955799781,
          "PC2": 58.30163904145137,
          "class": 1
         },
         {
          "PC1": -266.55331986775656,
          "PC2": 42.263065146388286,
          "class": 1
         },
         {
          "PC1": -167.74712776328457,
          "PC2": 23.65573256294051,
          "class": 1
         },
         {
          "PC1": -70.65063465659885,
          "PC2": -54.09744156108749,
          "class": 0
         },
         {
          "PC1": 815.3241590523214,
          "PC2": 72.15386433938626,
          "class": 0
         },
         {
          "PC1": -90.24696964579431,
          "PC2": 78.61442512268219,
          "class": 1
         },
         {
          "PC1": 885.9992730856385,
          "PC2": 91.83357476015028,
          "class": 0
         },
         {
          "PC1": -391.3685339746679,
          "PC2": 3.833764143215283,
          "class": 1
         },
         {
          "PC1": 284.9481321352143,
          "PC2": -62.392014515933475,
          "class": 0
         },
         {
          "PC1": 332.7756876288491,
          "PC2": -20.219026487325884,
          "class": 0
         },
         {
          "PC1": 91.16660917847868,
          "PC2": 69.69070588009302,
          "class": 1
         },
         {
          "PC1": 826.1321270650723,
          "PC2": -8.924603675548052,
          "class": 0
         },
         {
          "PC1": -272.44396523760264,
          "PC2": -9.516460123704618,
          "class": 0
         },
         {
          "PC1": -406.0460326988662,
          "PC2": -24.61734874787229,
          "class": 1
         },
         {
          "PC1": -492.118675833245,
          "PC2": -1.0894672287913036,
          "class": 1
         },
         {
          "PC1": 93.69534279103323,
          "PC2": -26.591725389152113,
          "class": 0
         },
         {
          "PC1": -523.1634568042625,
          "PC2": 0.8733328162746998,
          "class": 1
         },
         {
          "PC1": -652.2748059610533,
          "PC2": -34.63870445686604,
          "class": 1
         },
         {
          "PC1": 385.4495912573493,
          "PC2": -47.383326204518156,
          "class": 0
         },
         {
          "PC1": -457.4491289294824,
          "PC2": -23.897089425221157,
          "class": 1
         },
         {
          "PC1": -277.64899905417866,
          "PC2": 0.8769783427216599,
          "class": 1
         },
         {
          "PC1": -532.8415854308618,
          "PC2": -28.434757015243388,
          "class": 1
         },
         {
          "PC1": -433.33209859691146,
          "PC2": 2.769749583779135,
          "class": 1
         },
         {
          "PC1": -363.46053521136446,
          "PC2": -40.668458679376805,
          "class": 0
         },
         {
          "PC1": -42.358551963973774,
          "PC2": 66.69742405975911,
          "class": 1
         },
         {
          "PC1": -105.46867534728487,
          "PC2": 46.561009825055244,
          "class": 1
         },
         {
          "PC1": -169.62935507332344,
          "PC2": 20.523077075566835,
          "class": 1
         },
         {
          "PC1": -296.3114453674482,
          "PC2": 21.176185601906358,
          "class": 1
         },
         {
          "PC1": -776.0886039540319,
          "PC2": -59.0733781140472,
          "class": 1
         },
         {
          "PC1": -611.7500008258817,
          "PC2": -43.852126488407116,
          "class": 1
         },
         {
          "PC1": -519.5616007245803,
          "PC2": -5.3541824121704735,
          "class": 1
         },
         {
          "PC1": -234.884740839091,
          "PC2": 6.375290024775853,
          "class": 1
         },
         {
          "PC1": -373.0137107576381,
          "PC2": -2.3597730818290827,
          "class": 1
         },
         {
          "PC1": 523.8767669136272,
          "PC2": 46.05374874959528,
          "class": 0
         },
         {
          "PC1": 247.07096244346533,
          "PC2": 114.29591562801349,
          "class": 1
         },
         {
          "PC1": -406.20905465248603,
          "PC2": 3.9832222628750866,
          "class": 1
         },
         {
          "PC1": -502.2935649188511,
          "PC2": -33.534324167359586,
          "class": 1
         },
         {
          "PC1": -409.9784220245148,
          "PC2": -26.302284250568086,
          "class": 1
         },
         {
          "PC1": 790.6213915469891,
          "PC2": 111.27201099143076,
          "class": 0
         },
         {
          "PC1": 1448.4283594106184,
          "PC2": -223.24078061153477,
          "class": 0
         },
         {
          "PC1": -379.99083995610323,
          "PC2": 7.119261741332742,
          "class": 1
         },
         {
          "PC1": 1839.3688857048417,
          "PC2": 91.28889734073725,
          "class": 0
         },
         {
          "PC1": -67.10631802110233,
          "PC2": 81.31249367554791,
          "class": 1
         },
         {
          "PC1": -555.4062102978911,
          "PC2": -12.222872729046447,
          "class": 1
         },
         {
          "PC1": 446.2026756731021,
          "PC2": 1.2249920744637521,
          "class": 0
         },
         {
          "PC1": 842.4144495601734,
          "PC2": -122.19219673494364,
          "class": 0
         },
         {
          "PC1": -58.89248165458543,
          "PC2": 71.76859982003852,
          "class": 1
         },
         {
          "PC1": -383.86745322071727,
          "PC2": 8.911869351414124,
          "class": 1
         },
         {
          "PC1": 50.48770751130436,
          "PC2": -135.395527760094,
          "class": 0
         },
         {
          "PC1": 232.5151635330753,
          "PC2": -44.384997423764446,
          "class": 0
         },
         {
          "PC1": -562.095001527467,
          "PC2": 9.808525488642186,
          "class": 1
         },
         {
          "PC1": -563.8450420493369,
          "PC2": -16.186735396886455,
          "class": 1
         },
         {
          "PC1": -755.9676240324951,
          "PC2": -43.84109420585251,
          "class": 1
         },
         {
          "PC1": -603.4441352372027,
          "PC2": -47.20851629826937,
          "class": 1
         },
         {
          "PC1": 178.68853567170626,
          "PC2": 100.33921825866737,
          "class": 0
         },
         {
          "PC1": -300.73413861095827,
          "PC2": 30.927455172671394,
          "class": 1
         },
         {
          "PC1": -342.0388773453616,
          "PC2": 35.94391615708038,
          "class": 1
         },
         {
          "PC1": 2828.241438727745,
          "PC2": 151.24856843565343,
          "class": 0
         },
         {
          "PC1": 1376.3923121108494,
          "PC2": -65.75980251103053,
          "class": 0
         },
         {
          "PC1": 390.19915715565935,
          "PC2": -106.22410488920927,
          "class": 0
         },
         {
          "PC1": -486.0239429197083,
          "PC2": -1.7537113134610032,
          "class": 1
         },
         {
          "PC1": 107.0582801641139,
          "PC2": -0.38219656601634244,
          "class": 0
         },
         {
          "PC1": -555.7488397526522,
          "PC2": -58.679361612868156,
          "class": 1
         },
         {
          "PC1": 652.582105126625,
          "PC2": 55.34526803924458,
          "class": 0
         },
         {
          "PC1": -430.248092856244,
          "PC2": -14.406183038559236,
          "class": 1
         },
         {
          "PC1": -453.46583669400945,
          "PC2": 9.496864328483733,
          "class": 1
         },
         {
          "PC1": -386.0673864017722,
          "PC2": 9.761665383918066,
          "class": 1
         },
         {
          "PC1": -124.35086617549474,
          "PC2": 23.02558975975224,
          "class": 0
         },
         {
          "PC1": -333.2983591608542,
          "PC2": 30.34363499464825,
          "class": 1
         },
         {
          "PC1": -685.4696420386194,
          "PC2": -14.72224210987758,
          "class": 1
         },
         {
          "PC1": -187.83080167427556,
          "PC2": -94.08380087375589,
          "class": 0
         },
         {
          "PC1": -73.13316190951403,
          "PC2": 64.28037584636955,
          "class": 0
         },
         {
          "PC1": -312.69732070161143,
          "PC2": 26.822885472592787,
          "class": 1
         },
         {
          "PC1": -96.16242189359944,
          "PC2": -18.04956111574466,
          "class": 0
         },
         {
          "PC1": 490.8180293591755,
          "PC2": 135.75393654791597,
          "class": 0
         },
         {
          "PC1": 947.873219211566,
          "PC2": 2.667546795432483,
          "class": 0
         },
         {
          "PC1": 132.4197507196427,
          "PC2": -95.37957052988659,
          "class": 0
         },
         {
          "PC1": -308.5258875746513,
          "PC2": -40.27791178597672,
          "class": 1
         },
         {
          "PC1": 461.2178121662861,
          "PC2": 67.9364351130556,
          "class": 0
         },
         {
          "PC1": 1482.608855502765,
          "PC2": 307.41711401920924,
          "class": 0
         },
         {
          "PC1": 204.4185987978631,
          "PC2": -190.38327716201505,
          "class": 0
         },
         {
          "PC1": -263.62343577410167,
          "PC2": -42.768552646575564,
          "class": 1
         },
         {
          "PC1": 124.67005378541823,
          "PC2": -3.634179216071665,
          "class": 0
         },
         {
          "PC1": -658.2074596830212,
          "PC2": -22.91607621978851,
          "class": 1
         },
         {
          "PC1": 412.9429228531268,
          "PC2": 42.59297969347164,
          "class": 0
         },
         {
          "PC1": -272.4127379050757,
          "PC2": 17.946580723987967,
          "class": 1
         },
         {
          "PC1": 80.26989191608816,
          "PC2": 33.45177334802304,
          "class": 1
         },
         {
          "PC1": 997.0514718261727,
          "PC2": 141.2159699945369,
          "class": 0
         },
         {
          "PC1": -405.0929699833627,
          "PC2": -20.742181170325498,
          "class": 1
         },
         {
          "PC1": 2366.700707611164,
          "PC2": 739.6209180076572,
          "class": 0
         },
         {
          "PC1": 273.63827144783266,
          "PC2": 178.2270053938059,
          "class": 0
         },
         {
          "PC1": -81.93358584577008,
          "PC2": -1.7803102361371537,
          "class": 0
         },
         {
          "PC1": -151.62188772894186,
          "PC2": 2.880152250681937,
          "class": 0
         },
         {
          "PC1": -415.4281088768254,
          "PC2": -9.195412209894114,
          "class": 1
         },
         {
          "PC1": -582.3541502985681,
          "PC2": -38.215307342816146,
          "class": 1
         },
         {
          "PC1": 1267.9599661066309,
          "PC2": -93.60121265431053,
          "class": 0
         },
         {
          "PC1": 1662.8153479705807,
          "PC2": -343.27903718299956,
          "class": 0
         },
         {
          "PC1": -194.87652215601588,
          "PC2": 17.094854852049263,
          "class": 1
         },
         {
          "PC1": -215.20650019339786,
          "PC2": 20.866930740903683,
          "class": 1
         },
         {
          "PC1": -611.0931152467037,
          "PC2": -30.54316948481774,
          "class": 1
         },
         {
          "PC1": 232.6157189819385,
          "PC2": -16.608823851018194,
          "class": 0
         },
         {
          "PC1": -204.01509321162416,
          "PC2": -3.686248706612771,
          "class": 1
         },
         {
          "PC1": -12.78138356011331,
          "PC2": -7.59519970499583,
          "class": 1
         },
         {
          "PC1": -585.7551316163454,
          "PC2": -26.661185024467287,
          "class": 1
         },
         {
          "PC1": -46.999597323379994,
          "PC2": 63.13510946736254,
          "class": 1
         },
         {
          "PC1": -302.943961802221,
          "PC2": -2.5768441943785647,
          "class": 1
         },
         {
          "PC1": -228.32773556943744,
          "PC2": -39.088965930399844,
          "class": 0
         },
         {
          "PC1": 388.504337784737,
          "PC2": 45.5473651433445,
          "class": 0
         },
         {
          "PC1": -502.721082766454,
          "PC2": 0.1577941459444151,
          "class": 1
         },
         {
          "PC1": -491.15089392931486,
          "PC2": -17.225724244346786,
          "class": 1
         },
         {
          "PC1": 1194.011734125749,
          "PC2": 53.17521251508258,
          "class": 0
         },
         {
          "PC1": -662.8705125024258,
          "PC2": -38.72301745925165,
          "class": 1
         },
         {
          "PC1": -168.8029063212244,
          "PC2": 41.601138176588904,
          "class": 1
         },
         {
          "PC1": 2296.4799883834016,
          "PC2": -203.0992810363729,
          "class": 0
         },
         {
          "PC1": 1083.9297489648804,
          "PC2": 105.6597622972637,
          "class": 0
         },
         {
          "PC1": -116.08623480364598,
          "PC2": 33.93519067111977,
          "class": 1
         },
         {
          "PC1": 589.796832281704,
          "PC2": -46.66243308500609,
          "class": 0
         },
         {
          "PC1": -210.73336541172986,
          "PC2": 34.39792974618342,
          "class": 1
         },
         {
          "PC1": -382.9311516771877,
          "PC2": 22.289502110714512,
          "class": 1
         },
         {
          "PC1": -487.58233785888194,
          "PC2": -15.61932618795418,
          "class": 1
         },
         {
          "PC1": -182.89246177688125,
          "PC2": 35.223181484248805,
          "class": 1
         },
         {
          "PC1": 719.9063801076207,
          "PC2": 149.65220843840976,
          "class": 0
         },
         {
          "PC1": -574.5745078930559,
          "PC2": -23.654243618700512,
          "class": 1
         },
         {
          "PC1": -298.65071655985884,
          "PC2": 47.56792963719808,
          "class": 1
         },
         {
          "PC1": -281.25573697530336,
          "PC2": 3.451978882137285,
          "class": 1
         },
         {
          "PC1": -524.7691587481016,
          "PC2": -43.28719878262044,
          "class": 1
         },
         {
          "PC1": -462.96033397495086,
          "PC2": -10.93220369781251,
          "class": 1
         },
         {
          "PC1": 1338.8984509605782,
          "PC2": 20.729350369421944,
          "class": 0
         },
         {
          "PC1": -447.2489388606061,
          "PC2": -18.88388181739624,
          "class": 1
         },
         {
          "PC1": 1188.5326991475808,
          "PC2": -74.67443443447945,
          "class": 0
         },
         {
          "PC1": 433.72977470035363,
          "PC2": 56.66964781728132,
          "class": 0
         },
         {
          "PC1": 1201.4375791286618,
          "PC2": -126.87795668487897,
          "class": 0
         },
         {
          "PC1": -73.88624475122373,
          "PC2": -16.35872885341545,
          "class": 0
         },
         {
          "PC1": 1184.930512689906,
          "PC2": -70.06960794529724,
          "class": 0
         },
         {
          "PC1": 73.35754373991156,
          "PC2": 25.598230003416152,
          "class": 0
         },
         {
          "PC1": 363.6071584156981,
          "PC2": -76.68936918107735,
          "class": 0
         },
         {
          "PC1": 178.60649502892664,
          "PC2": -3.3266989776565503,
          "class": 0
         },
         {
          "PC1": 1153.0743659080083,
          "PC2": 41.070525935437594,
          "class": 0
         },
         {
          "PC1": 433.28477089249617,
          "PC2": 62.77798687419355,
          "class": 0
         },
         {
          "PC1": 509.67967263921093,
          "PC2": 35.90133597117105,
          "class": 0
         },
         {
          "PC1": 145.36968319644032,
          "PC2": 32.50065098014833,
          "class": 0
         },
         {
          "PC1": 617.2429672389709,
          "PC2": -54.543081630022435,
          "class": 0
         },
         {
          "PC1": 2584.8281423407752,
          "PC2": -671.5322625684616,
          "class": 0
         },
         {
          "PC1": -550.8155363984237,
          "PC2": -27.398911070545278,
          "class": 1
         },
         {
          "PC1": -236.59221888473016,
          "PC2": 33.418778765445346,
          "class": 1
         },
         {
          "PC1": -317.4472299846823,
          "PC2": 24.844421134600687,
          "class": 1
         },
         {
          "PC1": -564.2881410610977,
          "PC2": -21.25989201872364,
          "class": 1
         },
         {
          "PC1": -180.8843859754362,
          "PC2": 82.62404026102526,
          "class": 1
         },
         {
          "PC1": -502.1585716358594,
          "PC2": -8.767657527956358,
          "class": 1
         },
         {
          "PC1": 1726.0947626575828,
          "PC2": -64.80927334506137,
          "class": 0
         },
         {
          "PC1": -640.7234009990432,
          "PC2": -39.89149519996668,
          "class": 1
         },
         {
          "PC1": 554.7930597266499,
          "PC2": 66.04534443562885,
          "class": 0
         },
         {
          "PC1": -462.6478555514983,
          "PC2": 24.51071559934627,
          "class": 1
         },
         {
          "PC1": -497.1180796962221,
          "PC2": -1.7391369208831124,
          "class": 1
         },
         {
          "PC1": 535.8523047873844,
          "PC2": 197.97587501559232,
          "class": 0
         },
         {
          "PC1": -164.8733018793968,
          "PC2": 2.6825450855870825,
          "class": 1
         },
         {
          "PC1": -216.05488973792063,
          "PC2": 51.678818129907704,
          "class": 1
         },
         {
          "PC1": 973.891550599401,
          "PC2": -24.58846666883265,
          "class": 0
         },
         {
          "PC1": -415.13364902162647,
          "PC2": -14.609542309206287,
          "class": 1
         },
         {
          "PC1": 894.4191397975634,
          "PC2": 31.33096076907911,
          "class": 0
         },
         {
          "PC1": 206.70012261494017,
          "PC2": 50.76272082385256,
          "class": 0
         },
         {
          "PC1": -316.3214078114084,
          "PC2": 29.77859597594547,
          "class": 1
         },
         {
          "PC1": -357.9357471401184,
          "PC2": 22.31270160984723,
          "class": 1
         },
         {
          "PC1": -397.8346403594243,
          "PC2": -9.414852459863965,
          "class": 1
         },
         {
          "PC1": -333.4562894261654,
          "PC2": 38.69446326391346,
          "class": 1
         },
         {
          "PC1": -514.6765634401735,
          "PC2": 6.927028097841226,
          "class": 1
         },
         {
          "PC1": -496.155389198727,
          "PC2": -3.0067082041606845,
          "class": 1
         },
         {
          "PC1": -96.62634421349249,
          "PC2": 56.147207967099526,
          "class": 1
         },
         {
          "PC1": -44.15070772083817,
          "PC2": 64.59926529007721,
          "class": 1
         },
         {
          "PC1": -327.02301880371624,
          "PC2": 32.504517402109,
          "class": 1
         },
         {
          "PC1": -427.1733098629157,
          "PC2": -1.9538394945251458,
          "class": 1
         },
         {
          "PC1": -365.5121348405111,
          "PC2": 30.500407558545543,
          "class": 1
         },
         {
          "PC1": -226.42313250178248,
          "PC2": 52.29901035079111,
          "class": 1
         },
         {
          "PC1": -570.8850772746127,
          "PC2": 4.281056806920425,
          "class": 1
         },
         {
          "PC1": -395.5124487113654,
          "PC2": -21.662001799580615,
          "class": 0
         },
         {
          "PC1": -64.34429922653834,
          "PC2": 12.89665229081186,
          "class": 1
         },
         {
          "PC1": -610.8850976794306,
          "PC2": -5.74524667788348,
          "class": 1
         },
         {
          "PC1": 1299.2324588263114,
          "PC2": -127.45438813368563,
          "class": 0
         },
         {
          "PC1": -377.510341533016,
          "PC2": 13.964653470815017,
          "class": 1
         },
         {
          "PC1": 1010.0107137458227,
          "PC2": 83.91113586609747,
          "class": 0
         },
         {
          "PC1": -600.5741323290258,
          "PC2": -12.331472810931286,
          "class": 1
         },
         {
          "PC1": -465.9883596595924,
          "PC2": -12.618854698543865,
          "class": 1
         },
         {
          "PC1": -470.2960585571879,
          "PC2": 6.160132052247179,
          "class": 1
         },
         {
          "PC1": -270.86807822506944,
          "PC2": 25.877913745582788,
          "class": 1
         },
         {
          "PC1": -723.5675604827878,
          "PC2": -41.1681756579236,
          "class": 1
         },
         {
          "PC1": -202.78422250042033,
          "PC2": 18.57140743909879,
          "class": 1
         },
         {
          "PC1": -243.06663789375378,
          "PC2": 1.8113204053459042,
          "class": 1
         },
         {
          "PC1": -464.33068311169126,
          "PC2": 4.044395696587687,
          "class": 1
         },
         {
          "PC1": -29.530651152731366,
          "PC2": 29.229752749958102,
          "class": 1
         },
         {
          "PC1": -302.9890616388315,
          "PC2": 7.023243848847096,
          "class": 1
         },
         {
          "PC1": -482.50022567367137,
          "PC2": 3.9706483871932257,
          "class": 1
         },
         {
          "PC1": -775.0549461651601,
          "PC2": -39.07941269799181,
          "class": 1
         },
         {
          "PC1": -379.3529254983867,
          "PC2": 26.286312912213642,
          "class": 1
         },
         {
          "PC1": -416.34825804997183,
          "PC2": 25.19424271807319,
          "class": 1
         },
         {
          "PC1": 710.4537911042551,
          "PC2": 4.61169901685892,
          "class": 0
         },
         {
          "PC1": -713.269922431841,
          "PC2": -48.445460894895874,
          "class": 1
         },
         {
          "PC1": -404.8130126541295,
          "PC2": 37.42873796660331,
          "class": 1
         },
         {
          "PC1": -592.3004762532137,
          "PC2": -28.600919738706157,
          "class": 1
         },
         {
          "PC1": 987.0231110934172,
          "PC2": 126.62998854856615,
          "class": 0
         },
         {
          "PC1": -319.4837500072732,
          "PC2": 17.557839411541618,
          "class": 1
         },
         {
          "PC1": 1222.2125243045318,
          "PC2": -27.80358562146643,
          "class": 0
         },
         {
          "PC1": -357.8126602554333,
          "PC2": -14.167255068496189,
          "class": 1
         },
         {
          "PC1": -348.76580305119126,
          "PC2": 17.80791547569725,
          "class": 1
         },
         {
          "PC1": -132.65799495324978,
          "PC2": 35.09663399155822,
          "class": 1
         },
         {
          "PC1": -415.4243104970168,
          "PC2": 6.569583563226731,
          "class": 1
         },
         {
          "PC1": 288.84442894554326,
          "PC2": 11.239600798359449,
          "class": 0
         },
         {
          "PC1": 171.32541161498764,
          "PC2": 98.3831393217422,
          "class": 0
         },
         {
          "PC1": 233.81932738839654,
          "PC2": 20.255707455109384,
          "class": 0
         },
         {
          "PC1": -284.45188560603566,
          "PC2": 7.416193944603349,
          "class": 1
         },
         {
          "PC1": -520.4291766002742,
          "PC2": 1.6432495839849341,
          "class": 1
         },
         {
          "PC1": -470.84222716379696,
          "PC2": -25.481561313727752,
          "class": 1
         },
         {
          "PC1": -388.1389498690871,
          "PC2": 11.381618677574496,
          "class": 1
         },
         {
          "PC1": 551.656021981654,
          "PC2": -24.064307993967436,
          "class": 0
         },
         {
          "PC1": -334.9555905363163,
          "PC2": 37.98114191920321,
          "class": 1
         },
         {
          "PC1": 1078.0479395447485,
          "PC2": -141.25033881817538,
          "class": 0
         },
         {
          "PC1": -605.0352978796902,
          "PC2": -36.95291377646817,
          "class": 1
         },
         {
          "PC1": 2304.2175929917453,
          "PC2": -117.53510923305976,
          "class": 0
         },
         {
          "PC1": -23.014142598476766,
          "PC2": -1.9145921764204943,
          "class": 1
         },
         {
          "PC1": -647.0164312259267,
          "PC2": -47.125425719958,
          "class": 1
         },
         {
          "PC1": -524.4292475705522,
          "PC2": -11.80377872181564,
          "class": 1
         },
         {
          "PC1": 845.9471416340369,
          "PC2": 119.00099679524446,
          "class": 0
         },
         {
          "PC1": -434.2344737360042,
          "PC2": -11.635228088023355,
          "class": 1
         },
         {
          "PC1": -622.2553363332084,
          "PC2": -13.532815793468352,
          "class": 1
         },
         {
          "PC1": -382.0974300273468,
          "PC2": -14.423929542979005,
          "class": 1
         },
         {
          "PC1": 7.115016552911692,
          "PC2": 11.868032646011164,
          "class": 1
         },
         {
          "PC1": -478.8999958266087,
          "PC2": -5.782675266322593,
          "class": 1
         },
         {
          "PC1": -447.9988682116998,
          "PC2": 4.479181210206103,
          "class": 1
         },
         {
          "PC1": -411.6146887144759,
          "PC2": -24.70255182218691,
          "class": 1
         },
         {
          "PC1": 84.93189007765453,
          "PC2": 71.36345366895488,
          "class": 0
         },
         {
          "PC1": 2721.0009014577768,
          "PC2": -62.73629346049906,
          "class": 0
         },
         {
          "PC1": 178.49341562164625,
          "PC2": -35.04702502698159,
          "class": 0
         },
         {
          "PC1": -506.4148934011191,
          "PC2": -9.527172321335629,
          "class": 1
         },
         {
          "PC1": -373.29188083114394,
          "PC2": 28.442667942142506,
          "class": 1
         },
         {
          "PC1": -322.3788491828085,
          "PC2": 28.122162110001856,
          "class": 1
         },
         {
          "PC1": -192.01671480854108,
          "PC2": 44.29091435374952,
          "class": 1
         },
         {
          "PC1": -710.8782248952137,
          "PC2": -54.053021737282194,
          "class": 1
         },
         {
          "PC1": -573.5127559265911,
          "PC2": -93.44911858135346,
          "class": 1
         },
         {
          "PC1": -337.6628305986646,
          "PC2": 13.603108833074195,
          "class": 1
         },
         {
          "PC1": -279.2641793812062,
          "PC2": 41.51814841243411,
          "class": 1
         },
         {
          "PC1": -340.80935912257723,
          "PC2": 20.72875989681495,
          "class": 1
         },
         {
          "PC1": 204.75700585322159,
          "PC2": 90.21172538535477,
          "class": 1
         },
         {
          "PC1": -240.38040179575108,
          "PC2": 24.968074224235465,
          "class": 1
         },
         {
          "PC1": 1102.1770929451943,
          "PC2": 78.98759046638618,
          "class": 0
         },
         {
          "PC1": 980.5214691150439,
          "PC2": 85.49752423541447,
          "class": 0
         },
         {
          "PC1": -322.05401361942387,
          "PC2": -35.33922089826731,
          "class": 1
         },
         {
          "PC1": 2404.9422901090998,
          "PC2": -412.30914261204316,
          "class": 0
         },
         {
          "PC1": 1586.1282923594156,
          "PC2": 8.948258947750748,
          "class": 0
         },
         {
          "PC1": 340.25237580838206,
          "PC2": 11.23889586264599,
          "class": 0
         },
         {
          "PC1": -24.214580451885784,
          "PC2": 80.7779529595773,
          "class": 1
         },
         {
          "PC1": 939.3997207932626,
          "PC2": 285.8529642056883,
          "class": 0
         },
         {
          "PC1": 1265.8824979303934,
          "PC2": 28.63915600999573,
          "class": 0
         },
         {
          "PC1": -220.14163969035585,
          "PC2": 44.19961305995998,
          "class": 1
         },
         {
          "PC1": 52.15293688398312,
          "PC2": 124.55117035160703,
          "class": 1
         },
         {
          "PC1": -618.289177472016,
          "PC2": 3.4935001693062797,
          "class": 1
         },
         {
          "PC1": -220.45440909325342,
          "PC2": 24.165514539157904,
          "class": 1
         },
         {
          "PC1": -231.1530556024805,
          "PC2": 52.562962988777244,
          "class": 1
         },
         {
          "PC1": -471.8672476624741,
          "PC2": -57.72276127029701,
          "class": 0
         },
         {
          "PC1": -486.6485950294653,
          "PC2": -19.861394949352697,
          "class": 1
         },
         {
          "PC1": -518.9772933292969,
          "PC2": -16.573427638414373,
          "class": 1
         },
         {
          "PC1": -444.3804169188526,
          "PC2": 26.305793652185542,
          "class": 1
         },
         {
          "PC1": -340.0812114917668,
          "PC2": -18.814042020893407,
          "class": 1
         },
         {
          "PC1": -279.5295578590967,
          "PC2": 36.72480785055827,
          "class": 1
         },
         {
          "PC1": -99.76975919064687,
          "PC2": 71.9499383616549,
          "class": 0
         },
         {
          "PC1": -401.1275189955,
          "PC2": 17.0629831458945,
          "class": 1
         },
         {
          "PC1": -146.89051433372708,
          "PC2": 20.38808899557949,
          "class": 1
         },
         {
          "PC1": -505.808135046794,
          "PC2": -1.3589690744263823,
          "class": 1
         },
         {
          "PC1": 641.4979257530457,
          "PC2": 219.95620029454557,
          "class": 0
         },
         {
          "PC1": -590.7192808987999,
          "PC2": -32.999850906996706,
          "class": 1
         },
         {
          "PC1": -701.7313486533495,
          "PC2": -67.7317008781078,
          "class": 1
         },
         {
          "PC1": 457.6872588859168,
          "PC2": -171.3428401971314,
          "class": 0
         },
         {
          "PC1": 1418.9768840819202,
          "PC2": 20.357178880665124,
          "class": 0
         },
         {
          "PC1": -383.9077624002498,
          "PC2": -11.905534974295136,
          "class": 1
         },
         {
          "PC1": -192.91557454146138,
          "PC2": 62.57301862244412,
          "class": 1
         },
         {
          "PC1": -226.83533263086434,
          "PC2": 23.87510286018729,
          "class": 1
         },
         {
          "PC1": -324.2230543668434,
          "PC2": 25.065914786650495,
          "class": 1
         },
         {
          "PC1": -473.75753750098045,
          "PC2": -37.67429167676216,
          "class": 1
         },
         {
          "PC1": -389.23025965387626,
          "PC2": -25.524495520037046,
          "class": 1
         },
         {
          "PC1": 539.3990893771493,
          "PC2": 70.83058340827691,
          "class": 0
         },
         {
          "PC1": -360.4707429947485,
          "PC2": -30.53239418188537,
          "class": 1
         },
         {
          "PC1": -289.405492312691,
          "PC2": 23.345471493703,
          "class": 1
         },
         {
          "PC1": -334.3066070801596,
          "PC2": 29.56062988931576,
          "class": 1
         },
         {
          "PC1": -394.35934246189623,
          "PC2": 21.525680952677348,
          "class": 1
         },
         {
          "PC1": -497.8615131285466,
          "PC2": -32.0077974552427,
          "class": 1
         },
         {
          "PC1": 132.17336241646277,
          "PC2": 89.36472057651801,
          "class": 1
         },
         {
          "PC1": -273.6692120454304,
          "PC2": 1.829224189542556,
          "class": 1
         },
         {
          "PC1": 576.2095875976408,
          "PC2": 45.16639618285051,
          "class": 0
         },
         {
          "PC1": -330.164204657741,
          "PC2": -21.296952574903028,
          "class": 1
         },
         {
          "PC1": -441.24795200917055,
          "PC2": -32.135443423845324,
          "class": 1
         },
         {
          "PC1": -497.8676452459447,
          "PC2": -28.827235276085332,
          "class": 1
         },
         {
          "PC1": -698.4528161332668,
          "PC2": -29.99110507579755,
          "class": 1
         },
         {
          "PC1": 8.282176937484326,
          "PC2": 40.24890704467696,
          "class": 1
         },
         {
          "PC1": 77.34963631456905,
          "PC2": 28.79057904736582,
          "class": 0
         },
         {
          "PC1": -421.86366365448646,
          "PC2": -3.600945380195644,
          "class": 1
         },
         {
          "PC1": -646.3088544980603,
          "PC2": -58.21306207238866,
          "class": 1
         },
         {
          "PC1": 826.2111420647186,
          "PC2": -322.9015164172037,
          "class": 0
         },
         {
          "PC1": -352.5999277240159,
          "PC2": 26.095556926205454,
          "class": 1
         },
         {
          "PC1": -505.3248903720069,
          "PC2": -15.815993122571916,
          "class": 1
         },
         {
          "PC1": -436.3380091666884,
          "PC2": -23.007910541542397,
          "class": 1
         },
         {
          "PC1": -59.15737336682429,
          "PC2": 38.71074425336056,
          "class": 1
         },
         {
          "PC1": -475.74290513230505,
          "PC2": -0.8491743125541745,
          "class": 1
         },
         {
          "PC1": -189.06448918835486,
          "PC2": 21.171275823260974,
          "class": 1
         },
         {
          "PC1": -617.1943848015306,
          "PC2": -53.22721108744189,
          "class": 1
         },
         {
          "PC1": -613.8294426723079,
          "PC2": -36.08727272272443,
          "class": 1
         },
         {
          "PC1": -544.4131556407201,
          "PC2": -46.54315517856237,
          "class": 1
         },
         {
          "PC1": -488.80488178835094,
          "PC2": -49.73863718446072,
          "class": 1
         },
         {
          "PC1": -537.1739759434421,
          "PC2": 4.0719268617920825,
          "class": 1
         },
         {
          "PC1": -331.99306372709503,
          "PC2": 21.10084700168148,
          "class": 1
         },
         {
          "PC1": -24.86579130177703,
          "PC2": 51.020052696397116,
          "class": 0
         },
         {
          "PC1": -410.18684099741523,
          "PC2": 29.41037022731828,
          "class": 1
         },
         {
          "PC1": 821.5897280605312,
          "PC2": 198.6761018286955,
          "class": 0
         },
         {
          "PC1": 857.390181110063,
          "PC2": 14.629346781824225,
          "class": 0
         },
         {
          "PC1": -79.18892835592935,
          "PC2": 69.74141685635553,
          "class": 1
         },
         {
          "PC1": -39.12097262056065,
          "PC2": -41.60496714966882,
          "class": 0
         },
         {
          "PC1": -293.1703345918442,
          "PC2": 7.0687107492970345,
          "class": 1
         },
         {
          "PC1": -134.66989029550805,
          "PC2": 30.523915024945055,
          "class": 1
         },
         {
          "PC1": -145.25073033042196,
          "PC2": 14.958265177724538,
          "class": 1
         },
         {
          "PC1": -190.1649363823206,
          "PC2": 58.194430843871245,
          "class": 1
         },
         {
          "PC1": -493.690843124683,
          "PC2": -32.79679133985012,
          "class": 1
         },
         {
          "PC1": 488.3762284392568,
          "PC2": 24.944066060879052,
          "class": 0
         },
         {
          "PC1": -185.14524706278522,
          "PC2": 31.467969393188216,
          "class": 1
         },
         {
          "PC1": -604.8229707900962,
          "PC2": -1.9407421451924323,
          "class": 1
         },
         {
          "PC1": 525.7068877957115,
          "PC2": 73.27576144272959,
          "class": 0
         },
         {
          "PC1": -425.63351220260085,
          "PC2": 7.489608710310879,
          "class": 1
         },
         {
          "PC1": 646.0462246717888,
          "PC2": -9.448464861419048,
          "class": 0
         },
         {
          "PC1": -34.324141524752804,
          "PC2": 43.650016977064276,
          "class": 1
         },
         {
          "PC1": -41.02131851779444,
          "PC2": 30.108465550648667,
          "class": 1
         },
         {
          "PC1": 1356.4599399015121,
          "PC2": 30.99942454570221,
          "class": 0
         },
         {
          "PC1": -436.1925845187702,
          "PC2": 3.045139536409068,
          "class": 1
         },
         {
          "PC1": 741.3848904263352,
          "PC2": 178.11106480329744,
          "class": 0
         },
         {
          "PC1": -416.94115262740655,
          "PC2": 3.2148860291596235,
          "class": 1
         },
         {
          "PC1": -117.87133456199432,
          "PC2": 58.96001150203943,
          "class": 1
         },
         {
          "PC1": -296.9689640131299,
          "PC2": -10.440447987168785,
          "class": 1
         },
         {
          "PC1": -200.88095262801718,
          "PC2": 7.045430597052172,
          "class": 1
         },
         {
          "PC1": -427.1058702626386,
          "PC2": -22.32386452528705,
          "class": 1
         },
         {
          "PC1": -273.8215572468308,
          "PC2": 28.276811789907107,
          "class": 1
         },
         {
          "PC1": -286.58876608757276,
          "PC2": 15.449772975619098,
          "class": 1
         },
         {
          "PC1": -644.9288874515335,
          "PC2": -36.56033666840262,
          "class": 1
         },
         {
          "PC1": 803.7161116078023,
          "PC2": -162.09869022306336,
          "class": 0
         },
         {
          "PC1": 3867.178053083486,
          "PC2": -171.01743974416098,
          "class": 0
         },
         {
          "PC1": -130.33436709115168,
          "PC2": 68.15347825973633,
          "class": 1
         },
         {
          "PC1": -457.05415859663987,
          "PC2": -7.285455349739562,
          "class": 1
         },
         {
          "PC1": -227.4110273001262,
          "PC2": -0.5028891064310069,
          "class": 1
         },
         {
          "PC1": -183.92813510474804,
          "PC2": -19.402888981351868,
          "class": 1
         },
         {
          "PC1": -225.39549834611765,
          "PC2": -1.466104666599873,
          "class": 1
         },
         {
          "PC1": -620.8721713220817,
          "PC2": -56.00227675066444,
          "class": 1
         },
         {
          "PC1": 648.8111183691634,
          "PC2": -9.678224988121277,
          "class": 0
         },
         {
          "PC1": -429.74820889148555,
          "PC2": -27.507014390157575,
          "class": 1
         },
         {
          "PC1": -615.0589770498854,
          "PC2": -56.18982383772269,
          "class": 1
         },
         {
          "PC1": -373.8722989601067,
          "PC2": -12.997158021366378,
          "class": 1
         },
         {
          "PC1": 38.13055424948035,
          "PC2": 14.014796421156994,
          "class": 1
         },
         {
          "PC1": -373.8933343971426,
          "PC2": 4.6241571646613275,
          "class": 1
         },
         {
          "PC1": -538.1164417147544,
          "PC2": -21.068416320868835,
          "class": 1
         },
         {
          "PC1": -313.28262000875554,
          "PC2": 16.054610115737557,
          "class": 1
         },
         {
          "PC1": -63.49267252198892,
          "PC2": -4.079858830918448,
          "class": 1
         },
         {
          "PC1": -168.3438668953862,
          "PC2": 36.43806690102185,
          "class": 1
         },
         {
          "PC1": -484.4815413845702,
          "PC2": 0.4195570835857668,
          "class": 1
         },
         {
          "PC1": 134.5032612138583,
          "PC2": 107.45721821070366,
          "class": 0
         },
         {
          "PC1": -389.8089526119001,
          "PC2": 2.076005472208374,
          "class": 1
         },
         {
          "PC1": -70.46296606003358,
          "PC2": -18.560096612434233,
          "class": 1
         },
         {
          "PC1": -246.25859276943314,
          "PC2": 21.653073229598547,
          "class": 1
         },
         {
          "PC1": -210.5134207911233,
          "PC2": 29.118560782808245,
          "class": 1
         },
         {
          "PC1": 24.43470655384214,
          "PC2": 92.9604187231246,
          "class": 1
         },
         {
          "PC1": -349.091837803864,
          "PC2": 3.538795885200417,
          "class": 1
         },
         {
          "PC1": -37.62907412316272,
          "PC2": 35.2365591392193,
          "class": 1
         },
         {
          "PC1": 1002.1485046192979,
          "PC2": -7.998199968181194,
          "class": 0
         },
         {
          "PC1": -405.353202959174,
          "PC2": -28.8205493658578,
          "class": 1
         },
         {
          "PC1": 278.6794179871475,
          "PC2": 67.77140994922011,
          "class": 0
         },
         {
          "PC1": -319.3725071233894,
          "PC2": -27.685262091134707,
          "class": 1
         },
         {
          "PC1": 457.3394061991911,
          "PC2": 117.67460389611735,
          "class": 1
         },
         {
          "PC1": 652.2445284166557,
          "PC2": 18.509404115101127,
          "class": 0
         },
         {
          "PC1": -389.6945280604402,
          "PC2": 28.048725029780183,
          "class": 1
         },
         {
          "PC1": -259.64170966113574,
          "PC2": 21.104887672498922,
          "class": 1
         },
         {
          "PC1": -70.23449408452022,
          "PC2": 72.65161951835182,
          "class": 1
         },
         {
          "PC1": -300.03011025873127,
          "PC2": -16.597658873051927,
          "class": 1
         },
         {
          "PC1": -325.9289822642925,
          "PC2": -7.778530152606019,
          "class": 1
         },
         {
          "PC1": 832.6097733851407,
          "PC2": -19.683788956563436,
          "class": 0
         },
         {
          "PC1": 1099.4868885071478,
          "PC2": 112.597420815992,
          "class": 0
         },
         {
          "PC1": -2.3067567745430364,
          "PC2": 42.173155335625644,
          "class": 1
         },
         {
          "PC1": -109.46470092465051,
          "PC2": -2.2292689584266214,
          "class": 0
         },
         {
          "PC1": -374.9350842290629,
          "PC2": 17.870071550926614,
          "class": 1
         },
         {
          "PC1": 2166.185165041776,
          "PC2": -108.42261504116019,
          "class": 0
         },
         {
          "PC1": -708.652366071141,
          "PC2": -46.309969761560474,
          "class": 1
         },
         {
          "PC1": -672.591115097528,
          "PC2": -40.41024655231669,
          "class": 1
         },
         {
          "PC1": -418.6532942410524,
          "PC2": 16.975835019553397,
          "class": 1
         },
         {
          "PC1": -552.9796632000755,
          "PC2": -3.106955447263667,
          "class": 1
         },
         {
          "PC1": 125.26154655195556,
          "PC2": 116.51010173723549,
          "class": 1
         },
         {
          "PC1": 64.59651212882737,
          "PC2": 50.650874362811685,
          "class": 0
         },
         {
          "PC1": -468.3356432322112,
          "PC2": 15.365046805321082,
          "class": 1
         },
         {
          "PC1": -90.54705820824572,
          "PC2": 84.70293714301273,
          "class": 1
         },
         {
          "PC1": -81.75387140521809,
          "PC2": -65.15700805082989,
          "class": 0
         },
         {
          "PC1": -13.882991760753939,
          "PC2": 13.242216100411644,
          "class": 1
         },
         {
          "PC1": 98.35553603957388,
          "PC2": -4.575815812082239,
          "class": 0
         },
         {
          "PC1": -482.14902699966746,
          "PC2": -17.04336265816195,
          "class": 1
         },
         {
          "PC1": 731.3671966675388,
          "PC2": 22.000256147011395,
          "class": 0
         },
         {
          "PC1": 946.295946455357,
          "PC2": 81.05050905999556,
          "class": 0
         },
         {
          "PC1": -260.05262511478264,
          "PC2": -31.315041596070017,
          "class": 1
         },
         {
          "PC1": -303.492555686571,
          "PC2": -4.545995500772741,
          "class": 1
         },
         {
          "PC1": -681.5836410378657,
          "PC2": -52.40106340988544,
          "class": 1
         },
         {
          "PC1": 2127.0180931289347,
          "PC2": 100.28766870237413,
          "class": 0
         },
         {
          "PC1": -520.8085196022857,
          "PC2": 2.30213513734897,
          "class": 1
         },
         {
          "PC1": -196.8935223113711,
          "PC2": 21.103080118413253,
          "class": 1
         },
         {
          "PC1": -620.5612042917484,
          "PC2": -48.09379428942262,
          "class": 1
         },
         {
          "PC1": -745.022120501328,
          "PC2": -57.431691330665295,
          "class": 1
         },
         {
          "PC1": -192.43066999052877,
          "PC2": -5.308366188529177,
          "class": 1
         },
         {
          "PC1": -368.57784098151643,
          "PC2": 4.341581125303241,
          "class": 1
         },
         {
          "PC1": -225.523469468968,
          "PC2": 66.51805817157819,
          "class": 1
         },
         {
          "PC1": -392.9290180727071,
          "PC2": -7.666123856859965,
          "class": 1
         },
         {
          "PC1": -401.67438814317575,
          "PC2": -28.114738073954072,
          "class": 1
         },
         {
          "PC1": -407.5358312812275,
          "PC2": -33.116421431814715,
          "class": 1
         },
         {
          "PC1": -134.1033918255043,
          "PC2": -12.278802022487827,
          "class": 1
         },
         {
          "PC1": 991.3787299309216,
          "PC2": 154.52676659735144,
          "class": 0
         },
         {
          "PC1": -556.6167977980712,
          "PC2": -2.1265798961012146,
          "class": 1
         },
         {
          "PC1": 1135.581947513709,
          "PC2": 77.07462712079385,
          "class": 0
         },
         {
          "PC1": -143.99456732377035,
          "PC2": 57.6046787122228,
          "class": 0
         },
         {
          "PC1": -465.86653768173153,
          "PC2": -8.713392671853443,
          "class": 1
         },
         {
          "PC1": -790.3132418220587,
          "PC2": -79.81649145669908,
          "class": 1
         },
         {
          "PC1": -815.9802671359006,
          "PC2": -74.33641814294445,
          "class": 1
         },
         {
          "PC1": -493.6479325799569,
          "PC2": 3.930970624023656,
          "class": 1
         },
         {
          "PC1": -60.782511678598446,
          "PC2": 38.56071307375269,
          "class": 1
         },
         {
          "PC1": -39.66207192095998,
          "PC2": 39.81482204306202,
          "class": 1
         },
         {
          "PC1": -276.2578632608918,
          "PC2": 30.421930318014745,
          "class": 1
         },
         {
          "PC1": -201.25407841457826,
          "PC2": 39.818240027055914,
          "class": 1
         },
         {
          "PC1": -171.84116898755326,
          "PC2": 8.35606068224715,
          "class": 1
         },
         {
          "PC1": -597.2254139066799,
          "PC2": -25.31029977179004,
          "class": 1
         },
         {
          "PC1": -623.0764928227632,
          "PC2": -14.523247389089882,
          "class": 1
         },
         {
          "PC1": -635.0640424502503,
          "PC2": -48.23460299770876,
          "class": 1
         },
         {
          "PC1": -473.4727521496345,
          "PC2": -56.5534072562667,
          "class": 1
         },
         {
          "PC1": -554.7642704495927,
          "PC2": -9.017131455012295,
          "class": 1
         },
         {
          "PC1": -524.6600562154316,
          "PC2": -6.280799591255568,
          "class": 1
         },
         {
          "PC1": -322.0543422794908,
          "PC2": 22.374055436517885,
          "class": 1
         },
         {
          "PC1": -704.9670336773065,
          "PC2": -31.301244805435733,
          "class": 1
         },
         {
          "PC1": -317.926337567143,
          "PC2": 27.3694091156147,
          "class": 1
         },
         {
          "PC1": -622.214536225976,
          "PC2": -14.274316865595942,
          "class": 1
         },
         {
          "PC1": -636.0462558586827,
          "PC2": -17.043600214342558,
          "class": 1
         },
         {
          "PC1": -670.6770269811253,
          "PC2": -43.20695935983936,
          "class": 1
         },
         {
          "PC1": -125.24513573335437,
          "PC2": 78.42343252500831,
          "class": 1
         },
         {
          "PC1": -479.3357068859722,
          "PC2": -4.377873489549989,
          "class": 1
         },
         {
          "PC1": -177.2428159553763,
          "PC2": 43.72314321602996,
          "class": 1
         },
         {
          "PC1": -518.0118630815863,
          "PC2": -1.5308547244242998,
          "class": 1
         },
         {
          "PC1": 61.94079861105985,
          "PC2": 35.26480218351553,
          "class": 0
         },
         {
          "PC1": 1167.1369776033075,
          "PC2": 105.59667912515201,
          "class": 0
         },
         {
          "PC1": 1414.1266836031502,
          "PC2": 110.2224921251305,
          "class": 0
         },
         {
          "PC1": 1045.0188544396444,
          "PC2": 77.05758852132959,
          "class": 0
         },
         {
          "PC1": 314.5017561800189,
          "PC2": 47.55352518489568,
          "class": 0
         },
         {
          "PC1": 1124.8581153057119,
          "PC2": 34.129224970156685,
          "class": 0
         },
         {
          "PC1": -771.5276218767502,
          "PC2": -88.64310636345328,
          "class": 1
         }
        ]
       },
       "encoding": {
        "color": {
         "field": "class",
         "type": "nominal"
        },
        "x": {
         "field": "PC1",
         "type": "quantitative"
        },
        "y": {
         "field": "PC2",
         "type": "quantitative"
        }
       },
       "mark": "point",
       "selection": {
        "selector001": {
         "bind": "scales",
         "encodings": [
          "x",
          "y"
         ],
         "mark": {
          "fill": "#333",
          "fillOpacity": 0.125,
          "stroke": "white"
         },
         "on": "[mousedown, window:mouseup] > window:mousemove!",
         "resolve": "global",
         "translate": "[mousedown, window:mouseup] > window:mousemove!",
         "type": "interval",
         "zoom": "wheel!"
        }
       }
      },
      "image/png": "[encoded data removed]",
      "text/plain": [
       "<VegaLite 2 object>\n",
       "\n",
       "If you see this message, it means the renderer has not been properly enabled\n",
       "for the frontend that you are using. For more information, see\n",
       "https://altair-viz.github.io/user_guide/troubleshooting.html\n"
      ]
     },
     "execution_count": 24,
     "metadata": {},
     "output_type": "execute_result"
    }
   ],
   "source": [
    "alt.Chart(trans_cancers).mark_point().encode(\n",
    "    x='PC1',\n",
    "    y='PC2',\n",
    "    color=alt.Color('class', type='nominal'),\n",
    ").interactive()"
   ]
  },
  {
   "cell_type": "markdown",
   "metadata": {},
   "source": [
    "Estandarización"
   ]
  },
  {
   "cell_type": "code",
   "execution_count": 25,
   "metadata": {},
   "outputs": [
    {
     "data": {
      "text/html": [
       "<div>\n",
       "<style scoped>\n",
       "    .dataframe tbody tr th:only-of-type {\n",
       "        vertical-align: middle;\n",
       "    }\n",
       "\n",
       "    .dataframe tbody tr th {\n",
       "        vertical-align: top;\n",
       "    }\n",
       "\n",
       "    .dataframe thead th {\n",
       "        text-align: right;\n",
       "    }\n",
       "</style>\n",
       "<table border=\"1\" class=\"dataframe\">\n",
       "  <thead>\n",
       "    <tr style=\"text-align: right;\">\n",
       "      <th></th>\n",
       "      <th>mean radius</th>\n",
       "      <th>mean texture</th>\n",
       "      <th>mean perimeter</th>\n",
       "      <th>mean area</th>\n",
       "      <th>mean smoothness</th>\n",
       "      <th>mean compactness</th>\n",
       "      <th>mean concavity</th>\n",
       "      <th>mean concave points</th>\n",
       "      <th>mean symmetry</th>\n",
       "      <th>mean fractal dimension</th>\n",
       "      <th>...</th>\n",
       "      <th>worst radius</th>\n",
       "      <th>worst texture</th>\n",
       "      <th>worst perimeter</th>\n",
       "      <th>worst area</th>\n",
       "      <th>worst smoothness</th>\n",
       "      <th>worst compactness</th>\n",
       "      <th>worst concavity</th>\n",
       "      <th>worst concave points</th>\n",
       "      <th>worst symmetry</th>\n",
       "      <th>worst fractal dimension</th>\n",
       "    </tr>\n",
       "  </thead>\n",
       "  <tbody>\n",
       "    <tr>\n",
       "      <th>0</th>\n",
       "      <td>1.097064</td>\n",
       "      <td>-2.073335</td>\n",
       "      <td>1.269934</td>\n",
       "      <td>0.984375</td>\n",
       "      <td>1.568466</td>\n",
       "      <td>3.283515</td>\n",
       "      <td>2.652874</td>\n",
       "      <td>2.532475</td>\n",
       "      <td>2.217515</td>\n",
       "      <td>2.255747</td>\n",
       "      <td>...</td>\n",
       "      <td>1.886690</td>\n",
       "      <td>-1.359293</td>\n",
       "      <td>2.303601</td>\n",
       "      <td>2.001237</td>\n",
       "      <td>1.307686</td>\n",
       "      <td>2.616665</td>\n",
       "      <td>2.109526</td>\n",
       "      <td>2.296076</td>\n",
       "      <td>2.750622</td>\n",
       "      <td>1.937015</td>\n",
       "    </tr>\n",
       "    <tr>\n",
       "      <th>1</th>\n",
       "      <td>1.829821</td>\n",
       "      <td>-0.353632</td>\n",
       "      <td>1.685955</td>\n",
       "      <td>1.908708</td>\n",
       "      <td>-0.826962</td>\n",
       "      <td>-0.487072</td>\n",
       "      <td>-0.023846</td>\n",
       "      <td>0.548144</td>\n",
       "      <td>0.001392</td>\n",
       "      <td>-0.868652</td>\n",
       "      <td>...</td>\n",
       "      <td>1.805927</td>\n",
       "      <td>-0.369203</td>\n",
       "      <td>1.535126</td>\n",
       "      <td>1.890489</td>\n",
       "      <td>-0.375612</td>\n",
       "      <td>-0.430444</td>\n",
       "      <td>-0.146749</td>\n",
       "      <td>1.087084</td>\n",
       "      <td>-0.243890</td>\n",
       "      <td>0.281190</td>\n",
       "    </tr>\n",
       "    <tr>\n",
       "      <th>2</th>\n",
       "      <td>1.579888</td>\n",
       "      <td>0.456187</td>\n",
       "      <td>1.566503</td>\n",
       "      <td>1.558884</td>\n",
       "      <td>0.942210</td>\n",
       "      <td>1.052926</td>\n",
       "      <td>1.363478</td>\n",
       "      <td>2.037231</td>\n",
       "      <td>0.939685</td>\n",
       "      <td>-0.398008</td>\n",
       "      <td>...</td>\n",
       "      <td>1.511870</td>\n",
       "      <td>-0.023974</td>\n",
       "      <td>1.347475</td>\n",
       "      <td>1.456285</td>\n",
       "      <td>0.527407</td>\n",
       "      <td>1.082932</td>\n",
       "      <td>0.854974</td>\n",
       "      <td>1.955000</td>\n",
       "      <td>1.152255</td>\n",
       "      <td>0.201391</td>\n",
       "    </tr>\n",
       "    <tr>\n",
       "      <th>3</th>\n",
       "      <td>-0.768909</td>\n",
       "      <td>0.253732</td>\n",
       "      <td>-0.592687</td>\n",
       "      <td>-0.764464</td>\n",
       "      <td>3.283553</td>\n",
       "      <td>3.402909</td>\n",
       "      <td>1.915897</td>\n",
       "      <td>1.451707</td>\n",
       "      <td>2.867383</td>\n",
       "      <td>4.910919</td>\n",
       "      <td>...</td>\n",
       "      <td>-0.281464</td>\n",
       "      <td>0.133984</td>\n",
       "      <td>-0.249939</td>\n",
       "      <td>-0.550021</td>\n",
       "      <td>3.394275</td>\n",
       "      <td>3.893397</td>\n",
       "      <td>1.989588</td>\n",
       "      <td>2.175786</td>\n",
       "      <td>6.046041</td>\n",
       "      <td>4.935010</td>\n",
       "    </tr>\n",
       "    <tr>\n",
       "      <th>4</th>\n",
       "      <td>1.750297</td>\n",
       "      <td>-1.151816</td>\n",
       "      <td>1.776573</td>\n",
       "      <td>1.826229</td>\n",
       "      <td>0.280372</td>\n",
       "      <td>0.539340</td>\n",
       "      <td>1.371011</td>\n",
       "      <td>1.428493</td>\n",
       "      <td>-0.009560</td>\n",
       "      <td>-0.562450</td>\n",
       "      <td>...</td>\n",
       "      <td>1.298575</td>\n",
       "      <td>-1.466770</td>\n",
       "      <td>1.338539</td>\n",
       "      <td>1.220724</td>\n",
       "      <td>0.220556</td>\n",
       "      <td>-0.313395</td>\n",
       "      <td>0.613179</td>\n",
       "      <td>0.729259</td>\n",
       "      <td>-0.868353</td>\n",
       "      <td>-0.397100</td>\n",
       "    </tr>\n",
       "  </tbody>\n",
       "</table>\n",
       "<p>5 rows × 30 columns</p>\n",
       "</div>"
      ],
      "text/plain": [
       "   mean radius  mean texture  mean perimeter  mean area  mean smoothness  \\\n",
       "0     1.097064     -2.073335        1.269934   0.984375         1.568466   \n",
       "1     1.829821     -0.353632        1.685955   1.908708        -0.826962   \n",
       "2     1.579888      0.456187        1.566503   1.558884         0.942210   \n",
       "3    -0.768909      0.253732       -0.592687  -0.764464         3.283553   \n",
       "4     1.750297     -1.151816        1.776573   1.826229         0.280372   \n",
       "\n",
       "   mean compactness  mean concavity  mean concave points  mean symmetry  \\\n",
       "0          3.283515        2.652874             2.532475       2.217515   \n",
       "1         -0.487072       -0.023846             0.548144       0.001392   \n",
       "2          1.052926        1.363478             2.037231       0.939685   \n",
       "3          3.402909        1.915897             1.451707       2.867383   \n",
       "4          0.539340        1.371011             1.428493      -0.009560   \n",
       "\n",
       "   mean fractal dimension           ...             worst radius  \\\n",
       "0                2.255747           ...                 1.886690   \n",
       "1               -0.868652           ...                 1.805927   \n",
       "2               -0.398008           ...                 1.511870   \n",
       "3                4.910919           ...                -0.281464   \n",
       "4               -0.562450           ...                 1.298575   \n",
       "\n",
       "   worst texture  worst perimeter  worst area  worst smoothness  \\\n",
       "0      -1.359293         2.303601    2.001237          1.307686   \n",
       "1      -0.369203         1.535126    1.890489         -0.375612   \n",
       "2      -0.023974         1.347475    1.456285          0.527407   \n",
       "3       0.133984        -0.249939   -0.550021          3.394275   \n",
       "4      -1.466770         1.338539    1.220724          0.220556   \n",
       "\n",
       "   worst compactness  worst concavity  worst concave points  worst symmetry  \\\n",
       "0           2.616665         2.109526              2.296076        2.750622   \n",
       "1          -0.430444        -0.146749              1.087084       -0.243890   \n",
       "2           1.082932         0.854974              1.955000        1.152255   \n",
       "3           3.893397         1.989588              2.175786        6.046041   \n",
       "4          -0.313395         0.613179              0.729259       -0.868353   \n",
       "\n",
       "   worst fractal dimension  \n",
       "0                 1.937015  \n",
       "1                 0.281190  \n",
       "2                 0.201391  \n",
       "3                 4.935010  \n",
       "4                -0.397100  \n",
       "\n",
       "[5 rows x 30 columns]"
      ]
     },
     "execution_count": 25,
     "metadata": {},
     "output_type": "execute_result"
    }
   ],
   "source": [
    "std_cancers = pd.DataFrame(scale(cancer_data), columns=cancer_features) # datos normalizados\n",
    "std_cancers.head()"
   ]
  },
  {
   "cell_type": "code",
   "execution_count": 26,
   "metadata": {},
   "outputs": [
    {
     "data": {
      "text/html": [
       "<div>\n",
       "<style scoped>\n",
       "    .dataframe tbody tr th:only-of-type {\n",
       "        vertical-align: middle;\n",
       "    }\n",
       "\n",
       "    .dataframe tbody tr th {\n",
       "        vertical-align: top;\n",
       "    }\n",
       "\n",
       "    .dataframe thead th {\n",
       "        text-align: right;\n",
       "    }\n",
       "</style>\n",
       "<table border=\"1\" class=\"dataframe\">\n",
       "  <thead>\n",
       "    <tr style=\"text-align: right;\">\n",
       "      <th></th>\n",
       "      <th>PC1</th>\n",
       "      <th>PC2</th>\n",
       "      <th>Class</th>\n",
       "    </tr>\n",
       "  </thead>\n",
       "  <tbody>\n",
       "    <tr>\n",
       "      <th>0</th>\n",
       "      <td>9.192837</td>\n",
       "      <td>1.948583</td>\n",
       "      <td>0</td>\n",
       "    </tr>\n",
       "    <tr>\n",
       "      <th>1</th>\n",
       "      <td>2.387802</td>\n",
       "      <td>-3.768172</td>\n",
       "      <td>0</td>\n",
       "    </tr>\n",
       "    <tr>\n",
       "      <th>2</th>\n",
       "      <td>5.733896</td>\n",
       "      <td>-1.075174</td>\n",
       "      <td>0</td>\n",
       "    </tr>\n",
       "    <tr>\n",
       "      <th>3</th>\n",
       "      <td>7.122953</td>\n",
       "      <td>10.275589</td>\n",
       "      <td>0</td>\n",
       "    </tr>\n",
       "    <tr>\n",
       "      <th>4</th>\n",
       "      <td>3.935302</td>\n",
       "      <td>-1.948072</td>\n",
       "      <td>0</td>\n",
       "    </tr>\n",
       "  </tbody>\n",
       "</table>\n",
       "</div>"
      ],
      "text/plain": [
       "        PC1        PC2  Class\n",
       "0  9.192837   1.948583      0\n",
       "1  2.387802  -3.768172      0\n",
       "2  5.733896  -1.075174      0\n",
       "3  7.122953  10.275589      0\n",
       "4  3.935302  -1.948072      0"
      ]
     },
     "execution_count": 26,
     "metadata": {},
     "output_type": "execute_result"
    }
   ],
   "source": [
    "trans_std_cancers = pd.DataFrame(pca.fit_transform(std_cancers), columns=['PC1', 'PC2'])\n",
    "ext_trans_std_cancers = trans_std_cancers.assign(Class=cancer_target)\n",
    "ext_trans_std_cancers.head()"
   ]
  },
  {
   "cell_type": "code",
   "execution_count": 27,
   "metadata": {},
   "outputs": [
    {
     "data": {
      "application/vnd.vegalite.v2+json": {
       "$schema": "https://vega.github.io/schema/vega-lite/v2.6.0.json",
       "config": {
        "view": {
         "height": 300,
         "width": 400
        }
       },
       "data": {
        "name": "data-2e5840120e3ccd325f45eb78a2e73c5d"
       },
       "datasets": {
        "data-2e5840120e3ccd325f45eb78a2e73c5d": [
         {
          "Class": 0,
          "PC1": 9.192836826212915,
          "PC2": 1.9485830711481449
         },
         {
          "Class": 0,
          "PC1": 2.387801795803147,
          "PC2": -3.7681717431298924
         },
         {
          "Class": 0,
          "PC1": 5.73389627973195,
          "PC2": -1.075173796903417
         },
         {
          "Class": 0,
          "PC1": 7.122953197710348,
          "PC2": 10.275589120116495
         },
         {
          "Class": 0,
          "PC1": 3.9353020736776725,
          "PC2": -1.9480715673010491
         },
         {
          "Class": 0,
          "PC1": 2.3802471503461518,
          "PC2": 3.949928895295536
         },
         {
          "Class": 0,
          "PC1": 2.238883308052907,
          "PC2": -2.6900312778751814
         },
         {
          "Class": 0,
          "PC1": 2.143298500377592,
          "PC2": 2.3402440068999932
         },
         {
          "Class": 0,
          "PC1": 3.17492429308315,
          "PC2": 3.3918129525159872
         },
         {
          "Class": 0,
          "PC1": 6.35174678952631,
          "PC2": 7.7271740666083994
         },
         {
          "Class": 0,
          "PC1": -0.8104137708443071,
          "PC2": -2.6592754988242358
         },
         {
          "Class": 0,
          "PC1": 2.6511004772430056,
          "PC2": 0.0665679258596276
         },
         {
          "Class": 0,
          "PC1": 8.18503445814969,
          "PC2": 2.700976490611153
         },
         {
          "Class": 0,
          "PC1": 0.3421259139896864,
          "PC2": -0.9682792603135983
         },
         {
          "Class": 0,
          "PC1": 4.342379194647331,
          "PC2": 4.861083313097369
         },
         {
          "Class": 0,
          "PC1": 4.075656175345633,
          "PC2": 2.97706118082445
         },
         {
          "Class": 0,
          "PC1": 0.23005501571120837,
          "PC2": -1.5647577266628474
         },
         {
          "Class": 0,
          "PC1": 4.418010915983032,
          "PC2": 1.4186703333785133
         },
         {
          "Class": 0,
          "PC1": 4.948703550566102,
          "PC2": -4.114333526112753
         },
         {
          "Class": 1,
          "PC1": -1.2370633569551532,
          "PC2": -0.18821495384054332
         },
         {
          "Class": 1,
          "PC1": -1.5781612348127205,
          "PC2": 0.5728081931339117
         },
         {
          "Class": 1,
          "PC1": -3.557336373550066,
          "PC2": 1.6629499036947892
         },
         {
          "Class": 0,
          "PC1": 4.7332107882092105,
          "PC2": 3.3049637289348053
         },
         {
          "Class": 0,
          "PC1": 4.208524209050795,
          "PC2": -5.128366514978242
         },
         {
          "Class": 0,
          "PC1": 4.949632073984686,
          "PC2": -1.5437522892313
         },
         {
          "Class": 0,
          "PC1": 7.098562854911413,
          "PC2": 2.0186103378678206
         },
         {
          "Class": 0,
          "PC1": 3.5102626039716607,
          "PC2": 2.1716251158537556
         },
         {
          "Class": 0,
          "PC1": 3.064053886063418,
          "PC2": -1.8765523480328465
         },
         {
          "Class": 0,
          "PC1": 4.0072641436556875,
          "PC2": 0.5372421606912886
         },
         {
          "Class": 0,
          "PC1": 1.7153097265433355,
          "PC2": -1.5237050231954805
         },
         {
          "Class": 0,
          "PC1": 6.059445513504171,
          "PC2": -0.757177449875034
         },
         {
          "Class": 0,
          "PC1": 2.902236105000356,
          "PC2": 4.005295511712062
         },
         {
          "Class": 0,
          "PC1": 4.554782688814869,
          "PC2": 0.33753615494757155
         },
         {
          "Class": 0,
          "PC1": 4.990602722475541,
          "PC2": -1.132588905143541
         },
         {
          "Class": 0,
          "PC1": 2.9853407889710932,
          "PC2": 0.7584232422305974
         },
         {
          "Class": 0,
          "PC1": 2.766369157778729,
          "PC2": -0.3543559436075757
         },
         {
          "Class": 0,
          "PC1": 1.2961987650209055,
          "PC2": 0.913196276134123
         },
         {
          "Class": 1,
          "PC1": -3.7493133959377465,
          "PC2": -1.413473118490887
         },
         {
          "Class": 0,
          "PC1": -0.9980689008803543,
          "PC2": -3.351292922867902
         },
         {
          "Class": 0,
          "PC1": 0.7652641153964428,
          "PC2": 0.8862439526742023
         },
         {
          "Class": 0,
          "PC1": -2.1509534707306033,
          "PC2": -1.9239916156209942
         },
         {
          "Class": 0,
          "PC1": -0.09333138656694248,
          "PC2": 2.2607520058738224
         },
         {
          "Class": 0,
          "PC1": 9.087999677261807,
          "PC2": 2.0186730987546744
         },
         {
          "Class": 0,
          "PC1": 0.990453765503179,
          "PC2": 0.9849300202337031
         },
         {
          "Class": 0,
          "PC1": -0.2935465509278955,
          "PC2": -0.13709909105470056
         },
         {
          "Class": 0,
          "PC1": 5.380940406937427,
          "PC2": -0.13487697808259283
         },
         {
          "Class": 1,
          "PC1": -4.581936672186858,
          "PC2": 1.4842203182460822
         },
         {
          "Class": 0,
          "PC1": 1.700006886837756,
          "PC2": 2.3522717929795087
         },
         {
          "Class": 1,
          "PC1": -2.1364452772842197,
          "PC2": 0.09582960961361452
         },
         {
          "Class": 1,
          "PC1": -1.5674789972080627,
          "PC2": -1.2084332139008076
         },
         {
          "Class": 1,
          "PC1": -3.5429055574637047,
          "PC2": -1.2824955785217962
         },
         {
          "Class": 1,
          "PC1": -3.1578140501809524,
          "PC2": -1.6889585960204956
         },
         {
          "Class": 1,
          "PC1": -3.45048854351631,
          "PC2": -0.498218713679012
         },
         {
          "Class": 0,
          "PC1": 3.3025509513788074,
          "PC2": -1.1309378047488776
         },
         {
          "Class": 0,
          "PC1": -0.6746192855713389,
          "PC2": -2.1164097174288017
         },
         {
          "Class": 1,
          "PC1": -2.858158440046397,
          "PC2": 0.15272313607683807
         },
         {
          "Class": 0,
          "PC1": 4.648738872437889,
          "PC2": -2.3103325716454757
         },
         {
          "Class": 0,
          "PC1": 2.176862882229493,
          "PC2": 0.9721160455325107
         },
         {
          "Class": 1,
          "PC1": -3.72145899283284,
          "PC2": -1.7876416497255354
         },
         {
          "Class": 1,
          "PC1": -4.13596294378935,
          "PC2": 2.4037924848608077
         },
         {
          "Class": 1,
          "PC1": -2.3858356631345314,
          "PC2": 2.757658129808947
         },
         {
          "Class": 1,
          "PC1": -2.578883251968282,
          "PC2": 3.1386719224651816
         },
         {
          "Class": 0,
          "PC1": 4.759112153864841,
          "PC2": 3.011680507807731
         },
         {
          "Class": 1,
          "PC1": -2.314132249371714,
          "PC2": 3.267989679497975
         },
         {
          "Class": 0,
          "PC1": 1.691607923169523,
          "PC2": 1.5406765564893465
         },
         {
          "Class": 0,
          "PC1": 1.812305405006933,
          "PC2": 0.7227401911619707
         },
         {
          "Class": 1,
          "PC1": -2.7859247566657555,
          "PC2": 2.310648711515109
         },
         {
          "Class": 1,
          "PC1": -3.518648339647801,
          "PC2": -0.6583094690752856
         },
         {
          "Class": 1,
          "PC1": 4.330002649085443,
          "PC2": 9.202525684649919
         },
         {
          "Class": 1,
          "PC1": -3.261279472772355,
          "PC2": -0.9378381204094731
         },
         {
          "Class": 0,
          "PC1": 2.704596172630717,
          "PC2": -4.437141770039697
         },
         {
          "Class": 1,
          "PC1": -0.30785577047699714,
          "PC2": 7.387812177211633
         },
         {
          "Class": 0,
          "PC1": 5.503705315293399,
          "PC2": 0.9383254153352056
         },
         {
          "Class": 0,
          "PC1": -0.3617091926936404,
          "PC2": 0.11973908640445356
         },
         {
          "Class": 1,
          "PC1": -2.6299766385633134,
          "PC2": -0.6973093684576357
         },
         {
          "Class": 0,
          "PC1": 1.4281675928952857,
          "PC2": -1.9671014118312387
         },
         {
          "Class": 1,
          "PC1": -0.8345178814922322,
          "PC2": 1.9656048657120422
         },
         {
          "Class": 0,
          "PC1": 6.230896511902705,
          "PC2": 0.9200695426131366
         },
         {
          "Class": 0,
          "PC1": 11.668714648329003,
          "PC2": 4.7486172031635725
         },
         {
          "Class": 1,
          "PC1": -2.0215776584354788,
          "PC2": -0.2548998340550682
         },
         {
          "Class": 1,
          "PC1": -1.6383849373648047,
          "PC2": 1.7159491136715108
         },
         {
          "Class": 1,
          "PC1": 1.1674616110726392,
          "PC2": 2.51451584998112
         },
         {
          "Class": 0,
          "PC1": 10.769242819273147,
          "PC2": -2.2579828967242834
         },
         {
          "Class": 0,
          "PC1": 5.034811085483749,
          "PC2": 0.7744091552387049
         },
         {
          "Class": 1,
          "PC1": -2.1744643095462073,
          "PC2": 0.4968779848136181
         },
         {
          "Class": 0,
          "PC1": 3.288235384719506,
          "PC2": -1.6682370630876648
         },
         {
          "Class": 0,
          "PC1": 0.6076079451775639,
          "PC2": 0.16221452518531593
         },
         {
          "Class": 0,
          "PC1": 3.58356362606402,
          "PC2": -2.206661839574468
         },
         {
          "Class": 1,
          "PC1": -0.9341581043943178,
          "PC2": 0.9277014808325966
         },
         {
          "Class": 1,
          "PC1": 1.2596046473492963,
          "PC2": 1.015577070394007
         },
         {
          "Class": 1,
          "PC1": -1.5882639721787852,
          "PC2": -1.6196568282125765
         },
         {
          "Class": 0,
          "PC1": 0.25249756752617786,
          "PC2": -0.5313515464961347
         },
         {
          "Class": 1,
          "PC1": -2.8474315866958513,
          "PC2": -2.893647598680386
         },
         {
          "Class": 1,
          "PC1": -1.9649501129376004,
          "PC2": -0.965156988463515
         },
         {
          "Class": 0,
          "PC1": 2.775865569001873,
          "PC2": 0.5580005275699942
         },
         {
          "Class": 0,
          "PC1": 4.396227954702653,
          "PC2": -2.1235077122069352
         },
         {
          "Class": 1,
          "PC1": -2.592082827805069,
          "PC2": 0.2136339296315425
         },
         {
          "Class": 1,
          "PC1": -3.9043381501524093,
          "PC2": 1.1900666332531165
         },
         {
          "Class": 1,
          "PC1": -2.818231213142214,
          "PC2": 0.36788398113056175
         },
         {
          "Class": 0,
          "PC1": 0.6162808698252659,
          "PC2": 0.6389116688181986
         },
         {
          "Class": 0,
          "PC1": -0.4328602208165534,
          "PC2": -1.3920442987687611
         },
         {
          "Class": 1,
          "PC1": -4.555028840448185,
          "PC2": 3.528786017915364
         },
         {
          "Class": 1,
          "PC1": -3.4481835412174955,
          "PC2": -1.4246224557230749
         },
         {
          "Class": 1,
          "PC1": -2.115960264031012,
          "PC2": 1.849373605634113
         },
         {
          "Class": 1,
          "PC1": -2.6913522049629157,
          "PC2": 1.4200617408452867
         },
         {
          "Class": 0,
          "PC1": 3.21391676517809,
          "PC2": 4.046756221821012
         },
         {
          "Class": 1,
          "PC1": -0.7492713563488678,
          "PC2": 1.7976385163208444
         },
         {
          "Class": 1,
          "PC1": -3.15900603741475,
          "PC2": -1.0357494267415728
         },
         {
          "Class": 0,
          "PC1": 13.056121858662243,
          "PC2": 0.9815132277623095
         },
         {
          "Class": 1,
          "PC1": -2.228679813441983,
          "PC2": 0.6674106361099243
         },
         {
          "Class": 1,
          "PC1": -2.4928310356115295,
          "PC2": 2.598686267907332
         },
         {
          "Class": 1,
          "PC1": -0.10335042641426953,
          "PC2": 2.2801435371959893
         },
         {
          "Class": 1,
          "PC1": 3.591294118689851,
          "PC2": 3.9263331560845565
         },
         {
          "Class": 1,
          "PC1": -1.348948682872768,
          "PC2": 3.5562251010688626
         },
         {
          "Class": 1,
          "PC1": -2.5101176755579138,
          "PC2": 3.251319502716717
         },
         {
          "Class": 1,
          "PC1": -2.0460295724520776,
          "PC2": 0.3048848669912243
         },
         {
          "Class": 1,
          "PC1": -2.0970691694499943,
          "PC2": 3.667095885020978
         },
         {
          "Class": 0,
          "PC1": 3.1105276933523376,
          "PC2": 1.5693895560121094
         },
         {
          "Class": 0,
          "PC1": 4.956725570001979,
          "PC2": 2.384846219084245
         },
         {
          "Class": 0,
          "PC1": 0.8510142626661352,
          "PC2": -2.3067353692181785
         },
         {
          "Class": 1,
          "PC1": -2.9659992066222873,
          "PC2": 0.3715064819198897
         },
         {
          "Class": 0,
          "PC1": 3.3341331980211075,
          "PC2": -1.3255573549947524
         },
         {
          "Class": 0,
          "PC1": 12.894612133966175,
          "PC2": 2.3166224675804923
         },
         {
          "Class": 1,
          "PC1": -0.7707436775316084,
          "PC2": -0.0641092204608053
         },
         {
          "Class": 1,
          "PC1": -2.202515523782973,
          "PC2": -0.7356052295391895
         },
         {
          "Class": 1,
          "PC1": -3.1434122456029256,
          "PC2": -1.877409026418015
         },
         {
          "Class": 0,
          "PC1": -0.6388804999699896,
          "PC2": -0.9113660291914555
         },
         {
          "Class": 0,
          "PC1": 1.9191334226484702,
          "PC2": -3.538082368359491
         },
         {
          "Class": 1,
          "PC1": 1.4088683633923516,
          "PC2": 1.3049294068901443
         },
         {
          "Class": 0,
          "PC1": 4.643691316585745,
          "PC2": -1.4820171675231255
         },
         {
          "Class": 1,
          "PC1": -1.8774673636134482,
          "PC2": 1.4232306433308015
         },
         {
          "Class": 0,
          "PC1": 1.4320694267970797,
          "PC2": -1.0496039486770559
         },
         {
          "Class": 0,
          "PC1": 1.3526270253938752,
          "PC2": -1.1541414712613938
         },
         {
          "Class": 1,
          "PC1": -0.709114831723567,
          "PC2": -1.5682323235792923
         },
         {
          "Class": 0,
          "PC1": 2.1714160183044124,
          "PC2": -2.826260726639283
         },
         {
          "Class": 0,
          "PC1": -1.9768403553180849,
          "PC2": -0.4193874475574856
         },
         {
          "Class": 1,
          "PC1": -2.600789504019701,
          "PC2": -0.4823354688574588
         },
         {
          "Class": 1,
          "PC1": -3.25800735946917,
          "PC2": -0.4183214053781176
         },
         {
          "Class": 0,
          "PC1": 3.7820264555816383,
          "PC2": 0.8603815959449258
         },
         {
          "Class": 1,
          "PC1": -1.9920347221458583,
          "PC2": 1.32935517300168
         },
         {
          "Class": 1,
          "PC1": -5.015008689976046,
          "PC2": 0.5746999793279197
         },
         {
          "Class": 0,
          "PC1": 1.345020437737743,
          "PC2": -1.2747709561729839
         },
         {
          "Class": 1,
          "PC1": -2.455968810687217,
          "PC2": 0.8984552913962323
         },
         {
          "Class": 1,
          "PC1": -1.8372816695173446,
          "PC2": -0.09102676555327778
         },
         {
          "Class": 1,
          "PC1": -4.346489712228856,
          "PC2": -0.893572265920908
         },
         {
          "Class": 1,
          "PC1": -0.7328129161435932,
          "PC2": 3.702182382591229
         },
         {
          "Class": 0,
          "PC1": 2.399997843155165,
          "PC2": 4.837988818630398
         },
         {
          "Class": 1,
          "PC1": 0.39309866393257487,
          "PC2": 1.0830680619668998
         },
         {
          "Class": 1,
          "PC1": -0.4123278127955936,
          "PC2": -0.38963131713001653
         },
         {
          "Class": 1,
          "PC1": -3.0499249404517808,
          "PC2": -2.237784521912385
         },
         {
          "Class": 1,
          "PC1": -1.4425637316077586,
          "PC2": 0.30587045022490655
         },
         {
          "Class": 1,
          "PC1": 0.0831861026125092,
          "PC2": 7.1503598003191104
         },
         {
          "Class": 1,
          "PC1": 7.093306714193011,
          "PC2": 12.573194224399215
         },
         {
          "Class": 1,
          "PC1": -3.743404542996324,
          "PC2": 0.25050152693744077
         },
         {
          "Class": 1,
          "PC1": -0.96917281436186,
          "PC2": 0.9449443017809713
         },
         {
          "Class": 1,
          "PC1": -2.4187199081232404,
          "PC2": 0.005552413312191682
         },
         {
          "Class": 0,
          "PC1": 4.100787726594224,
          "PC2": -0.3788038190723242
         },
         {
          "Class": 1,
          "PC1": -0.7516030055358409,
          "PC2": -3.0706486580182837
         },
         {
          "Class": 1,
          "PC1": -3.654646528253241,
          "PC2": -0.674648742200588
         },
         {
          "Class": 1,
          "PC1": -4.680211576012483,
          "PC2": -1.10385724800149
         },
         {
          "Class": 1,
          "PC1": -0.5977817666135803,
          "PC2": 1.7856508748808737
         },
         {
          "Class": 0,
          "PC1": 3.3873307646415522,
          "PC2": -2.9110371076916697
         },
         {
          "Class": 0,
          "PC1": 6.149886189966208,
          "PC2": -2.017652754906961
         },
         {
          "Class": 1,
          "PC1": -1.3250313470426305,
          "PC2": 1.4692940244952613
         },
         {
          "Class": 0,
          "PC1": 5.494152797675893,
          "PC2": -4.165829306795582
         },
         {
          "Class": 1,
          "PC1": -2.997403207131242,
          "PC2": -2.7388610521515893
         },
         {
          "Class": 1,
          "PC1": -4.38673272110671,
          "PC2": 0.006872281401062567
         },
         {
          "Class": 0,
          "PC1": 1.2136346121482793,
          "PC2": -2.039038957809716
         },
         {
          "Class": 0,
          "PC1": 5.069661081475157,
          "PC2": -1.7851523340472886
         },
         {
          "Class": 1,
          "PC1": -1.9777014396334243,
          "PC2": -1.8427794204215515
         },
         {
          "Class": 1,
          "PC1": -2.5148764188900654,
          "PC2": 0.11425229897505812
         },
         {
          "Class": 0,
          "PC1": -0.9474878917471892,
          "PC2": -1.6847535473080284
         },
         {
          "Class": 0,
          "PC1": 2.81936834346598,
          "PC2": 1.2651031322404331
         },
         {
          "Class": 1,
          "PC1": -3.48398629801993,
          "PC2": 1.6196919824822704
         },
         {
          "Class": 1,
          "PC1": -4.658729577967027,
          "PC2": -0.22291481400017077
         },
         {
          "Class": 1,
          "PC1": -5.351618114937291,
          "PC2": 1.0267578593781717
         },
         {
          "Class": 1,
          "PC1": 1.1708977789074226,
          "PC2": 7.014486576403681
         },
         {
          "Class": 0,
          "PC1": 2.9563018671440124,
          "PC2": 0.7064218523564828
         },
         {
          "Class": 1,
          "PC1": -4.975702062160205,
          "PC2": -3.3862048668683693
         },
         {
          "Class": 1,
          "PC1": -4.0640256587402455,
          "PC2": -1.2461661740722496
         },
         {
          "Class": 0,
          "PC1": 9.51266984416635,
          "PC2": -5.603484192718129
         },
         {
          "Class": 0,
          "PC1": 9.007165526291118,
          "PC2": 0.5810310786366392
         },
         {
          "Class": 0,
          "PC1": 0.7588784847621727,
          "PC2": -1.6085325769264471
         },
         {
          "Class": 1,
          "PC1": -2.659359615352682,
          "PC2": 0.5399358001896488
         },
         {
          "Class": 0,
          "PC1": -0.39001898105902066,
          "PC2": -0.989242352811393
         },
         {
          "Class": 1,
          "PC1": -3.889065527186915,
          "PC2": 0.8160717109368892
         },
         {
          "Class": 0,
          "PC1": 0.36487615184093697,
          "PC2": -3.5744612261352895
         },
         {
          "Class": 1,
          "PC1": -2.8358909181560468,
          "PC2": -0.39872969455340296
         },
         {
          "Class": 1,
          "PC1": -3.3102836207388715,
          "PC2": 0.15574119410085627
         },
         {
          "Class": 1,
          "PC1": -3.357304402556048,
          "PC2": -1.1037324225715481
         },
         {
          "Class": 0,
          "PC1": 6.5231166202928375,
          "PC2": 8.011169611512635
         },
         {
          "Class": 1,
          "PC1": -1.7177351761069146,
          "PC2": -0.5431655283496721
         },
         {
          "Class": 1,
          "PC1": -5.565735898980706,
          "PC2": -0.47784757923889926
         },
         {
          "Class": 0,
          "PC1": 1.7796614892327416,
          "PC2": 2.776587169232349
         },
         {
          "Class": 0,
          "PC1": 2.6114848931595187,
          "PC2": 1.5614217102882857
         },
         {
          "Class": 1,
          "PC1": -2.8190385096121773,
          "PC2": -0.9701105666851056
         },
         {
          "Class": 0,
          "PC1": 2.4984388777247433,
          "PC2": 2.2784828512212303
         },
         {
          "Class": 0,
          "PC1": 1.2770271752986664,
          "PC2": -2.443258963511634
         },
         {
          "Class": 0,
          "PC1": 3.4731973428499274,
          "PC2": -2.2778489098827124
         },
         {
          "Class": 0,
          "PC1": 1.2566751119858728,
          "PC2": 0.38239326373401916
         },
         {
          "Class": 1,
          "PC1": -1.47343136921637,
          "PC2": 0.11689025659207088
         },
         {
          "Class": 0,
          "PC1": 1.6494606959344837,
          "PC2": -2.1022910711263307
         },
         {
          "Class": 0,
          "PC1": 9.036589480304205,
          "PC2": -0.6551728238961367
         },
         {
          "Class": 0,
          "PC1": 4.5545900647891875,
          "PC2": 3.086639154559912
         },
         {
          "Class": 1,
          "PC1": -0.781189966898586,
          "PC2": 0.6528492589103594
         },
         {
          "Class": 0,
          "PC1": -0.2230926067834913,
          "PC2": -0.7018214908352148
         },
         {
          "Class": 1,
          "PC1": -3.454895386096088,
          "PC2": 1.3069387231200795
         },
         {
          "Class": 0,
          "PC1": 0.44654439641742033,
          "PC2": -2.7877077407834387
         },
         {
          "Class": 1,
          "PC1": 0.3144382259614918,
          "PC2": 2.0775607278903965
         },
         {
          "Class": 1,
          "PC1": -2.0591919425453598,
          "PC2": -2.4727877878447866
         },
         {
          "Class": 0,
          "PC1": 4.808969244732291,
          "PC2": -3.029102967917898
         },
         {
          "Class": 1,
          "PC1": -2.998710528238075,
          "PC2": -0.39677802836456266
         },
         {
          "Class": 0,
          "PC1": 12.285019759540281,
          "PC2": -7.543410167981729
         },
         {
          "Class": 0,
          "PC1": 3.3721965906432114,
          "PC2": 2.5878254285330895
         },
         {
          "Class": 0,
          "PC1": 2.508766311623512,
          "PC2": 2.6146484764429654
         },
         {
          "Class": 0,
          "PC1": 1.3180684765427175,
          "PC2": 2.1544795010229216
         },
         {
          "Class": 1,
          "PC1": -0.3887562987551883,
          "PC2": 2.276797894242513
         },
         {
          "Class": 1,
          "PC1": -2.7569329912570915,
          "PC2": 1.0868346855432227
         },
         {
          "Class": 0,
          "PC1": 4.943581014506861,
          "PC2": -2.8483244580047744
         },
         {
          "Class": 0,
          "PC1": 4.298077329828416,
          "PC2": -4.666275179786185
         },
         {
          "Class": 1,
          "PC1": -2.373501801974651,
          "PC2": -0.7334025644004442
         },
         {
          "Class": 1,
          "PC1": -0.9671903116032851,
          "PC2": 0.43843818234231313
         },
         {
          "Class": 1,
          "PC1": -2.975798787940647,
          "PC2": 1.810973775431682
         },
         {
          "Class": 0,
          "PC1": 1.8032470204671556,
          "PC2": 0.16646095666139715
         },
         {
          "Class": 1,
          "PC1": -2.4783595123716897,
          "PC2": -1.4185764474728173
         },
         {
          "Class": 1,
          "PC1": -0.8260392924376352,
          "PC2": -1.250247472905012
         },
         {
          "Class": 1,
          "PC1": -3.8946973283396997,
          "PC2": 0.53857074467312
         },
         {
          "Class": 1,
          "PC1": -0.38957809021801626,
          "PC2": -0.6144154693240971
         },
         {
          "Class": 1,
          "PC1": -1.4573213567984673,
          "PC2": -0.20172675702563353
         },
         {
          "Class": 0,
          "PC1": 2.755568001153415,
          "PC2": 3.4657736042172034
         },
         {
          "Class": 0,
          "PC1": 3.2572546734782533,
          "PC2": -0.1252004913828075
         },
         {
          "Class": 1,
          "PC1": -4.019140240565398,
          "PC2": -1.3542473795628869
         },
         {
          "Class": 1,
          "PC1": -3.67641329316784,
          "PC2": -1.2916290597701396
         },
         {
          "Class": 0,
          "PC1": 3.3163241134468993,
          "PC2": -3.9391522594000024
         },
         {
          "Class": 1,
          "PC1": -4.036607361757475,
          "PC2": 1.1625461073955143
         },
         {
          "Class": 1,
          "PC1": -2.3342333502298693,
          "PC2": -1.3489797326072266
         },
         {
          "Class": 0,
          "PC1": 8.403847113457706,
          "PC2": -4.153904776842731
         },
         {
          "Class": 0,
          "PC1": 2.647568633084156,
          "PC2": -3.9511729520975414
         },
         {
          "Class": 1,
          "PC1": -0.6817688659209536,
          "PC2": -1.1359911299831167
         },
         {
          "Class": 0,
          "PC1": 3.350295790634839,
          "PC2": -2.1545700259879332
         },
         {
          "Class": 1,
          "PC1": -2.2277205188197784,
          "PC2": -1.2149996867134039
         },
         {
          "Class": 1,
          "PC1": -4.477584655730322,
          "PC2": -1.7411293626459081
         },
         {
          "Class": 1,
          "PC1": 1.3226214188387166,
          "PC2": 4.789476584120894
         },
         {
          "Class": 1,
          "PC1": -1.8500898601409572,
          "PC2": -1.5841281491588723
         },
         {
          "Class": 0,
          "PC1": 3.795565641824241,
          "PC2": -1.0262326410944391
         },
         {
          "Class": 1,
          "PC1": -2.2813180992389657,
          "PC2": 2.0776859790558126
         },
         {
          "Class": 1,
          "PC1": -3.2287701182772826,
          "PC2": -1.1720734788088254
         },
         {
          "Class": 1,
          "PC1": 1.025900787648251,
          "PC2": 2.3612619448868712
         },
         {
          "Class": 1,
          "PC1": -2.5825558372813697,
          "PC2": 0.7292131137191954
         },
         {
          "Class": 1,
          "PC1": -2.485883225506344,
          "PC2": 0.46059640267835106
         },
         {
          "Class": 0,
          "PC1": 7.143842039052058,
          "PC2": -2.0748422316480477
         },
         {
          "Class": 1,
          "PC1": -3.032481140772903,
          "PC2": -0.6494687995033016
         },
         {
          "Class": 0,
          "PC1": 7.085010648788004,
          "PC2": 0.5282231712667229
         },
         {
          "Class": 0,
          "PC1": 1.3140990035992124,
          "PC2": -1.7754258317860439
         },
         {
          "Class": 0,
          "PC1": 3.711649514780612,
          "PC2": -2.807477111630912
         },
         {
          "Class": 0,
          "PC1": 0.4604790908476992,
          "PC2": 0.39416628858007535
         },
         {
          "Class": 0,
          "PC1": 6.392649920534066,
          "PC2": -1.8230941623119947
         },
         {
          "Class": 0,
          "PC1": 5.255544949777771,
          "PC2": 3.8945309903683185
         },
         {
          "Class": 0,
          "PC1": 8.73386150295214,
          "PC2": 3.2798773771184107
         },
         {
          "Class": 0,
          "PC1": 3.6913178802280755,
          "PC2": 1.0656460679265556
         },
         {
          "Class": 0,
          "PC1": 3.378250872695956,
          "PC2": -3.371227892134948
         },
         {
          "Class": 0,
          "PC1": -0.8402096538366525,
          "PC2": -3.500085032511832
         },
         {
          "Class": 0,
          "PC1": 3.284372619973354,
          "PC2": -0.9906732011773106
         },
         {
          "Class": 0,
          "PC1": -1.9087689281363267,
          "PC2": -3.121945805537716
         },
         {
          "Class": 0,
          "PC1": 1.6147819253563869,
          "PC2": -2.4745733484156633
         },
         {
          "Class": 0,
          "PC1": 6.619726346837941,
          "PC2": -6.003276418802678
         },
         {
          "Class": 1,
          "PC1": -1.4646759334591932,
          "PC2": 1.6866318146327688
         },
         {
          "Class": 1,
          "PC1": -2.0121524285189345,
          "PC2": -1.1034865579540103
         },
         {
          "Class": 1,
          "PC1": -2.284340252070594,
          "PC2": 0.009493639128998988
         },
         {
          "Class": 1,
          "PC1": -0.7397430856444754,
          "PC2": 3.1525206045122895
         },
         {
          "Class": 1,
          "PC1": -4.506562510681889,
          "PC2": -3.169272587454816
         },
         {
          "Class": 1,
          "PC1": -3.158754301407403,
          "PC2": 0.4103017949566793
         },
         {
          "Class": 0,
          "PC1": 7.676149471669345,
          "PC2": -3.075306303663615
         },
         {
          "Class": 1,
          "PC1": -3.6391359671598553,
          "PC2": 1.5895870645243655
         },
         {
          "Class": 0,
          "PC1": 0.3373454926445428,
          "PC2": -3.14437345847241
         },
         {
          "Class": 1,
          "PC1": -1.276583379151843,
          "PC2": 0.849052983808887
         },
         {
          "Class": 1,
          "PC1": -4.346014054231029,
          "PC2": -0.3219780561845003
         },
         {
          "Class": 0,
          "PC1": 0.017430791487794573,
          "PC2": -3.45934329166204
         },
         {
          "Class": 1,
          "PC1": -3.492426037286945,
          "PC2": -2.634082400672632
         },
         {
          "Class": 1,
          "PC1": -1.8665488536846653,
          "PC2": -0.9020642091579778
         },
         {
          "Class": 0,
          "PC1": 4.960268117828007,
          "PC2": -1.3411230474348599
         },
         {
          "Class": 1,
          "PC1": -2.470722685223177,
          "PC2": -0.13802626454394837
         },
         {
          "Class": 0,
          "PC1": 3.785060102923869,
          "PC2": -1.90190741679472
         },
         {
          "Class": 0,
          "PC1": 2.6372557772712404,
          "PC2": 0.5771549969818128
         },
         {
          "Class": 1,
          "PC1": -1.3726850236669355,
          "PC2": 0.005805461790914019
         },
         {
          "Class": 1,
          "PC1": -4.138882573259422,
          "PC2": -1.376508239890939
         },
         {
          "Class": 1,
          "PC1": -0.6869402913903113,
          "PC2": 1.6950096240785004
         },
         {
          "Class": 1,
          "PC1": -4.312129582743059,
          "PC2": -1.9784861328824461
         },
         {
          "Class": 1,
          "PC1": 0.40330942137512776,
          "PC2": 3.723434005221485
         },
         {
          "Class": 1,
          "PC1": -3.003605795320981,
          "PC2": 0.35416022694666743
         },
         {
          "Class": 1,
          "PC1": 3.1340082054421616,
          "PC2": 4.273459555957882
         },
         {
          "Class": 1,
          "PC1": -0.4178368668818505,
          "PC2": -0.8085765710501752
         },
         {
          "Class": 1,
          "PC1": -1.4202231350812078,
          "PC2": 1.3939781121157395
         },
         {
          "Class": 1,
          "PC1": -2.870588347786222,
          "PC2": -0.26864450906108117
         },
         {
          "Class": 1,
          "PC1": -3.365845704071674,
          "PC2": -0.8076006150075236
         },
         {
          "Class": 1,
          "PC1": -3.3150001548356123,
          "PC2": -1.442176229983756
         },
         {
          "Class": 1,
          "PC1": -4.769710159699522,
          "PC2": -0.5429618602765388
         },
         {
          "Class": 0,
          "PC1": -2.3858827584200317,
          "PC2": -0.824115571559197
         },
         {
          "Class": 1,
          "PC1": -2.7870960094315853,
          "PC2": -2.5330340023881086
         },
         {
          "Class": 1,
          "PC1": -3.3938417715188427,
          "PC2": 0.7539639576382473
         },
         {
          "Class": 0,
          "PC1": 6.590235943345042,
          "PC2": -1.4848624506345702
         },
         {
          "Class": 1,
          "PC1": -1.4553305178969744,
          "PC2": 0.5919428681328226
         },
         {
          "Class": 0,
          "PC1": 7.182933102085843,
          "PC2": 0.05514606067468585
         },
         {
          "Class": 1,
          "PC1": -3.5788354034465586,
          "PC2": 0.8915829910709903
         },
         {
          "Class": 1,
          "PC1": -3.0570326418737053,
          "PC2": -0.1792133860252658
         },
         {
          "Class": 1,
          "PC1": -3.074435831561313,
          "PC2": -0.3060584349356046
         },
         {
          "Class": 1,
          "PC1": -3.8535397332557193,
          "PC2": -1.5247264225850705
         },
         {
          "Class": 1,
          "PC1": -5.390256393774483,
          "PC2": 0.5562555050745062
         },
         {
          "Class": 1,
          "PC1": -4.657682334494785,
          "PC2": -3.065387433660155
         },
         {
          "Class": 1,
          "PC1": -4.027542388107936,
          "PC2": -2.542907043596929
         },
         {
          "Class": 1,
          "PC1": -3.347821941609996,
          "PC2": -0.06856304806368611
         },
         {
          "Class": 1,
          "PC1": -3.2998420114684586,
          "PC2": -3.1387093940118223
         },
         {
          "Class": 1,
          "PC1": -2.136404142351023,
          "PC2": -0.00439284877024505
         },
         {
          "Class": 1,
          "PC1": -4.038017141737195,
          "PC2": -0.24069805413910583
         },
         {
          "Class": 1,
          "PC1": -3.7654145532590517,
          "PC2": 4.398200493783557
         },
         {
          "Class": 1,
          "PC1": -4.871239383480912,
          "PC2": -2.339214787367499
         },
         {
          "Class": 1,
          "PC1": -4.747248516355297,
          "PC2": -1.7984019747276876
         },
         {
          "Class": 0,
          "PC1": 1.8953162763189246,
          "PC2": -2.3922380031407164
         },
         {
          "Class": 1,
          "PC1": 1.5729311406079203,
          "PC2": 6.509099308016966
         },
         {
          "Class": 1,
          "PC1": -4.026620252659031,
          "PC2": -1.4022064625132518
         },
         {
          "Class": 1,
          "PC1": -1.294866170094483,
          "PC2": 3.470808638726752
         },
         {
          "Class": 0,
          "PC1": 1.8348404671474388,
          "PC2": -4.321522964170468
         },
         {
          "Class": 1,
          "PC1": -1.8103805588905268,
          "PC2": 0.3962073013121827
         },
         {
          "Class": 0,
          "PC1": 7.23648531439237,
          "PC2": -0.03570179753720663
         },
         {
          "Class": 1,
          "PC1": -3.145650188521297,
          "PC2": -0.7425265418098365
         },
         {
          "Class": 1,
          "PC1": -2.8872680582395813,
          "PC2": -0.46473162446506455
         },
         {
          "Class": 1,
          "PC1": -3.1496539838204756,
          "PC2": -1.7712483970782429
         },
         {
          "Class": 1,
          "PC1": -4.6283794830502645,
          "PC2": -1.835618361665881
         },
         {
          "Class": 0,
          "PC1": 2.2505103740996892,
          "PC2": -0.3485359404880688
         },
         {
          "Class": 0,
          "PC1": 2.1078012278780984,
          "PC2": 1.1219739436485376
         },
         {
          "Class": 0,
          "PC1": 1.785949980319113,
          "PC2": -0.2692216355539857
         },
         {
          "Class": 1,
          "PC1": -0.5276966174014373,
          "PC2": 1.2658716230414204
         },
         {
          "Class": 1,
          "PC1": -3.213500980500883,
          "PC2": 1.103443141797208
         },
         {
          "Class": 1,
          "PC1": -4.386422966518202,
          "PC2": -0.7611037293765304
         },
         {
          "Class": 1,
          "PC1": -3.810017869830366,
          "PC2": -0.9099185552396227
         },
         {
          "Class": 0,
          "PC1": 3.3196739715210914,
          "PC2": -1.5770528436992406
         },
         {
          "Class": 1,
          "PC1": -2.3932759643300963,
          "PC2": 0.9900307776792684
         },
         {
          "Class": 0,
          "PC1": 4.680166262401313,
          "PC2": -0.9685929552528909
         },
         {
          "Class": 1,
          "PC1": -3.0676951406045365,
          "PC2": 1.1358375681520367
         },
         {
          "Class": 0,
          "PC1": 7.353218575028077,
          "PC2": -5.242623142782834
         },
         {
          "Class": 1,
          "PC1": 0.29531318324772315,
          "PC2": 0.226935036244125
         },
         {
          "Class": 1,
          "PC1": -1.938969496947871,
          "PC2": 2.544988113795847
         },
         {
          "Class": 1,
          "PC1": -2.0771789214306424,
          "PC2": 1.8065194884543425
         },
         {
          "Class": 0,
          "PC1": 4.975162358415984,
          "PC2": -1.332572180814037
         },
         {
          "Class": 1,
          "PC1": -2.176916879584335,
          "PC2": 0.958911259529304
         },
         {
          "Class": 1,
          "PC1": -2.4315514550088992,
          "PC2": 3.4472038666559546
         },
         {
          "Class": 1,
          "PC1": -3.3679657788776822,
          "PC2": -0.5629288982322024
         },
         {
          "Class": 1,
          "PC1": -1.2065977905118,
          "PC2": -1.317044339239007
         },
         {
          "Class": 1,
          "PC1": -3.326079248708683,
          "PC2": 0.47517158120422387
         },
         {
          "Class": 1,
          "PC1": -1.9287954022359355,
          "PC2": 1.4614697983553802
         },
         {
          "Class": 1,
          "PC1": -4.0418350899547155,
          "PC2": -1.3569174564589255
         },
         {
          "Class": 0,
          "PC1": 6.18228374169213,
          "PC2": 5.108005449685199
         },
         {
          "Class": 0,
          "PC1": 10.934298158426394,
          "PC2": -3.703254079957143
         },
         {
          "Class": 0,
          "PC1": 2.118496931928452,
          "PC2": 0.2966290685699477
         },
         {
          "Class": 1,
          "PC1": -3.0121949701583755,
          "PC2": 0.24375997564722418
         },
         {
          "Class": 1,
          "PC1": -0.9826485812699012,
          "PC2": 0.7972523943057171
         },
         {
          "Class": 1,
          "PC1": 0.3578938625185252,
          "PC2": 2.127838631618564
         },
         {
          "Class": 1,
          "PC1": -3.193917865505276,
          "PC2": -1.8491520737819078
         },
         {
          "Class": 1,
          "PC1": -2.9932333012454353,
          "PC2": 1.6313922070176088
         },
         {
          "Class": 1,
          "PC1": -3.193914150468154,
          "PC2": 0.5793394415558001
         },
         {
          "Class": 1,
          "PC1": -4.591961853506047,
          "PC2": -2.7611270965520918
         },
         {
          "Class": 1,
          "PC1": -2.48591615441281,
          "PC2": -1.1889394037812522
         },
         {
          "Class": 1,
          "PC1": -2.3986653462111907,
          "PC2": -0.25074479051387655
         },
         {
          "Class": 1,
          "PC1": -0.7796151997476325,
          "PC2": -2.12434342774402
         },
         {
          "Class": 1,
          "PC1": -3.1399884257529327,
          "PC2": -1.4880221618427212
         },
         {
          "Class": 0,
          "PC1": 2.7350117716757834,
          "PC2": -3.9451682308469738
         },
         {
          "Class": 0,
          "PC1": 6.227025988690047,
          "PC2": -1.3901096918732443
         },
         {
          "Class": 1,
          "PC1": -2.223775745579118,
          "PC2": -0.3571607109921176
         },
         {
          "Class": 0,
          "PC1": 5.307140022002336,
          "PC2": -6.723414984866218
         },
         {
          "Class": 0,
          "PC1": 7.248001061273225,
          "PC2": -3.655469128947247
         },
         {
          "Class": 0,
          "PC1": 4.20722061895582,
          "PC2": 1.1762428814046697
         },
         {
          "Class": 1,
          "PC1": -2.499636374112564,
          "PC2": -2.0185356263280276
         },
         {
          "Class": 0,
          "PC1": 3.6350149466826847,
          "PC2": -1.9564409099258964
         },
         {
          "Class": 0,
          "PC1": 3.5192482750139678,
          "PC2": -3.858607120664656
         },
         {
          "Class": 1,
          "PC1": -2.6149483072403976,
          "PC2": -1.1024744591292386
         },
         {
          "Class": 1,
          "PC1": -0.09610811657684404,
          "PC2": -0.12984758259606777
         },
         {
          "Class": 1,
          "PC1": 2.0448569345661767,
          "PC2": 6.42681984008961
         },
         {
          "Class": 1,
          "PC1": -3.0667495275574588,
          "PC2": -2.1820956997256875
         },
         {
          "Class": 1,
          "PC1": -1.6035864433858418,
          "PC2": 0.29259622202993235
         },
         {
          "Class": 0,
          "PC1": 3.765932154104665,
          "PC2": 5.985295348777781
         },
         {
          "Class": 1,
          "PC1": -0.9255666032071975,
          "PC2": 2.302481429635118
         },
         {
          "Class": 1,
          "PC1": -3.2883495941018146,
          "PC2": 0.2013113373363653
         },
         {
          "Class": 1,
          "PC1": -1.5548521496518535,
          "PC2": 0.9798577288570044
         },
         {
          "Class": 1,
          "PC1": -0.39877991758101355,
          "PC2": 2.1612126914878425
         },
         {
          "Class": 1,
          "PC1": -2.3005678213339897,
          "PC2": -0.932077583629439
         },
         {
          "Class": 0,
          "PC1": -0.5429013641684904,
          "PC2": -1.31706791049938
         },
         {
          "Class": 1,
          "PC1": -2.058819455829791,
          "PC2": 0.320435145826373
         },
         {
          "Class": 1,
          "PC1": -3.4245180552312973,
          "PC2": -2.44551841136915
         },
         {
          "Class": 1,
          "PC1": -0.47240655185334646,
          "PC2": 3.7028294388332914
         },
         {
          "Class": 0,
          "PC1": 4.703500731699746,
          "PC2": -0.1959557558835905
         },
         {
          "Class": 1,
          "PC1": -3.643380238614189,
          "PC2": 0.7868599164310996
         },
         {
          "Class": 1,
          "PC1": -3.594689343590685,
          "PC2": 2.6050872178348152
         },
         {
          "Class": 0,
          "PC1": 4.149097342449385,
          "PC2": 0.7674888437373406
         },
         {
          "Class": 0,
          "PC1": 7.67214155262528,
          "PC2": -0.8604841496467965
         },
         {
          "Class": 1,
          "PC1": -2.0103794137579634,
          "PC2": 0.4296895609565873
         },
         {
          "Class": 1,
          "PC1": -2.9208334948368257,
          "PC2": -1.700472475059249
         },
         {
          "Class": 1,
          "PC1": -0.5007378002661662,
          "PC2": 0.10673146471486368
         },
         {
          "Class": 1,
          "PC1": -1.9114985749234987,
          "PC2": -0.6513938792655822
         },
         {
          "Class": 1,
          "PC1": -3.785099227795605,
          "PC2": -0.32614636747766274
         },
         {
          "Class": 1,
          "PC1": -2.708393968213715,
          "PC2": -0.21966574139080935
         },
         {
          "Class": 0,
          "PC1": 6.289673469533273,
          "PC2": 2.0365473991562504
         },
         {
          "Class": 1,
          "PC1": -3.4307706912386773,
          "PC2": -0.9926100350298399
         },
         {
          "Class": 1,
          "PC1": -2.0013884663893537,
          "PC2": -0.29332646323538303
         },
         {
          "Class": 1,
          "PC1": -2.473293094286822,
          "PC2": -0.3350470268815923
         },
         {
          "Class": 1,
          "PC1": -3.6472577463942883,
          "PC2": -1.2413651250833073
         },
         {
          "Class": 1,
          "PC1": -2.346186850942202,
          "PC2": 0.6827413166405988
         },
         {
          "Class": 1,
          "PC1": -1.142996926547729,
          "PC2": -1.9621714940032033
         },
         {
          "Class": 1,
          "PC1": -1.3508573033314752,
          "PC2": 0.36957390144696867
         },
         {
          "Class": 0,
          "PC1": 2.763370786289851,
          "PC2": -1.0786335087871026
         },
         {
          "Class": 1,
          "PC1": -1.9693236050361407,
          "PC2": -0.17584850902988164
         },
         {
          "Class": 1,
          "PC1": -2.931187055439189,
          "PC2": -0.49485623006700347
         },
         {
          "Class": 1,
          "PC1": -2.9263743861498983,
          "PC2": 0.377332256441746
         },
         {
          "Class": 1,
          "PC1": -3.996188277410337,
          "PC2": 0.9598560897440402
         },
         {
          "Class": 1,
          "PC1": 0.15513805946842998,
          "PC2": -0.4380082281607258
         },
         {
          "Class": 0,
          "PC1": -0.934090810373287,
          "PC2": -2.105945591350871
         },
         {
          "Class": 1,
          "PC1": -1.9296217302558476,
          "PC2": 0.8924666908355022
         },
         {
          "Class": 1,
          "PC1": -2.622338601703757,
          "PC2": 2.502101617764445
         },
         {
          "Class": 0,
          "PC1": 6.003616591373859,
          "PC2": -0.09102922292888346
         },
         {
          "Class": 1,
          "PC1": -2.9218778045738865,
          "PC2": -0.009212682084411094
         },
         {
          "Class": 1,
          "PC1": -3.3419448039486666,
          "PC2": -0.022224731153965768
         },
         {
          "Class": 1,
          "PC1": -2.014915033412375,
          "PC2": 0.7784521318836097
         },
         {
          "Class": 1,
          "PC1": 1.9884621055502152,
          "PC2": 2.3160480552975606
         },
         {
          "Class": 1,
          "PC1": -1.669603930600959,
          "PC2": 0.862318853092027
         },
         {
          "Class": 1,
          "PC1": -0.3711781135189747,
          "PC2": 0.1136126591982162
         },
         {
          "Class": 1,
          "PC1": -1.8489599298380235,
          "PC2": 2.5412296501610205
         },
         {
          "Class": 1,
          "PC1": -4.703042202111526,
          "PC2": -0.4323024303882432
         },
         {
          "Class": 1,
          "PC1": -1.283187150786232,
          "PC2": 2.5509093102646787
         },
         {
          "Class": 1,
          "PC1": -2.314246819305111,
          "PC2": 0.40203147740535766
         },
         {
          "Class": 1,
          "PC1": -4.659085176411028,
          "PC2": -0.7822987563666354
         },
         {
          "Class": 1,
          "PC1": -3.9434733817354495,
          "PC2": -2.0300162863418447
         },
         {
          "Class": 0,
          "PC1": 4.949858461548204,
          "PC2": 3.0060641314074794
         },
         {
          "Class": 1,
          "PC1": -0.9158035193315692,
          "PC2": 2.479013128960259
         },
         {
          "Class": 0,
          "PC1": 4.5491111466284355,
          "PC2": -0.8160005061108615
         },
         {
          "Class": 0,
          "PC1": 4.442342818131353,
          "PC2": -0.9924388982947102
         },
         {
          "Class": 1,
          "PC1": -2.194984301020652,
          "PC2": -1.8053532376788122
         },
         {
          "Class": 0,
          "PC1": 0.6644409146918826,
          "PC2": 0.43686085492887056
         },
         {
          "Class": 1,
          "PC1": -2.240876053643217,
          "PC2": -0.4545895113501197
         },
         {
          "Class": 1,
          "PC1": -2.125180436920068,
          "PC2": -1.194796911864345
         },
         {
          "Class": 1,
          "PC1": -2.6153174112218553,
          "PC2": -1.8320604330216939
         },
         {
          "Class": 1,
          "PC1": -3.2109679756623377,
          "PC2": -2.2351427039427576
         },
         {
          "Class": 1,
          "PC1": -0.30675039870763526,
          "PC2": 2.184998833115139
         },
         {
          "Class": 0,
          "PC1": 2.4723569167739456,
          "PC2": -1.499824752019139
         },
         {
          "Class": 1,
          "PC1": -3.4547183721133927,
          "PC2": -2.1364615475688553
         },
         {
          "Class": 1,
          "PC1": -3.900526848059669,
          "PC2": 0.7307759715968595
         },
         {
          "Class": 0,
          "PC1": 0.9817275418951543,
          "PC2": -2.2104299468335813
         },
         {
          "Class": 1,
          "PC1": -1.2572515710229435,
          "PC2": 1.067691514911801
         },
         {
          "Class": 0,
          "PC1": 3.2454136489029652,
          "PC2": -1.778358631948324
         },
         {
          "Class": 1,
          "PC1": -1.5572194125369736,
          "PC2": -1.037927106451215
         },
         {
          "Class": 1,
          "PC1": -1.2492580966984468,
          "PC2": -1.5888387891563922
         },
         {
          "Class": 0,
          "PC1": 4.331653344536305,
          "PC2": -4.049332418789139
         },
         {
          "Class": 1,
          "PC1": -1.0774513298931259,
          "PC2": 1.8036181629121613
         },
         {
          "Class": 0,
          "PC1": 2.5117531022601267,
          "PC2": -2.528807582665909
         },
         {
          "Class": 1,
          "PC1": -2.217092305447948,
          "PC2": 0.029891288214296517
         },
         {
          "Class": 1,
          "PC1": -1.1738306467781974,
          "PC2": -0.4748395056707416
         },
         {
          "Class": 1,
          "PC1": -2.836301444333266,
          "PC2": -1.018125806516153
         },
         {
          "Class": 1,
          "PC1": -1.8570858988743846,
          "PC2": -1.5713931195884645
         },
         {
          "Class": 1,
          "PC1": -1.3286143729585522,
          "PC2": 0.7770956610978819
         },
         {
          "Class": 1,
          "PC1": -2.8027713567762844,
          "PC2": -1.6663016341319803
         },
         {
          "Class": 1,
          "PC1": -3.1745687967642287,
          "PC2": -2.075733618818642
         },
         {
          "Class": 1,
          "PC1": -4.087077360931953,
          "PC2": -0.4847100786807035
         },
         {
          "Class": 0,
          "PC1": 3.4754937481318144,
          "PC2": -1.6728843923169978
         },
         {
          "Class": 0,
          "PC1": 16.319233231031475,
          "PC2": -7.775852803663495
         },
         {
          "Class": 1,
          "PC1": -2.560115018018031,
          "PC2": -2.494045446252018
         },
         {
          "Class": 1,
          "PC1": -2.9688887959165515,
          "PC2": -0.06884713629118656
         },
         {
          "Class": 1,
          "PC1": -2.757430451020421,
          "PC2": -1.79391876776723
         },
         {
          "Class": 1,
          "PC1": 1.3703398754406624,
          "PC2": 2.1100113490862924
         },
         {
          "Class": 1,
          "PC1": -0.4176644925535262,
          "PC2": 0.116519697775208
         },
         {
          "Class": 1,
          "PC1": -3.838398622981322,
          "PC2": 0.899178648662694
         },
         {
          "Class": 0,
          "PC1": 5.930964859584066,
          "PC2": 1.228296682037247
         },
         {
          "Class": 1,
          "PC1": 0.6454786474864557,
          "PC2": 3.426011421180608
         },
         {
          "Class": 1,
          "PC1": -2.6838464009796685,
          "PC2": 1.4435555294397369
         },
         {
          "Class": 1,
          "PC1": -2.04166405210562,
          "PC2": -0.9032559293146257
         },
         {
          "Class": 1,
          "PC1": -1.3992963501124132,
          "PC2": -1.7722262449087156
         },
         {
          "Class": 1,
          "PC1": -3.5364152954178465,
          "PC2": -1.2468541533662878
         },
         {
          "Class": 1,
          "PC1": -1.9905294465915586,
          "PC2": 1.8994625514899102
         },
         {
          "Class": 1,
          "PC1": -1.9981853671294028,
          "PC2": -0.20637113627572376
         },
         {
          "Class": 1,
          "PC1": -0.5206581123169242,
          "PC2": -0.9733678108368395
         },
         {
          "Class": 1,
          "PC1": -3.1723704882490282,
          "PC2": -2.089052297119209
         },
         {
          "Class": 1,
          "PC1": -2.2027101890563037,
          "PC2": 1.286039318173581
         },
         {
          "Class": 0,
          "PC1": 3.8244330429401785,
          "PC2": 2.3052363175164663
         },
         {
          "Class": 1,
          "PC1": -2.9854846903265417,
          "PC2": -0.6733392440371215
         },
         {
          "Class": 1,
          "PC1": -2.4810551072777542,
          "PC2": -2.363958760462834
         },
         {
          "Class": 1,
          "PC1": -1.2721114612778868,
          "PC2": 0.5098338478772717
         },
         {
          "Class": 1,
          "PC1": -2.235156888078125,
          "PC2": -1.2987044936512158
         },
         {
          "Class": 1,
          "PC1": -0.05618310431230793,
          "PC2": -0.22738339229748658
         },
         {
          "Class": 1,
          "PC1": 2.3173906062810548,
          "PC2": 4.389134334455694
         },
         {
          "Class": 1,
          "PC1": -2.2843312608518995,
          "PC2": -2.4668407564082675
         },
         {
          "Class": 0,
          "PC1": 4.754614870668942,
          "PC2": -1.489423560603846
         },
         {
          "Class": 1,
          "PC1": -1.7263109176875995,
          "PC2": 0.9981778349360461
         },
         {
          "Class": 0,
          "PC1": -0.7417817670627505,
          "PC2": -2.4520349665826435
         },
         {
          "Class": 1,
          "PC1": -2.894310661011523,
          "PC2": -0.9779443197187582
         },
         {
          "Class": 1,
          "PC1": -1.6545218459205824,
          "PC2": -4.555664122686677
         },
         {
          "Class": 0,
          "PC1": 3.1035197039280233,
          "PC2": -1.236153211532777
         },
         {
          "Class": 1,
          "PC1": -4.064270597765478,
          "PC2": -0.560954221678841
         },
         {
          "Class": 1,
          "PC1": -2.7933306574633745,
          "PC2": -1.0778881326372647
         },
         {
          "Class": 1,
          "PC1": -1.4749199376083522,
          "PC2": -1.5910942018567147
         },
         {
          "Class": 1,
          "PC1": -0.22939463704300206,
          "PC2": 1.515903417681715
         },
         {
          "Class": 1,
          "PC1": -2.5532584076131797,
          "PC2": -0.7639004855446874
         },
         {
          "Class": 0,
          "PC1": 3.7157051034635433,
          "PC2": -1.058686219669435
         },
         {
          "Class": 0,
          "PC1": 5.094841843796151,
          "PC2": -2.0192078334638257
         },
         {
          "Class": 1,
          "PC1": -0.6006161135566214,
          "PC2": -0.8384546622659828
         },
         {
          "Class": 0,
          "PC1": 2.7903998294340955,
          "PC2": 3.385560771468515
         },
         {
          "Class": 1,
          "PC1": -1.4087712143989284,
          "PC2": 1.5057705920000362
         },
         {
          "Class": 0,
          "PC1": 7.259178840794323,
          "PC2": -5.495735720768542
         },
         {
          "Class": 1,
          "PC1": 1.2988665487867923,
          "PC2": 7.729852800701114
         },
         {
          "Class": 1,
          "PC1": 1.0766932756327858,
          "PC2": 8.294775449585805
         },
         {
          "Class": 1,
          "PC1": -1.2497605247730668,
          "PC2": 1.5956838556835207
         },
         {
          "Class": 1,
          "PC1": -1.256928405618393,
          "PC2": 4.117186680809829
         },
         {
          "Class": 1,
          "PC1": -1.1665352144774548,
          "PC2": -1.6656937359026593
         },
         {
          "Class": 0,
          "PC1": 4.094142557240663,
          "PC2": 2.8029272492660486
         },
         {
          "Class": 1,
          "PC1": -1.8876392413591576,
          "PC2": 1.6721917383419411
         },
         {
          "Class": 1,
          "PC1": -2.767435702846297,
          "PC2": -2.1610487947312693
         },
         {
          "Class": 0,
          "PC1": 2.2269944892060374,
          "PC2": 1.9416347589419811
         },
         {
          "Class": 1,
          "PC1": -1.1315768907453672,
          "PC2": -1.4110019650228947
         },
         {
          "Class": 0,
          "PC1": -0.7337724522412534,
          "PC2": -1.9436971832577736
         },
         {
          "Class": 1,
          "PC1": -2.333670736811628,
          "PC2": 0.7901466075685735
         },
         {
          "Class": 0,
          "PC1": 2.6972237543994013,
          "PC2": -1.9437099455820879
         },
         {
          "Class": 0,
          "PC1": 3.379014667722207,
          "PC2": -2.333428944752572
         },
         {
          "Class": 1,
          "PC1": -0.19987058014132128,
          "PC2": 1.0763600028794174
         },
         {
          "Class": 1,
          "PC1": -1.176025913235495,
          "PC2": 1.0113701779197848
         },
         {
          "Class": 1,
          "PC1": -1.2926365392810344,
          "PC2": 4.96422470151697
         },
         {
          "Class": 0,
          "PC1": 8.63075585909593,
          "PC2": -3.459451914934349
         },
         {
          "Class": 1,
          "PC1": -4.429456371065875,
          "PC2": -0.7860360355883952
         },
         {
          "Class": 1,
          "PC1": -0.6198387404455056,
          "PC2": 0.6363492693960631
         },
         {
          "Class": 1,
          "PC1": -3.252315768611721,
          "PC2": 1.2859251608984277
         },
         {
          "Class": 1,
          "PC1": -3.3529270535360083,
          "PC2": 2.673300597046879
         },
         {
          "Class": 1,
          "PC1": -0.8598029860020289,
          "PC2": 0.09684852192944234
         },
         {
          "Class": 1,
          "PC1": -3.156621968682681,
          "PC2": -0.8715426238256291
         },
         {
          "Class": 1,
          "PC1": 0.3465281132093485,
          "PC2": 1.541225274710913
         },
         {
          "Class": 1,
          "PC1": -2.4614066509242845,
          "PC2": 0.6008479689725379
         },
         {
          "Class": 1,
          "PC1": -1.5301007215868563,
          "PC2": 0.4052177886124873
         },
         {
          "Class": 1,
          "PC1": -1.7735850660606582,
          "PC2": 0.8042100124790883
         },
         {
          "Class": 1,
          "PC1": -2.6804416239657467,
          "PC2": -1.4847089006658512
         },
         {
          "Class": 0,
          "PC1": 4.028435261073991,
          "PC2": -2.94143009774969
         },
         {
          "Class": 1,
          "PC1": -2.136351228599056,
          "PC2": 1.5185806392276184
         },
         {
          "Class": 0,
          "PC1": 5.165410948304288,
          "PC2": -2.382203230465855
         },
         {
          "Class": 0,
          "PC1": 0.5359319494270831,
          "PC2": 0.38071514609061013
         },
         {
          "Class": 1,
          "PC1": 0.3431233829428009,
          "PC2": 3.5344810520958836
         },
         {
          "Class": 1,
          "PC1": -4.197079986346347,
          "PC2": 2.367392283543616
         },
         {
          "Class": 1,
          "PC1": -1.1428318645980238,
          "PC2": 5.599458471901105
         },
         {
          "Class": 1,
          "PC1": -1.6654751532175711,
          "PC2": 2.389618125365477
         },
         {
          "Class": 1,
          "PC1": 1.0117124957297359,
          "PC2": 1.0923896499562693
         },
         {
          "Class": 1,
          "PC1": -1.3009297119683172,
          "PC2": -1.8214153018691404
         },
         {
          "Class": 1,
          "PC1": -2.3734287250099526,
          "PC2": -1.681576237801964
         },
         {
          "Class": 1,
          "PC1": -1.6658710117956728,
          "PC2": -0.21396273979809674
         },
         {
          "Class": 1,
          "PC1": -1.9276781923708395,
          "PC2": -1.1377399162157182
         },
         {
          "Class": 1,
          "PC1": -4.237216617941256,
          "PC2": 0.18427249742039442
         },
         {
          "Class": 1,
          "PC1": -2.6778707208420647,
          "PC2": 2.3157928227269706
         },
         {
          "Class": 1,
          "PC1": -3.836497851795409,
          "PC2": 0.4962499280644017
         },
         {
          "Class": 1,
          "PC1": -2.551440295950655,
          "PC2": 0.22832995798075267
         },
         {
          "Class": 1,
          "PC1": -4.694923445157832,
          "PC2": -0.7674779427438905
         },
         {
          "Class": 1,
          "PC1": -2.025037164126969,
          "PC2": 1.261241900107947
         },
         {
          "Class": 1,
          "PC1": -2.895948205519024,
          "PC2": -1.45163576410128
         },
         {
          "Class": 1,
          "PC1": -3.5022010405436905,
          "PC2": 1.8008324921205625
         },
         {
          "Class": 1,
          "PC1": -2.1539036673966883,
          "PC2": -0.8300688176280349
         },
         {
          "Class": 1,
          "PC1": -2.055084067991145,
          "PC2": 1.616459267880602
         },
         {
          "Class": 1,
          "PC1": -3.8772895793988416,
          "PC2": 1.084254745699836
         },
         {
          "Class": 1,
          "PC1": -4.0638621147289555,
          "PC2": 0.12216843623540737
         },
         {
          "Class": 1,
          "PC1": -0.09866733268887737,
          "PC2": -0.21355983781645688
         },
         {
          "Class": 1,
          "PC1": -1.089376190069908,
          "PC2": 1.292847897997938
         },
         {
          "Class": 1,
          "PC1": -0.4817709648469872,
          "PC2": -0.17801969165781514
         },
         {
          "Class": 1,
          "PC1": -4.870309518087117,
          "PC2": -2.1311061073798734
         },
         {
          "Class": 0,
          "PC1": 5.917612589141653,
          "PC2": 3.4826366602530756
         },
         {
          "Class": 0,
          "PC1": 8.741338077267141,
          "PC2": -0.5738546716276586
         },
         {
          "Class": 0,
          "PC1": 6.439315483954052,
          "PC2": -3.576817444014457
         },
         {
          "Class": 0,
          "PC1": 3.7933823700331293,
          "PC2": -3.584047864404206
         },
         {
          "Class": 0,
          "PC1": 1.256179276149847,
          "PC2": -1.9022967126101444
         },
         {
          "Class": 0,
          "PC1": 10.374794059768249,
          "PC2": 1.672010107168494
         },
         {
          "Class": 1,
          "PC1": -5.475243302545211,
          "PC2": -0.6706367897367537
         }
        ]
       },
       "encoding": {
        "color": {
         "field": "Class",
         "type": "nominal"
        },
        "x": {
         "field": "PC1",
         "type": "quantitative"
        },
        "y": {
         "field": "PC2",
         "type": "quantitative"
        }
       },
       "mark": "point",
       "selection": {
        "selector002": {
         "bind": "scales",
         "encodings": [
          "x",
          "y"
         ],
         "mark": {
          "fill": "#333",
          "fillOpacity": 0.125,
          "stroke": "white"
         },
         "on": "[mousedown, window:mouseup] > window:mousemove!",
         "resolve": "global",
         "translate": "[mousedown, window:mouseup] > window:mousemove!",
         "type": "interval",
         "zoom": "wheel!"
        }
       }
      },
      "image/png": "[encoded data removed]",
      "text/plain": [
       "<VegaLite 2 object>\n",
       "\n",
       "If you see this message, it means the renderer has not been properly enabled\n",
       "for the frontend that you are using. For more information, see\n",
       "https://altair-viz.github.io/user_guide/troubleshooting.html\n"
      ]
     },
     "execution_count": 27,
     "metadata": {},
     "output_type": "execute_result"
    }
   ],
   "source": [
    "alt.Chart(ext_trans_std_cancers).mark_point().encode(\n",
    "    x='PC1',\n",
    "    y='PC2',\n",
    "    color=alt.Color('Class', type='nominal'),\n",
    ").interactive()"
   ]
  },
  {
   "cell_type": "markdown",
   "metadata": {},
   "source": [
    "# Parte 3: KNN"
   ]
  },
  {
   "cell_type": "code",
   "execution_count": 28,
   "metadata": {},
   "outputs": [],
   "source": [
    "from sklearn.model_selection import train_test_split\n",
    "from sklearn.neighbors import KNeighborsClassifier\n",
    "from sklearn.metrics import accuracy_score"
   ]
  },
  {
   "cell_type": "markdown",
   "metadata": {},
   "source": [
    "Dividir los datos en sets de entrenamiento y prueba"
   ]
  },
  {
   "cell_type": "code",
   "execution_count": 30,
   "metadata": {},
   "outputs": [],
   "source": [
    "X_train, X_test, y_train, y_test = train_test_split(\n",
    "    trans_std_cancers, cancer_target, test_size=0.33, random_state=42\n",
    ")"
   ]
  },
  {
   "cell_type": "markdown",
   "metadata": {},
   "source": [
    "Crear clasificador KNN con 3 vecinos."
   ]
  },
  {
   "cell_type": "code",
   "execution_count": 31,
   "metadata": {},
   "outputs": [],
   "source": [
    "knn = KNeighborsClassifier(n_neighbors=3, n_jobs=-1)"
   ]
  },
  {
   "cell_type": "markdown",
   "metadata": {},
   "source": [
    "Entregar datos de entrenamiento al modelo"
   ]
  },
  {
   "cell_type": "code",
   "execution_count": 32,
   "metadata": {},
   "outputs": [
    {
     "data": {
      "text/plain": [
       "KNeighborsClassifier(algorithm='auto', leaf_size=30, metric='minkowski',\n",
       "           metric_params=None, n_jobs=-1, n_neighbors=3, p=2,\n",
       "           weights='uniform')"
      ]
     },
     "execution_count": 32,
     "metadata": {},
     "output_type": "execute_result"
    }
   ],
   "source": [
    "knn.fit(X_train, y_train)"
   ]
  },
  {
   "cell_type": "code",
   "execution_count": 33,
   "metadata": {},
   "outputs": [],
   "source": [
    "predictions = knn.predict(X_test)"
   ]
  },
  {
   "cell_type": "markdown",
   "metadata": {},
   "source": [
    "#### *Accuracy* del modelo"
   ]
  },
  {
   "cell_type": "code",
   "execution_count": 34,
   "metadata": {},
   "outputs": [
    {
     "data": {
      "text/plain": [
       "0.9361702127659575"
      ]
     },
     "execution_count": 34,
     "metadata": {},
     "output_type": "execute_result"
    }
   ],
   "source": [
    "accuracy_score(y_test, predictions)"
   ]
  },
  {
   "cell_type": "markdown",
   "metadata": {},
   "source": [
    "#### visualizar aciertos/fallos"
   ]
  },
  {
   "cell_type": "code",
   "execution_count": 36,
   "metadata": {},
   "outputs": [],
   "source": [
    "train_set = alt.Chart(ext_trans_std_cancers).mark_point().encode(\n",
    "    x='PC1',\n",
    "    y='PC2',\n",
    "    color=alt.Color('Class', type='nominal'),\n",
    ")"
   ]
  },
  {
   "cell_type": "code",
   "execution_count": 39,
   "metadata": {},
   "outputs": [
    {
     "data": {
      "application/vnd.vegalite.v2+json": {
       "$schema": "https://vega.github.io/schema/vega-lite/v2.6.0.json",
       "config": {
        "view": {
         "height": 300,
         "width": 400
        }
       },
       "datasets": {
        "data-0d49ed8d6951598991e79810a64eefd9": [
         {
          "Class": 1,
          "PC1": -0.781189966898586,
          "PC2": 0.6528492589103594
         },
         {
          "Class": 0,
          "PC1": 2.704596172630717,
          "PC2": -4.437141770039697
         },
         {
          "Class": 0,
          "PC1": 1.4320694267970797,
          "PC2": -1.0496039486770559
         },
         {
          "Class": 1,
          "PC1": -0.9158035193315692,
          "PC2": 2.479013128960259
         },
         {
          "Class": 1,
          "PC1": -1.6654751532175711,
          "PC2": 2.389618125365477
         },
         {
          "Class": 0,
          "PC1": 10.374794059768249,
          "PC2": 1.672010107168494
         },
         {
          "Class": 0,
          "PC1": 7.248001061273225,
          "PC2": -3.655469128947247
         },
         {
          "Class": 0,
          "PC1": 1.7153097265433355,
          "PC2": -1.5237050231954805
         },
         {
          "Class": 0,
          "PC1": 1.1674616110726392,
          "PC2": 2.51451584998112
         },
         {
          "Class": 1,
          "PC1": -3.1723704882490282,
          "PC2": -2.089052297119209
         },
         {
          "Class": 1,
          "PC1": -2.8027713567762844,
          "PC2": -1.6663016341319803
         },
         {
          "Class": 0,
          "PC1": 1.2136346121482793,
          "PC2": -2.039038957809716
         },
         {
          "Class": 1,
          "PC1": -2.997403207131242,
          "PC2": -2.7388610521515893
         },
         {
          "Class": 0,
          "PC1": 2.1078012278780984,
          "PC2": 1.1219739436485376
         },
         {
          "Class": 1,
          "PC1": -3.156621968682681,
          "PC2": -0.8715426238256291
         },
         {
          "Class": 0,
          "PC1": 5.034811085483749,
          "PC2": 0.7744091552387049
         },
         {
          "Class": 1,
          "PC1": -2.767435702846297,
          "PC2": -2.1610487947312693
         },
         {
          "Class": 1,
          "PC1": -3.8772895793988416,
          "PC2": 1.084254745699836
         },
         {
          "Class": 1,
          "PC1": -4.555028840448185,
          "PC2": 3.528786017915364
         },
         {
          "Class": 0,
          "PC1": 5.165410948304288,
          "PC2": -2.382203230465855
         },
         {
          "Class": 1,
          "PC1": -0.3617091926936404,
          "PC2": 0.11973908640445356
         },
         {
          "Class": 1,
          "PC1": -2.0103794137579634,
          "PC2": 0.4296895609565873
         },
         {
          "Class": 0,
          "PC1": 7.67214155262528,
          "PC2": -0.8604841496467965
         },
         {
          "Class": 1,
          "PC1": -4.703042202111526,
          "PC2": -0.4323024303882432
         },
         {
          "Class": 1,
          "PC1": -3.074435831561313,
          "PC2": -0.3060584349356046
         },
         {
          "Class": 1,
          "PC1": -0.8345178814922322,
          "PC2": 1.9656048657120422
         },
         {
          "Class": 1,
          "PC1": -2.3005678213339897,
          "PC2": -0.932077583629439
         },
         {
          "Class": 1,
          "PC1": -2.055084067991145,
          "PC2": 1.616459267880602
         },
         {
          "Class": 1,
          "PC1": -2.3986653462111907,
          "PC2": -0.25074479051387655
         },
         {
          "Class": 0,
          "PC1": 5.503705315293399,
          "PC2": 0.9383254153352056
         },
         {
          "Class": 1,
          "PC1": -2.025037164126969,
          "PC2": 1.261241900107947
         },
         {
          "Class": 1,
          "PC1": -3.654646528253241,
          "PC2": -0.674648742200588
         },
         {
          "Class": 1,
          "PC1": -1.8489599298380235,
          "PC2": 2.5412296501610205
         },
         {
          "Class": 1,
          "PC1": -2.6804416239657467,
          "PC2": -1.4847089006658512
         },
         {
          "Class": 1,
          "PC1": -2.975798787940647,
          "PC2": 1.810973775431682
         },
         {
          "Class": 1,
          "PC1": -2.858158440046397,
          "PC2": 0.15272313607683807
         },
         {
          "Class": 1,
          "PC1": -0.8104137708443071,
          "PC2": -2.6592754988242358
         },
         {
          "Class": 1,
          "PC1": -2.470722685223177,
          "PC2": -0.13802626454394837
         },
         {
          "Class": 0,
          "PC1": 2.238883308052907,
          "PC2": -2.6900312778751814
         },
         {
          "Class": 1,
          "PC1": -1.5882639721787852,
          "PC2": -1.6196568282125765
         },
         {
          "Class": 1,
          "PC1": -2.6913522049629157,
          "PC2": 1.4200617408452867
         },
         {
          "Class": 0,
          "PC1": 2.118496931928452,
          "PC2": 0.2966290685699477
         },
         {
          "Class": 1,
          "PC1": -1.669603930600959,
          "PC2": 0.862318853092027
         },
         {
          "Class": 1,
          "PC1": -2.998710528238075,
          "PC2": -0.39677802836456266
         },
         {
          "Class": 1,
          "PC1": -1.276583379151843,
          "PC2": 0.849052983808887
         },
         {
          "Class": 1,
          "PC1": -2.228679813441983,
          "PC2": 0.6674106361099243
         },
         {
          "Class": 1,
          "PC1": -1.2926365392810344,
          "PC2": 4.96422470151697
         },
         {
          "Class": 1,
          "PC1": -4.0638621147289555,
          "PC2": 0.12216843623540737
         },
         {
          "Class": 1,
          "PC1": -1.7735850660606582,
          "PC2": 0.8042100124790883
         },
         {
          "Class": 1,
          "PC1": -1.3726850236669355,
          "PC2": 0.005805461790914019
         },
         {
          "Class": 0,
          "PC1": 1.6147819253563869,
          "PC2": -2.4745733484156633
         },
         {
          "Class": 0,
          "PC1": 6.059445513504171,
          "PC2": -0.757177449875034
         },
         {
          "Class": 1,
          "PC1": 0.3144382259614918,
          "PC2": 2.0775607278903965
         },
         {
          "Class": 1,
          "PC1": 0.3465281132093485,
          "PC2": 1.541225274710913
         },
         {
          "Class": 1,
          "PC1": -0.7328129161435932,
          "PC2": 3.702182382591229
         },
         {
          "Class": 1,
          "PC1": -2.757430451020421,
          "PC2": -1.79391876776723
         },
         {
          "Class": 1,
          "PC1": -1.294866170094483,
          "PC2": 3.470808638726752
         },
         {
          "Class": 0,
          "PC1": 10.769242819273147,
          "PC2": -2.2579828967242834
         },
         {
          "Class": 0,
          "PC1": 0.7652641153964428,
          "PC2": 0.8862439526742023
         },
         {
          "Class": 1,
          "PC1": -3.158754301407403,
          "PC2": 0.4103017949566793
         },
         {
          "Class": 1,
          "PC1": -2.0215776584354788,
          "PC2": -0.2548998340550682
         },
         {
          "Class": 0,
          "PC1": 5.73389627973195,
          "PC2": -1.075173796903417
         },
         {
          "Class": 0,
          "PC1": 6.439315483954052,
          "PC2": -3.576817444014457
         },
         {
          "Class": 1,
          "PC1": -2.560115018018031,
          "PC2": -2.494045446252018
         },
         {
          "Class": 1,
          "PC1": -3.810017869830366,
          "PC2": -0.9099185552396227
         },
         {
          "Class": 1,
          "PC1": -1.4573213567984673,
          "PC2": -0.20172675702563353
         },
         {
          "Class": 0,
          "PC1": 4.956725570001979,
          "PC2": 2.384846219084245
         },
         {
          "Class": 0,
          "PC1": 11.668714648329003,
          "PC2": 4.7486172031635725
         },
         {
          "Class": 1,
          "PC1": -3.3102836207388715,
          "PC2": 0.15574119410085627
         },
         {
          "Class": 1,
          "PC1": -0.5276966174014373,
          "PC2": 1.2658716230414204
         },
         {
          "Class": 0,
          "PC1": 2.4984388777247433,
          "PC2": 2.2784828512212303
         },
         {
          "Class": 0,
          "PC1": 2.6511004772430056,
          "PC2": 0.0665679258596276
         },
         {
          "Class": 1,
          "PC1": -2.9208334948368257,
          "PC2": -1.700472475059249
         },
         {
          "Class": 0,
          "PC1": 2.9563018671440124,
          "PC2": 0.7064218523564828
         },
         {
          "Class": 1,
          "PC1": -4.197079986346347,
          "PC2": 2.367392283543616
         },
         {
          "Class": 1,
          "PC1": -1.2721114612778868,
          "PC2": 0.5098338478772717
         },
         {
          "Class": 1,
          "PC1": -2.3342333502298693,
          "PC2": -1.3489797326072266
         },
         {
          "Class": 0,
          "PC1": 0.4604790908476992,
          "PC2": 0.39416628858007535
         },
         {
          "Class": 1,
          "PC1": -4.346489712228856,
          "PC2": -0.893572265920908
         },
         {
          "Class": 1,
          "PC1": -0.9255666032071975,
          "PC2": 2.302481429635118
         },
         {
          "Class": 0,
          "PC1": 1.3526270253938752,
          "PC2": -1.1541414712613938
         },
         {
          "Class": 1,
          "PC1": -4.386422966518202,
          "PC2": -0.7611037293765304
         },
         {
          "Class": 0,
          "PC1": 0.6076079451775639,
          "PC2": 0.16221452518531593
         },
         {
          "Class": 0,
          "PC1": 7.143842039052058,
          "PC2": -2.0748422316480477
         },
         {
          "Class": 0,
          "PC1": 0.3373454926445428,
          "PC2": -3.14437345847241
         },
         {
          "Class": 0,
          "PC1": 5.255544949777771,
          "PC2": 3.8945309903683185
         },
         {
          "Class": 0,
          "PC1": 6.35174678952631,
          "PC2": 7.7271740666083994
         },
         {
          "Class": 0,
          "PC1": 5.930964859584066,
          "PC2": 1.228296682037247
         },
         {
          "Class": 1,
          "PC1": -1.5548521496518535,
          "PC2": 0.9798577288570044
         },
         {
          "Class": 1,
          "PC1": -1.8103805588905268,
          "PC2": 0.3962073013121827
         },
         {
          "Class": 1,
          "PC1": -2.1744643095462073,
          "PC2": 0.4968779848136181
         },
         {
          "Class": 1,
          "PC1": -0.8598029860020289,
          "PC2": 0.09684852192944234
         },
         {
          "Class": 1,
          "PC1": -0.6006161135566214,
          "PC2": -0.8384546622659828
         },
         {
          "Class": 1,
          "PC1": -4.870309518087117,
          "PC2": -2.1311061073798734
         },
         {
          "Class": 1,
          "PC1": -3.213500980500883,
          "PC2": 1.103443141797208
         },
         {
          "Class": 1,
          "PC1": -2.4928310356115295,
          "PC2": 2.598686267907332
         },
         {
          "Class": 0,
          "PC1": 3.7933823700331293,
          "PC2": -3.584047864404206
         },
         {
          "Class": 0,
          "PC1": 4.5545900647891875,
          "PC2": 3.086639154559912
         },
         {
          "Class": 1,
          "PC1": -3.743404542996324,
          "PC2": 0.25050152693744077
         },
         {
          "Class": 0,
          "PC1": 2.4723569167739456,
          "PC2": -1.499824752019139
         },
         {
          "Class": 0,
          "PC1": 0.7588784847621727,
          "PC2": -1.6085325769264471
         },
         {
          "Class": 1,
          "PC1": -5.015008689976046,
          "PC2": 0.5746999793279197
         },
         {
          "Class": 0,
          "PC1": 6.230896511902705,
          "PC2": 0.9200695426131366
         },
         {
          "Class": 0,
          "PC1": 2.763370786289851,
          "PC2": -1.0786335087871026
         },
         {
          "Class": 1,
          "PC1": -2.551440295950655,
          "PC2": 0.22832995798075267
         },
         {
          "Class": 1,
          "PC1": -1.5301007215868563,
          "PC2": 0.4052177886124873
         },
         {
          "Class": 1,
          "PC1": -1.3250313470426305,
          "PC2": 1.4692940244952613
         },
         {
          "Class": 0,
          "PC1": 7.259178840794323,
          "PC2": -5.495735720768542
         },
         {
          "Class": 1,
          "PC1": -0.4123278127955936,
          "PC2": -0.38963131713001653
         },
         {
          "Class": 1,
          "PC1": -2.2843312608518995,
          "PC2": -2.4668407564082675
         },
         {
          "Class": 0,
          "PC1": 1.4281675928952857,
          "PC2": -1.9671014118312387
         },
         {
          "Class": 1,
          "PC1": -2.485883225506344,
          "PC2": 0.46059640267835106
         },
         {
          "Class": 0,
          "PC1": -0.6817688659209536,
          "PC2": -1.1359911299831167
         },
         {
          "Class": 0,
          "PC1": 6.619726346837941,
          "PC2": -6.003276418802678
         },
         {
          "Class": 0,
          "PC1": 4.330002649085443,
          "PC2": 9.202525684649919
         },
         {
          "Class": 0,
          "PC1": 9.007165526291118,
          "PC2": 0.5810310786366392
         },
         {
          "Class": 1,
          "PC1": -2.314132249371714,
          "PC2": 3.267989679497975
         },
         {
          "Class": 1,
          "PC1": -2.5825558372813697,
          "PC2": 0.7292131137191954
         },
         {
          "Class": 1,
          "PC1": -2.3858356631345314,
          "PC2": 2.757658129808947
         },
         {
          "Class": 0,
          "PC1": 4.075656175345633,
          "PC2": 2.97706118082445
         },
         {
          "Class": 0,
          "PC1": 3.1340082054421616,
          "PC2": 4.273459555957882
         },
         {
          "Class": 1,
          "PC1": -3.25800735946917,
          "PC2": -0.4183214053781176
         },
         {
          "Class": 1,
          "PC1": -2.4187199081232404,
          "PC2": 0.005552413312191682
         },
         {
          "Class": 0,
          "PC1": 3.379014667722207,
          "PC2": -2.333428944752572
         },
         {
          "Class": 1,
          "PC1": -0.9341581043943178,
          "PC2": 0.9277014808325966
         },
         {
          "Class": 0,
          "PC1": 4.331653344536305,
          "PC2": -4.049332418789139
         },
         {
          "Class": 0,
          "PC1": 3.1105276933523376,
          "PC2": 1.5693895560121094
         },
         {
          "Class": 1,
          "PC1": -2.6838464009796685,
          "PC2": 1.4435555294397369
         },
         {
          "Class": 1,
          "PC1": -3.1399884257529327,
          "PC2": -1.4880221618427212
         },
         {
          "Class": 0,
          "PC1": 4.990602722475541,
          "PC2": -1.132588905143541
         },
         {
          "Class": 0,
          "PC1": 9.192836826212915,
          "PC2": 1.9485830711481449
         },
         {
          "Class": 0,
          "PC1": 5.917612589141653,
          "PC2": 3.4826366602530756
         },
         {
          "Class": 1,
          "PC1": -2.7870960094315853,
          "PC2": -2.5330340023881086
         },
         {
          "Class": 1,
          "PC1": -3.347821941609996,
          "PC2": -0.06856304806368611
         },
         {
          "Class": 1,
          "PC1": -2.0591919425453598,
          "PC2": -2.4727877878447866
         },
         {
          "Class": 0,
          "PC1": 4.7332107882092105,
          "PC2": 3.3049637289348053
         },
         {
          "Class": 1,
          "PC1": -0.5007378002661662,
          "PC2": 0.10673146471486368
         },
         {
          "Class": 1,
          "PC1": -2.2813180992389657,
          "PC2": 2.0776859790558126
         },
         {
          "Class": 0,
          "PC1": 1.2596046473492963,
          "PC2": 1.015577070394007
         },
         {
          "Class": 0,
          "PC1": 1.2566751119858728,
          "PC2": 0.38239326373401916
         },
         {
          "Class": 1,
          "PC1": -2.9263743861498983,
          "PC2": 0.377332256441746
         },
         {
          "Class": 0,
          "PC1": 4.948703550566102,
          "PC2": -4.114333526112753
         },
         {
          "Class": 1,
          "PC1": -3.643380238614189,
          "PC2": 0.7868599164310996
         },
         {
          "Class": 1,
          "PC1": -4.312129582743059,
          "PC2": -1.9784861328824461
         },
         {
          "Class": 0,
          "PC1": 2.2269944892060374,
          "PC2": 1.9416347589419811
         },
         {
          "Class": 1,
          "PC1": -2.0013884663893537,
          "PC2": -0.29332646323538303
         },
         {
          "Class": 0,
          "PC1": 3.2454136489029652,
          "PC2": -1.778358631948324
         },
         {
          "Class": 0,
          "PC1": 4.808969244732291,
          "PC2": -3.029102967917898
         },
         {
          "Class": 1,
          "PC1": -0.39001898105902066,
          "PC2": -0.989242352811393
         },
         {
          "Class": 1,
          "PC1": -3.4547183721133927,
          "PC2": -2.1364615475688553
         },
         {
          "Class": 0,
          "PC1": -0.6746192855713389,
          "PC2": -2.1164097174288017
         },
         {
          "Class": 1,
          "PC1": -3.6472577463942883,
          "PC2": -1.2413651250833073
         },
         {
          "Class": 1,
          "PC1": -4.581936672186858,
          "PC2": 1.4842203182460822
         },
         {
          "Class": 1,
          "PC1": -1.9649501129376004,
          "PC2": -0.965156988463515
         },
         {
          "Class": 1,
          "PC1": -4.019140240565398,
          "PC2": -1.3542473795628869
         },
         {
          "Class": 0,
          "PC1": 13.056121858662243,
          "PC2": 0.9815132277623095
         },
         {
          "Class": 0,
          "PC1": 3.795565641824241,
          "PC2": -1.0262326410944391
         },
         {
          "Class": 1,
          "PC1": -5.475243302545211,
          "PC2": -0.6706367897367537
         },
         {
          "Class": 1,
          "PC1": -2.194984301020652,
          "PC2": -1.8053532376788122
         },
         {
          "Class": 1,
          "PC1": -4.659085176411028,
          "PC2": -0.7822987563666354
         },
         {
          "Class": 1,
          "PC1": -5.565735898980706,
          "PC2": -0.47784757923889926
         },
         {
          "Class": 1,
          "PC1": -1.938969496947871,
          "PC2": 2.544988113795847
         },
         {
          "Class": 1,
          "PC1": -3.889065527186915,
          "PC2": 0.8160717109368892
         },
         {
          "Class": 1,
          "PC1": -0.9826485812699012,
          "PC2": 0.7972523943057171
         },
         {
          "Class": 1,
          "PC1": -0.934090810373287,
          "PC2": -2.105945591350871
         },
         {
          "Class": 1,
          "PC1": -1.283187150786232,
          "PC2": 2.5509093102646787
         },
         {
          "Class": 1,
          "PC1": -3.261279472772355,
          "PC2": -0.9378381204094731
         },
         {
          "Class": 1,
          "PC1": -1.3009297119683172,
          "PC2": -1.8214153018691404
         },
         {
          "Class": 1,
          "PC1": 1.1708977789074226,
          "PC2": 7.014486576403681
         },
         {
          "Class": 0,
          "PC1": 2.7903998294340955,
          "PC2": 3.385560771468515
         },
         {
          "Class": 0,
          "PC1": 1.025900787648251,
          "PC2": 2.3612619448868712
         },
         {
          "Class": 1,
          "PC1": -3.0499249404517808,
          "PC2": -2.237784521912385
         },
         {
          "Class": 1,
          "PC1": -2.202515523782973,
          "PC2": -0.7356052295391895
         },
         {
          "Class": 0,
          "PC1": 1.9884621055502152,
          "PC2": 2.3160480552975606
         },
         {
          "Class": 1,
          "PC1": -2.8190385096121773,
          "PC2": -0.9701105666851056
         },
         {
          "Class": 1,
          "PC1": -1.9276781923708395,
          "PC2": -1.1377399162157182
         },
         {
          "Class": 0,
          "PC1": -0.8402096538366525,
          "PC2": -3.500085032511832
         },
         {
          "Class": 1,
          "PC1": -0.38957809021801626,
          "PC2": -0.6144154693240971
         },
         {
          "Class": 1,
          "PC1": -2.708393968213715,
          "PC2": -0.21966574139080935
         },
         {
          "Class": 1,
          "PC1": -1.1738306467781974,
          "PC2": -0.4748395056707416
         },
         {
          "Class": 1,
          "PC1": -0.6198387404455056,
          "PC2": 0.6363492693960631
         },
         {
          "Class": 1,
          "PC1": -2.931187055439189,
          "PC2": -0.49485623006700347
         },
         {
          "Class": 1,
          "PC1": -2.5101176755579138,
          "PC2": 3.251319502716717
         },
         {
          "Class": 0,
          "PC1": 1.345020437737743,
          "PC2": -1.2747709561729839
         },
         {
          "Class": 0,
          "PC1": 3.7157051034635433,
          "PC2": -1.058686219669435
         },
         {
          "Class": 0,
          "PC1": 2.143298500377592,
          "PC2": 2.3402440068999932
         },
         {
          "Class": 0,
          "PC1": 1.0117124957297359,
          "PC2": 1.0923896499562693
         },
         {
          "Class": 1,
          "PC1": -1.2370633569551532,
          "PC2": -0.18821495384054332
         }
        ],
        "data-2e5840120e3ccd325f45eb78a2e73c5d": [
         {
          "Class": 0,
          "PC1": 9.192836826212915,
          "PC2": 1.9485830711481449
         },
         {
          "Class": 0,
          "PC1": 2.387801795803147,
          "PC2": -3.7681717431298924
         },
         {
          "Class": 0,
          "PC1": 5.73389627973195,
          "PC2": -1.075173796903417
         },
         {
          "Class": 0,
          "PC1": 7.122953197710348,
          "PC2": 10.275589120116495
         },
         {
          "Class": 0,
          "PC1": 3.9353020736776725,
          "PC2": -1.9480715673010491
         },
         {
          "Class": 0,
          "PC1": 2.3802471503461518,
          "PC2": 3.949928895295536
         },
         {
          "Class": 0,
          "PC1": 2.238883308052907,
          "PC2": -2.6900312778751814
         },
         {
          "Class": 0,
          "PC1": 2.143298500377592,
          "PC2": 2.3402440068999932
         },
         {
          "Class": 0,
          "PC1": 3.17492429308315,
          "PC2": 3.3918129525159872
         },
         {
          "Class": 0,
          "PC1": 6.35174678952631,
          "PC2": 7.7271740666083994
         },
         {
          "Class": 0,
          "PC1": -0.8104137708443071,
          "PC2": -2.6592754988242358
         },
         {
          "Class": 0,
          "PC1": 2.6511004772430056,
          "PC2": 0.0665679258596276
         },
         {
          "Class": 0,
          "PC1": 8.18503445814969,
          "PC2": 2.700976490611153
         },
         {
          "Class": 0,
          "PC1": 0.3421259139896864,
          "PC2": -0.9682792603135983
         },
         {
          "Class": 0,
          "PC1": 4.342379194647331,
          "PC2": 4.861083313097369
         },
         {
          "Class": 0,
          "PC1": 4.075656175345633,
          "PC2": 2.97706118082445
         },
         {
          "Class": 0,
          "PC1": 0.23005501571120837,
          "PC2": -1.5647577266628474
         },
         {
          "Class": 0,
          "PC1": 4.418010915983032,
          "PC2": 1.4186703333785133
         },
         {
          "Class": 0,
          "PC1": 4.948703550566102,
          "PC2": -4.114333526112753
         },
         {
          "Class": 1,
          "PC1": -1.2370633569551532,
          "PC2": -0.18821495384054332
         },
         {
          "Class": 1,
          "PC1": -1.5781612348127205,
          "PC2": 0.5728081931339117
         },
         {
          "Class": 1,
          "PC1": -3.557336373550066,
          "PC2": 1.6629499036947892
         },
         {
          "Class": 0,
          "PC1": 4.7332107882092105,
          "PC2": 3.3049637289348053
         },
         {
          "Class": 0,
          "PC1": 4.208524209050795,
          "PC2": -5.128366514978242
         },
         {
          "Class": 0,
          "PC1": 4.949632073984686,
          "PC2": -1.5437522892313
         },
         {
          "Class": 0,
          "PC1": 7.098562854911413,
          "PC2": 2.0186103378678206
         },
         {
          "Class": 0,
          "PC1": 3.5102626039716607,
          "PC2": 2.1716251158537556
         },
         {
          "Class": 0,
          "PC1": 3.064053886063418,
          "PC2": -1.8765523480328465
         },
         {
          "Class": 0,
          "PC1": 4.0072641436556875,
          "PC2": 0.5372421606912886
         },
         {
          "Class": 0,
          "PC1": 1.7153097265433355,
          "PC2": -1.5237050231954805
         },
         {
          "Class": 0,
          "PC1": 6.059445513504171,
          "PC2": -0.757177449875034
         },
         {
          "Class": 0,
          "PC1": 2.902236105000356,
          "PC2": 4.005295511712062
         },
         {
          "Class": 0,
          "PC1": 4.554782688814869,
          "PC2": 0.33753615494757155
         },
         {
          "Class": 0,
          "PC1": 4.990602722475541,
          "PC2": -1.132588905143541
         },
         {
          "Class": 0,
          "PC1": 2.9853407889710932,
          "PC2": 0.7584232422305974
         },
         {
          "Class": 0,
          "PC1": 2.766369157778729,
          "PC2": -0.3543559436075757
         },
         {
          "Class": 0,
          "PC1": 1.2961987650209055,
          "PC2": 0.913196276134123
         },
         {
          "Class": 1,
          "PC1": -3.7493133959377465,
          "PC2": -1.413473118490887
         },
         {
          "Class": 0,
          "PC1": -0.9980689008803543,
          "PC2": -3.351292922867902
         },
         {
          "Class": 0,
          "PC1": 0.7652641153964428,
          "PC2": 0.8862439526742023
         },
         {
          "Class": 0,
          "PC1": -2.1509534707306033,
          "PC2": -1.9239916156209942
         },
         {
          "Class": 0,
          "PC1": -0.09333138656694248,
          "PC2": 2.2607520058738224
         },
         {
          "Class": 0,
          "PC1": 9.087999677261807,
          "PC2": 2.0186730987546744
         },
         {
          "Class": 0,
          "PC1": 0.990453765503179,
          "PC2": 0.9849300202337031
         },
         {
          "Class": 0,
          "PC1": -0.2935465509278955,
          "PC2": -0.13709909105470056
         },
         {
          "Class": 0,
          "PC1": 5.380940406937427,
          "PC2": -0.13487697808259283
         },
         {
          "Class": 1,
          "PC1": -4.581936672186858,
          "PC2": 1.4842203182460822
         },
         {
          "Class": 0,
          "PC1": 1.700006886837756,
          "PC2": 2.3522717929795087
         },
         {
          "Class": 1,
          "PC1": -2.1364452772842197,
          "PC2": 0.09582960961361452
         },
         {
          "Class": 1,
          "PC1": -1.5674789972080627,
          "PC2": -1.2084332139008076
         },
         {
          "Class": 1,
          "PC1": -3.5429055574637047,
          "PC2": -1.2824955785217962
         },
         {
          "Class": 1,
          "PC1": -3.1578140501809524,
          "PC2": -1.6889585960204956
         },
         {
          "Class": 1,
          "PC1": -3.45048854351631,
          "PC2": -0.498218713679012
         },
         {
          "Class": 0,
          "PC1": 3.3025509513788074,
          "PC2": -1.1309378047488776
         },
         {
          "Class": 0,
          "PC1": -0.6746192855713389,
          "PC2": -2.1164097174288017
         },
         {
          "Class": 1,
          "PC1": -2.858158440046397,
          "PC2": 0.15272313607683807
         },
         {
          "Class": 0,
          "PC1": 4.648738872437889,
          "PC2": -2.3103325716454757
         },
         {
          "Class": 0,
          "PC1": 2.176862882229493,
          "PC2": 0.9721160455325107
         },
         {
          "Class": 1,
          "PC1": -3.72145899283284,
          "PC2": -1.7876416497255354
         },
         {
          "Class": 1,
          "PC1": -4.13596294378935,
          "PC2": 2.4037924848608077
         },
         {
          "Class": 1,
          "PC1": -2.3858356631345314,
          "PC2": 2.757658129808947
         },
         {
          "Class": 1,
          "PC1": -2.578883251968282,
          "PC2": 3.1386719224651816
         },
         {
          "Class": 0,
          "PC1": 4.759112153864841,
          "PC2": 3.011680507807731
         },
         {
          "Class": 1,
          "PC1": -2.314132249371714,
          "PC2": 3.267989679497975
         },
         {
          "Class": 0,
          "PC1": 1.691607923169523,
          "PC2": 1.5406765564893465
         },
         {
          "Class": 0,
          "PC1": 1.812305405006933,
          "PC2": 0.7227401911619707
         },
         {
          "Class": 1,
          "PC1": -2.7859247566657555,
          "PC2": 2.310648711515109
         },
         {
          "Class": 1,
          "PC1": -3.518648339647801,
          "PC2": -0.6583094690752856
         },
         {
          "Class": 1,
          "PC1": 4.330002649085443,
          "PC2": 9.202525684649919
         },
         {
          "Class": 1,
          "PC1": -3.261279472772355,
          "PC2": -0.9378381204094731
         },
         {
          "Class": 0,
          "PC1": 2.704596172630717,
          "PC2": -4.437141770039697
         },
         {
          "Class": 1,
          "PC1": -0.30785577047699714,
          "PC2": 7.387812177211633
         },
         {
          "Class": 0,
          "PC1": 5.503705315293399,
          "PC2": 0.9383254153352056
         },
         {
          "Class": 0,
          "PC1": -0.3617091926936404,
          "PC2": 0.11973908640445356
         },
         {
          "Class": 1,
          "PC1": -2.6299766385633134,
          "PC2": -0.6973093684576357
         },
         {
          "Class": 0,
          "PC1": 1.4281675928952857,
          "PC2": -1.9671014118312387
         },
         {
          "Class": 1,
          "PC1": -0.8345178814922322,
          "PC2": 1.9656048657120422
         },
         {
          "Class": 0,
          "PC1": 6.230896511902705,
          "PC2": 0.9200695426131366
         },
         {
          "Class": 0,
          "PC1": 11.668714648329003,
          "PC2": 4.7486172031635725
         },
         {
          "Class": 1,
          "PC1": -2.0215776584354788,
          "PC2": -0.2548998340550682
         },
         {
          "Class": 1,
          "PC1": -1.6383849373648047,
          "PC2": 1.7159491136715108
         },
         {
          "Class": 1,
          "PC1": 1.1674616110726392,
          "PC2": 2.51451584998112
         },
         {
          "Class": 0,
          "PC1": 10.769242819273147,
          "PC2": -2.2579828967242834
         },
         {
          "Class": 0,
          "PC1": 5.034811085483749,
          "PC2": 0.7744091552387049
         },
         {
          "Class": 1,
          "PC1": -2.1744643095462073,
          "PC2": 0.4968779848136181
         },
         {
          "Class": 0,
          "PC1": 3.288235384719506,
          "PC2": -1.6682370630876648
         },
         {
          "Class": 0,
          "PC1": 0.6076079451775639,
          "PC2": 0.16221452518531593
         },
         {
          "Class": 0,
          "PC1": 3.58356362606402,
          "PC2": -2.206661839574468
         },
         {
          "Class": 1,
          "PC1": -0.9341581043943178,
          "PC2": 0.9277014808325966
         },
         {
          "Class": 1,
          "PC1": 1.2596046473492963,
          "PC2": 1.015577070394007
         },
         {
          "Class": 1,
          "PC1": -1.5882639721787852,
          "PC2": -1.6196568282125765
         },
         {
          "Class": 0,
          "PC1": 0.25249756752617786,
          "PC2": -0.5313515464961347
         },
         {
          "Class": 1,
          "PC1": -2.8474315866958513,
          "PC2": -2.893647598680386
         },
         {
          "Class": 1,
          "PC1": -1.9649501129376004,
          "PC2": -0.965156988463515
         },
         {
          "Class": 0,
          "PC1": 2.775865569001873,
          "PC2": 0.5580005275699942
         },
         {
          "Class": 0,
          "PC1": 4.396227954702653,
          "PC2": -2.1235077122069352
         },
         {
          "Class": 1,
          "PC1": -2.592082827805069,
          "PC2": 0.2136339296315425
         },
         {
          "Class": 1,
          "PC1": -3.9043381501524093,
          "PC2": 1.1900666332531165
         },
         {
          "Class": 1,
          "PC1": -2.818231213142214,
          "PC2": 0.36788398113056175
         },
         {
          "Class": 0,
          "PC1": 0.6162808698252659,
          "PC2": 0.6389116688181986
         },
         {
          "Class": 0,
          "PC1": -0.4328602208165534,
          "PC2": -1.3920442987687611
         },
         {
          "Class": 1,
          "PC1": -4.555028840448185,
          "PC2": 3.528786017915364
         },
         {
          "Class": 1,
          "PC1": -3.4481835412174955,
          "PC2": -1.4246224557230749
         },
         {
          "Class": 1,
          "PC1": -2.115960264031012,
          "PC2": 1.849373605634113
         },
         {
          "Class": 1,
          "PC1": -2.6913522049629157,
          "PC2": 1.4200617408452867
         },
         {
          "Class": 0,
          "PC1": 3.21391676517809,
          "PC2": 4.046756221821012
         },
         {
          "Class": 1,
          "PC1": -0.7492713563488678,
          "PC2": 1.7976385163208444
         },
         {
          "Class": 1,
          "PC1": -3.15900603741475,
          "PC2": -1.0357494267415728
         },
         {
          "Class": 0,
          "PC1": 13.056121858662243,
          "PC2": 0.9815132277623095
         },
         {
          "Class": 1,
          "PC1": -2.228679813441983,
          "PC2": 0.6674106361099243
         },
         {
          "Class": 1,
          "PC1": -2.4928310356115295,
          "PC2": 2.598686267907332
         },
         {
          "Class": 1,
          "PC1": -0.10335042641426953,
          "PC2": 2.2801435371959893
         },
         {
          "Class": 1,
          "PC1": 3.591294118689851,
          "PC2": 3.9263331560845565
         },
         {
          "Class": 1,
          "PC1": -1.348948682872768,
          "PC2": 3.5562251010688626
         },
         {
          "Class": 1,
          "PC1": -2.5101176755579138,
          "PC2": 3.251319502716717
         },
         {
          "Class": 1,
          "PC1": -2.0460295724520776,
          "PC2": 0.3048848669912243
         },
         {
          "Class": 1,
          "PC1": -2.0970691694499943,
          "PC2": 3.667095885020978
         },
         {
          "Class": 0,
          "PC1": 3.1105276933523376,
          "PC2": 1.5693895560121094
         },
         {
          "Class": 0,
          "PC1": 4.956725570001979,
          "PC2": 2.384846219084245
         },
         {
          "Class": 0,
          "PC1": 0.8510142626661352,
          "PC2": -2.3067353692181785
         },
         {
          "Class": 1,
          "PC1": -2.9659992066222873,
          "PC2": 0.3715064819198897
         },
         {
          "Class": 0,
          "PC1": 3.3341331980211075,
          "PC2": -1.3255573549947524
         },
         {
          "Class": 0,
          "PC1": 12.894612133966175,
          "PC2": 2.3166224675804923
         },
         {
          "Class": 1,
          "PC1": -0.7707436775316084,
          "PC2": -0.0641092204608053
         },
         {
          "Class": 1,
          "PC1": -2.202515523782973,
          "PC2": -0.7356052295391895
         },
         {
          "Class": 1,
          "PC1": -3.1434122456029256,
          "PC2": -1.877409026418015
         },
         {
          "Class": 0,
          "PC1": -0.6388804999699896,
          "PC2": -0.9113660291914555
         },
         {
          "Class": 0,
          "PC1": 1.9191334226484702,
          "PC2": -3.538082368359491
         },
         {
          "Class": 1,
          "PC1": 1.4088683633923516,
          "PC2": 1.3049294068901443
         },
         {
          "Class": 0,
          "PC1": 4.643691316585745,
          "PC2": -1.4820171675231255
         },
         {
          "Class": 1,
          "PC1": -1.8774673636134482,
          "PC2": 1.4232306433308015
         },
         {
          "Class": 0,
          "PC1": 1.4320694267970797,
          "PC2": -1.0496039486770559
         },
         {
          "Class": 0,
          "PC1": 1.3526270253938752,
          "PC2": -1.1541414712613938
         },
         {
          "Class": 1,
          "PC1": -0.709114831723567,
          "PC2": -1.5682323235792923
         },
         {
          "Class": 0,
          "PC1": 2.1714160183044124,
          "PC2": -2.826260726639283
         },
         {
          "Class": 0,
          "PC1": -1.9768403553180849,
          "PC2": -0.4193874475574856
         },
         {
          "Class": 1,
          "PC1": -2.600789504019701,
          "PC2": -0.4823354688574588
         },
         {
          "Class": 1,
          "PC1": -3.25800735946917,
          "PC2": -0.4183214053781176
         },
         {
          "Class": 0,
          "PC1": 3.7820264555816383,
          "PC2": 0.8603815959449258
         },
         {
          "Class": 1,
          "PC1": -1.9920347221458583,
          "PC2": 1.32935517300168
         },
         {
          "Class": 1,
          "PC1": -5.015008689976046,
          "PC2": 0.5746999793279197
         },
         {
          "Class": 0,
          "PC1": 1.345020437737743,
          "PC2": -1.2747709561729839
         },
         {
          "Class": 1,
          "PC1": -2.455968810687217,
          "PC2": 0.8984552913962323
         },
         {
          "Class": 1,
          "PC1": -1.8372816695173446,
          "PC2": -0.09102676555327778
         },
         {
          "Class": 1,
          "PC1": -4.346489712228856,
          "PC2": -0.893572265920908
         },
         {
          "Class": 1,
          "PC1": -0.7328129161435932,
          "PC2": 3.702182382591229
         },
         {
          "Class": 0,
          "PC1": 2.399997843155165,
          "PC2": 4.837988818630398
         },
         {
          "Class": 1,
          "PC1": 0.39309866393257487,
          "PC2": 1.0830680619668998
         },
         {
          "Class": 1,
          "PC1": -0.4123278127955936,
          "PC2": -0.38963131713001653
         },
         {
          "Class": 1,
          "PC1": -3.0499249404517808,
          "PC2": -2.237784521912385
         },
         {
          "Class": 1,
          "PC1": -1.4425637316077586,
          "PC2": 0.30587045022490655
         },
         {
          "Class": 1,
          "PC1": 0.0831861026125092,
          "PC2": 7.1503598003191104
         },
         {
          "Class": 1,
          "PC1": 7.093306714193011,
          "PC2": 12.573194224399215
         },
         {
          "Class": 1,
          "PC1": -3.743404542996324,
          "PC2": 0.25050152693744077
         },
         {
          "Class": 1,
          "PC1": -0.96917281436186,
          "PC2": 0.9449443017809713
         },
         {
          "Class": 1,
          "PC1": -2.4187199081232404,
          "PC2": 0.005552413312191682
         },
         {
          "Class": 0,
          "PC1": 4.100787726594224,
          "PC2": -0.3788038190723242
         },
         {
          "Class": 1,
          "PC1": -0.7516030055358409,
          "PC2": -3.0706486580182837
         },
         {
          "Class": 1,
          "PC1": -3.654646528253241,
          "PC2": -0.674648742200588
         },
         {
          "Class": 1,
          "PC1": -4.680211576012483,
          "PC2": -1.10385724800149
         },
         {
          "Class": 1,
          "PC1": -0.5977817666135803,
          "PC2": 1.7856508748808737
         },
         {
          "Class": 0,
          "PC1": 3.3873307646415522,
          "PC2": -2.9110371076916697
         },
         {
          "Class": 0,
          "PC1": 6.149886189966208,
          "PC2": -2.017652754906961
         },
         {
          "Class": 1,
          "PC1": -1.3250313470426305,
          "PC2": 1.4692940244952613
         },
         {
          "Class": 0,
          "PC1": 5.494152797675893,
          "PC2": -4.165829306795582
         },
         {
          "Class": 1,
          "PC1": -2.997403207131242,
          "PC2": -2.7388610521515893
         },
         {
          "Class": 1,
          "PC1": -4.38673272110671,
          "PC2": 0.006872281401062567
         },
         {
          "Class": 0,
          "PC1": 1.2136346121482793,
          "PC2": -2.039038957809716
         },
         {
          "Class": 0,
          "PC1": 5.069661081475157,
          "PC2": -1.7851523340472886
         },
         {
          "Class": 1,
          "PC1": -1.9777014396334243,
          "PC2": -1.8427794204215515
         },
         {
          "Class": 1,
          "PC1": -2.5148764188900654,
          "PC2": 0.11425229897505812
         },
         {
          "Class": 0,
          "PC1": -0.9474878917471892,
          "PC2": -1.6847535473080284
         },
         {
          "Class": 0,
          "PC1": 2.81936834346598,
          "PC2": 1.2651031322404331
         },
         {
          "Class": 1,
          "PC1": -3.48398629801993,
          "PC2": 1.6196919824822704
         },
         {
          "Class": 1,
          "PC1": -4.658729577967027,
          "PC2": -0.22291481400017077
         },
         {
          "Class": 1,
          "PC1": -5.351618114937291,
          "PC2": 1.0267578593781717
         },
         {
          "Class": 1,
          "PC1": 1.1708977789074226,
          "PC2": 7.014486576403681
         },
         {
          "Class": 0,
          "PC1": 2.9563018671440124,
          "PC2": 0.7064218523564828
         },
         {
          "Class": 1,
          "PC1": -4.975702062160205,
          "PC2": -3.3862048668683693
         },
         {
          "Class": 1,
          "PC1": -4.0640256587402455,
          "PC2": -1.2461661740722496
         },
         {
          "Class": 0,
          "PC1": 9.51266984416635,
          "PC2": -5.603484192718129
         },
         {
          "Class": 0,
          "PC1": 9.007165526291118,
          "PC2": 0.5810310786366392
         },
         {
          "Class": 0,
          "PC1": 0.7588784847621727,
          "PC2": -1.6085325769264471
         },
         {
          "Class": 1,
          "PC1": -2.659359615352682,
          "PC2": 0.5399358001896488
         },
         {
          "Class": 0,
          "PC1": -0.39001898105902066,
          "PC2": -0.989242352811393
         },
         {
          "Class": 1,
          "PC1": -3.889065527186915,
          "PC2": 0.8160717109368892
         },
         {
          "Class": 0,
          "PC1": 0.36487615184093697,
          "PC2": -3.5744612261352895
         },
         {
          "Class": 1,
          "PC1": -2.8358909181560468,
          "PC2": -0.39872969455340296
         },
         {
          "Class": 1,
          "PC1": -3.3102836207388715,
          "PC2": 0.15574119410085627
         },
         {
          "Class": 1,
          "PC1": -3.357304402556048,
          "PC2": -1.1037324225715481
         },
         {
          "Class": 0,
          "PC1": 6.5231166202928375,
          "PC2": 8.011169611512635
         },
         {
          "Class": 1,
          "PC1": -1.7177351761069146,
          "PC2": -0.5431655283496721
         },
         {
          "Class": 1,
          "PC1": -5.565735898980706,
          "PC2": -0.47784757923889926
         },
         {
          "Class": 0,
          "PC1": 1.7796614892327416,
          "PC2": 2.776587169232349
         },
         {
          "Class": 0,
          "PC1": 2.6114848931595187,
          "PC2": 1.5614217102882857
         },
         {
          "Class": 1,
          "PC1": -2.8190385096121773,
          "PC2": -0.9701105666851056
         },
         {
          "Class": 0,
          "PC1": 2.4984388777247433,
          "PC2": 2.2784828512212303
         },
         {
          "Class": 0,
          "PC1": 1.2770271752986664,
          "PC2": -2.443258963511634
         },
         {
          "Class": 0,
          "PC1": 3.4731973428499274,
          "PC2": -2.2778489098827124
         },
         {
          "Class": 0,
          "PC1": 1.2566751119858728,
          "PC2": 0.38239326373401916
         },
         {
          "Class": 1,
          "PC1": -1.47343136921637,
          "PC2": 0.11689025659207088
         },
         {
          "Class": 0,
          "PC1": 1.6494606959344837,
          "PC2": -2.1022910711263307
         },
         {
          "Class": 0,
          "PC1": 9.036589480304205,
          "PC2": -0.6551728238961367
         },
         {
          "Class": 0,
          "PC1": 4.5545900647891875,
          "PC2": 3.086639154559912
         },
         {
          "Class": 1,
          "PC1": -0.781189966898586,
          "PC2": 0.6528492589103594
         },
         {
          "Class": 0,
          "PC1": -0.2230926067834913,
          "PC2": -0.7018214908352148
         },
         {
          "Class": 1,
          "PC1": -3.454895386096088,
          "PC2": 1.3069387231200795
         },
         {
          "Class": 0,
          "PC1": 0.44654439641742033,
          "PC2": -2.7877077407834387
         },
         {
          "Class": 1,
          "PC1": 0.3144382259614918,
          "PC2": 2.0775607278903965
         },
         {
          "Class": 1,
          "PC1": -2.0591919425453598,
          "PC2": -2.4727877878447866
         },
         {
          "Class": 0,
          "PC1": 4.808969244732291,
          "PC2": -3.029102967917898
         },
         {
          "Class": 1,
          "PC1": -2.998710528238075,
          "PC2": -0.39677802836456266
         },
         {
          "Class": 0,
          "PC1": 12.285019759540281,
          "PC2": -7.543410167981729
         },
         {
          "Class": 0,
          "PC1": 3.3721965906432114,
          "PC2": 2.5878254285330895
         },
         {
          "Class": 0,
          "PC1": 2.508766311623512,
          "PC2": 2.6146484764429654
         },
         {
          "Class": 0,
          "PC1": 1.3180684765427175,
          "PC2": 2.1544795010229216
         },
         {
          "Class": 1,
          "PC1": -0.3887562987551883,
          "PC2": 2.276797894242513
         },
         {
          "Class": 1,
          "PC1": -2.7569329912570915,
          "PC2": 1.0868346855432227
         },
         {
          "Class": 0,
          "PC1": 4.943581014506861,
          "PC2": -2.8483244580047744
         },
         {
          "Class": 0,
          "PC1": 4.298077329828416,
          "PC2": -4.666275179786185
         },
         {
          "Class": 1,
          "PC1": -2.373501801974651,
          "PC2": -0.7334025644004442
         },
         {
          "Class": 1,
          "PC1": -0.9671903116032851,
          "PC2": 0.43843818234231313
         },
         {
          "Class": 1,
          "PC1": -2.975798787940647,
          "PC2": 1.810973775431682
         },
         {
          "Class": 0,
          "PC1": 1.8032470204671556,
          "PC2": 0.16646095666139715
         },
         {
          "Class": 1,
          "PC1": -2.4783595123716897,
          "PC2": -1.4185764474728173
         },
         {
          "Class": 1,
          "PC1": -0.8260392924376352,
          "PC2": -1.250247472905012
         },
         {
          "Class": 1,
          "PC1": -3.8946973283396997,
          "PC2": 0.53857074467312
         },
         {
          "Class": 1,
          "PC1": -0.38957809021801626,
          "PC2": -0.6144154693240971
         },
         {
          "Class": 1,
          "PC1": -1.4573213567984673,
          "PC2": -0.20172675702563353
         },
         {
          "Class": 0,
          "PC1": 2.755568001153415,
          "PC2": 3.4657736042172034
         },
         {
          "Class": 0,
          "PC1": 3.2572546734782533,
          "PC2": -0.1252004913828075
         },
         {
          "Class": 1,
          "PC1": -4.019140240565398,
          "PC2": -1.3542473795628869
         },
         {
          "Class": 1,
          "PC1": -3.67641329316784,
          "PC2": -1.2916290597701396
         },
         {
          "Class": 0,
          "PC1": 3.3163241134468993,
          "PC2": -3.9391522594000024
         },
         {
          "Class": 1,
          "PC1": -4.036607361757475,
          "PC2": 1.1625461073955143
         },
         {
          "Class": 1,
          "PC1": -2.3342333502298693,
          "PC2": -1.3489797326072266
         },
         {
          "Class": 0,
          "PC1": 8.403847113457706,
          "PC2": -4.153904776842731
         },
         {
          "Class": 0,
          "PC1": 2.647568633084156,
          "PC2": -3.9511729520975414
         },
         {
          "Class": 1,
          "PC1": -0.6817688659209536,
          "PC2": -1.1359911299831167
         },
         {
          "Class": 0,
          "PC1": 3.350295790634839,
          "PC2": -2.1545700259879332
         },
         {
          "Class": 1,
          "PC1": -2.2277205188197784,
          "PC2": -1.2149996867134039
         },
         {
          "Class": 1,
          "PC1": -4.477584655730322,
          "PC2": -1.7411293626459081
         },
         {
          "Class": 1,
          "PC1": 1.3226214188387166,
          "PC2": 4.789476584120894
         },
         {
          "Class": 1,
          "PC1": -1.8500898601409572,
          "PC2": -1.5841281491588723
         },
         {
          "Class": 0,
          "PC1": 3.795565641824241,
          "PC2": -1.0262326410944391
         },
         {
          "Class": 1,
          "PC1": -2.2813180992389657,
          "PC2": 2.0776859790558126
         },
         {
          "Class": 1,
          "PC1": -3.2287701182772826,
          "PC2": -1.1720734788088254
         },
         {
          "Class": 1,
          "PC1": 1.025900787648251,
          "PC2": 2.3612619448868712
         },
         {
          "Class": 1,
          "PC1": -2.5825558372813697,
          "PC2": 0.7292131137191954
         },
         {
          "Class": 1,
          "PC1": -2.485883225506344,
          "PC2": 0.46059640267835106
         },
         {
          "Class": 0,
          "PC1": 7.143842039052058,
          "PC2": -2.0748422316480477
         },
         {
          "Class": 1,
          "PC1": -3.032481140772903,
          "PC2": -0.6494687995033016
         },
         {
          "Class": 0,
          "PC1": 7.085010648788004,
          "PC2": 0.5282231712667229
         },
         {
          "Class": 0,
          "PC1": 1.3140990035992124,
          "PC2": -1.7754258317860439
         },
         {
          "Class": 0,
          "PC1": 3.711649514780612,
          "PC2": -2.807477111630912
         },
         {
          "Class": 0,
          "PC1": 0.4604790908476992,
          "PC2": 0.39416628858007535
         },
         {
          "Class": 0,
          "PC1": 6.392649920534066,
          "PC2": -1.8230941623119947
         },
         {
          "Class": 0,
          "PC1": 5.255544949777771,
          "PC2": 3.8945309903683185
         },
         {
          "Class": 0,
          "PC1": 8.73386150295214,
          "PC2": 3.2798773771184107
         },
         {
          "Class": 0,
          "PC1": 3.6913178802280755,
          "PC2": 1.0656460679265556
         },
         {
          "Class": 0,
          "PC1": 3.378250872695956,
          "PC2": -3.371227892134948
         },
         {
          "Class": 0,
          "PC1": -0.8402096538366525,
          "PC2": -3.500085032511832
         },
         {
          "Class": 0,
          "PC1": 3.284372619973354,
          "PC2": -0.9906732011773106
         },
         {
          "Class": 0,
          "PC1": -1.9087689281363267,
          "PC2": -3.121945805537716
         },
         {
          "Class": 0,
          "PC1": 1.6147819253563869,
          "PC2": -2.4745733484156633
         },
         {
          "Class": 0,
          "PC1": 6.619726346837941,
          "PC2": -6.003276418802678
         },
         {
          "Class": 1,
          "PC1": -1.4646759334591932,
          "PC2": 1.6866318146327688
         },
         {
          "Class": 1,
          "PC1": -2.0121524285189345,
          "PC2": -1.1034865579540103
         },
         {
          "Class": 1,
          "PC1": -2.284340252070594,
          "PC2": 0.009493639128998988
         },
         {
          "Class": 1,
          "PC1": -0.7397430856444754,
          "PC2": 3.1525206045122895
         },
         {
          "Class": 1,
          "PC1": -4.506562510681889,
          "PC2": -3.169272587454816
         },
         {
          "Class": 1,
          "PC1": -3.158754301407403,
          "PC2": 0.4103017949566793
         },
         {
          "Class": 0,
          "PC1": 7.676149471669345,
          "PC2": -3.075306303663615
         },
         {
          "Class": 1,
          "PC1": -3.6391359671598553,
          "PC2": 1.5895870645243655
         },
         {
          "Class": 0,
          "PC1": 0.3373454926445428,
          "PC2": -3.14437345847241
         },
         {
          "Class": 1,
          "PC1": -1.276583379151843,
          "PC2": 0.849052983808887
         },
         {
          "Class": 1,
          "PC1": -4.346014054231029,
          "PC2": -0.3219780561845003
         },
         {
          "Class": 0,
          "PC1": 0.017430791487794573,
          "PC2": -3.45934329166204
         },
         {
          "Class": 1,
          "PC1": -3.492426037286945,
          "PC2": -2.634082400672632
         },
         {
          "Class": 1,
          "PC1": -1.8665488536846653,
          "PC2": -0.9020642091579778
         },
         {
          "Class": 0,
          "PC1": 4.960268117828007,
          "PC2": -1.3411230474348599
         },
         {
          "Class": 1,
          "PC1": -2.470722685223177,
          "PC2": -0.13802626454394837
         },
         {
          "Class": 0,
          "PC1": 3.785060102923869,
          "PC2": -1.90190741679472
         },
         {
          "Class": 0,
          "PC1": 2.6372557772712404,
          "PC2": 0.5771549969818128
         },
         {
          "Class": 1,
          "PC1": -1.3726850236669355,
          "PC2": 0.005805461790914019
         },
         {
          "Class": 1,
          "PC1": -4.138882573259422,
          "PC2": -1.376508239890939
         },
         {
          "Class": 1,
          "PC1": -0.6869402913903113,
          "PC2": 1.6950096240785004
         },
         {
          "Class": 1,
          "PC1": -4.312129582743059,
          "PC2": -1.9784861328824461
         },
         {
          "Class": 1,
          "PC1": 0.40330942137512776,
          "PC2": 3.723434005221485
         },
         {
          "Class": 1,
          "PC1": -3.003605795320981,
          "PC2": 0.35416022694666743
         },
         {
          "Class": 1,
          "PC1": 3.1340082054421616,
          "PC2": 4.273459555957882
         },
         {
          "Class": 1,
          "PC1": -0.4178368668818505,
          "PC2": -0.8085765710501752
         },
         {
          "Class": 1,
          "PC1": -1.4202231350812078,
          "PC2": 1.3939781121157395
         },
         {
          "Class": 1,
          "PC1": -2.870588347786222,
          "PC2": -0.26864450906108117
         },
         {
          "Class": 1,
          "PC1": -3.365845704071674,
          "PC2": -0.8076006150075236
         },
         {
          "Class": 1,
          "PC1": -3.3150001548356123,
          "PC2": -1.442176229983756
         },
         {
          "Class": 1,
          "PC1": -4.769710159699522,
          "PC2": -0.5429618602765388
         },
         {
          "Class": 0,
          "PC1": -2.3858827584200317,
          "PC2": -0.824115571559197
         },
         {
          "Class": 1,
          "PC1": -2.7870960094315853,
          "PC2": -2.5330340023881086
         },
         {
          "Class": 1,
          "PC1": -3.3938417715188427,
          "PC2": 0.7539639576382473
         },
         {
          "Class": 0,
          "PC1": 6.590235943345042,
          "PC2": -1.4848624506345702
         },
         {
          "Class": 1,
          "PC1": -1.4553305178969744,
          "PC2": 0.5919428681328226
         },
         {
          "Class": 0,
          "PC1": 7.182933102085843,
          "PC2": 0.05514606067468585
         },
         {
          "Class": 1,
          "PC1": -3.5788354034465586,
          "PC2": 0.8915829910709903
         },
         {
          "Class": 1,
          "PC1": -3.0570326418737053,
          "PC2": -0.1792133860252658
         },
         {
          "Class": 1,
          "PC1": -3.074435831561313,
          "PC2": -0.3060584349356046
         },
         {
          "Class": 1,
          "PC1": -3.8535397332557193,
          "PC2": -1.5247264225850705
         },
         {
          "Class": 1,
          "PC1": -5.390256393774483,
          "PC2": 0.5562555050745062
         },
         {
          "Class": 1,
          "PC1": -4.657682334494785,
          "PC2": -3.065387433660155
         },
         {
          "Class": 1,
          "PC1": -4.027542388107936,
          "PC2": -2.542907043596929
         },
         {
          "Class": 1,
          "PC1": -3.347821941609996,
          "PC2": -0.06856304806368611
         },
         {
          "Class": 1,
          "PC1": -3.2998420114684586,
          "PC2": -3.1387093940118223
         },
         {
          "Class": 1,
          "PC1": -2.136404142351023,
          "PC2": -0.00439284877024505
         },
         {
          "Class": 1,
          "PC1": -4.038017141737195,
          "PC2": -0.24069805413910583
         },
         {
          "Class": 1,
          "PC1": -3.7654145532590517,
          "PC2": 4.398200493783557
         },
         {
          "Class": 1,
          "PC1": -4.871239383480912,
          "PC2": -2.339214787367499
         },
         {
          "Class": 1,
          "PC1": -4.747248516355297,
          "PC2": -1.7984019747276876
         },
         {
          "Class": 0,
          "PC1": 1.8953162763189246,
          "PC2": -2.3922380031407164
         },
         {
          "Class": 1,
          "PC1": 1.5729311406079203,
          "PC2": 6.509099308016966
         },
         {
          "Class": 1,
          "PC1": -4.026620252659031,
          "PC2": -1.4022064625132518
         },
         {
          "Class": 1,
          "PC1": -1.294866170094483,
          "PC2": 3.470808638726752
         },
         {
          "Class": 0,
          "PC1": 1.8348404671474388,
          "PC2": -4.321522964170468
         },
         {
          "Class": 1,
          "PC1": -1.8103805588905268,
          "PC2": 0.3962073013121827
         },
         {
          "Class": 0,
          "PC1": 7.23648531439237,
          "PC2": -0.03570179753720663
         },
         {
          "Class": 1,
          "PC1": -3.145650188521297,
          "PC2": -0.7425265418098365
         },
         {
          "Class": 1,
          "PC1": -2.8872680582395813,
          "PC2": -0.46473162446506455
         },
         {
          "Class": 1,
          "PC1": -3.1496539838204756,
          "PC2": -1.7712483970782429
         },
         {
          "Class": 1,
          "PC1": -4.6283794830502645,
          "PC2": -1.835618361665881
         },
         {
          "Class": 0,
          "PC1": 2.2505103740996892,
          "PC2": -0.3485359404880688
         },
         {
          "Class": 0,
          "PC1": 2.1078012278780984,
          "PC2": 1.1219739436485376
         },
         {
          "Class": 0,
          "PC1": 1.785949980319113,
          "PC2": -0.2692216355539857
         },
         {
          "Class": 1,
          "PC1": -0.5276966174014373,
          "PC2": 1.2658716230414204
         },
         {
          "Class": 1,
          "PC1": -3.213500980500883,
          "PC2": 1.103443141797208
         },
         {
          "Class": 1,
          "PC1": -4.386422966518202,
          "PC2": -0.7611037293765304
         },
         {
          "Class": 1,
          "PC1": -3.810017869830366,
          "PC2": -0.9099185552396227
         },
         {
          "Class": 0,
          "PC1": 3.3196739715210914,
          "PC2": -1.5770528436992406
         },
         {
          "Class": 1,
          "PC1": -2.3932759643300963,
          "PC2": 0.9900307776792684
         },
         {
          "Class": 0,
          "PC1": 4.680166262401313,
          "PC2": -0.9685929552528909
         },
         {
          "Class": 1,
          "PC1": -3.0676951406045365,
          "PC2": 1.1358375681520367
         },
         {
          "Class": 0,
          "PC1": 7.353218575028077,
          "PC2": -5.242623142782834
         },
         {
          "Class": 1,
          "PC1": 0.29531318324772315,
          "PC2": 0.226935036244125
         },
         {
          "Class": 1,
          "PC1": -1.938969496947871,
          "PC2": 2.544988113795847
         },
         {
          "Class": 1,
          "PC1": -2.0771789214306424,
          "PC2": 1.8065194884543425
         },
         {
          "Class": 0,
          "PC1": 4.975162358415984,
          "PC2": -1.332572180814037
         },
         {
          "Class": 1,
          "PC1": -2.176916879584335,
          "PC2": 0.958911259529304
         },
         {
          "Class": 1,
          "PC1": -2.4315514550088992,
          "PC2": 3.4472038666559546
         },
         {
          "Class": 1,
          "PC1": -3.3679657788776822,
          "PC2": -0.5629288982322024
         },
         {
          "Class": 1,
          "PC1": -1.2065977905118,
          "PC2": -1.317044339239007
         },
         {
          "Class": 1,
          "PC1": -3.326079248708683,
          "PC2": 0.47517158120422387
         },
         {
          "Class": 1,
          "PC1": -1.9287954022359355,
          "PC2": 1.4614697983553802
         },
         {
          "Class": 1,
          "PC1": -4.0418350899547155,
          "PC2": -1.3569174564589255
         },
         {
          "Class": 0,
          "PC1": 6.18228374169213,
          "PC2": 5.108005449685199
         },
         {
          "Class": 0,
          "PC1": 10.934298158426394,
          "PC2": -3.703254079957143
         },
         {
          "Class": 0,
          "PC1": 2.118496931928452,
          "PC2": 0.2966290685699477
         },
         {
          "Class": 1,
          "PC1": -3.0121949701583755,
          "PC2": 0.24375997564722418
         },
         {
          "Class": 1,
          "PC1": -0.9826485812699012,
          "PC2": 0.7972523943057171
         },
         {
          "Class": 1,
          "PC1": 0.3578938625185252,
          "PC2": 2.127838631618564
         },
         {
          "Class": 1,
          "PC1": -3.193917865505276,
          "PC2": -1.8491520737819078
         },
         {
          "Class": 1,
          "PC1": -2.9932333012454353,
          "PC2": 1.6313922070176088
         },
         {
          "Class": 1,
          "PC1": -3.193914150468154,
          "PC2": 0.5793394415558001
         },
         {
          "Class": 1,
          "PC1": -4.591961853506047,
          "PC2": -2.7611270965520918
         },
         {
          "Class": 1,
          "PC1": -2.48591615441281,
          "PC2": -1.1889394037812522
         },
         {
          "Class": 1,
          "PC1": -2.3986653462111907,
          "PC2": -0.25074479051387655
         },
         {
          "Class": 1,
          "PC1": -0.7796151997476325,
          "PC2": -2.12434342774402
         },
         {
          "Class": 1,
          "PC1": -3.1399884257529327,
          "PC2": -1.4880221618427212
         },
         {
          "Class": 0,
          "PC1": 2.7350117716757834,
          "PC2": -3.9451682308469738
         },
         {
          "Class": 0,
          "PC1": 6.227025988690047,
          "PC2": -1.3901096918732443
         },
         {
          "Class": 1,
          "PC1": -2.223775745579118,
          "PC2": -0.3571607109921176
         },
         {
          "Class": 0,
          "PC1": 5.307140022002336,
          "PC2": -6.723414984866218
         },
         {
          "Class": 0,
          "PC1": 7.248001061273225,
          "PC2": -3.655469128947247
         },
         {
          "Class": 0,
          "PC1": 4.20722061895582,
          "PC2": 1.1762428814046697
         },
         {
          "Class": 1,
          "PC1": -2.499636374112564,
          "PC2": -2.0185356263280276
         },
         {
          "Class": 0,
          "PC1": 3.6350149466826847,
          "PC2": -1.9564409099258964
         },
         {
          "Class": 0,
          "PC1": 3.5192482750139678,
          "PC2": -3.858607120664656
         },
         {
          "Class": 1,
          "PC1": -2.6149483072403976,
          "PC2": -1.1024744591292386
         },
         {
          "Class": 1,
          "PC1": -0.09610811657684404,
          "PC2": -0.12984758259606777
         },
         {
          "Class": 1,
          "PC1": 2.0448569345661767,
          "PC2": 6.42681984008961
         },
         {
          "Class": 1,
          "PC1": -3.0667495275574588,
          "PC2": -2.1820956997256875
         },
         {
          "Class": 1,
          "PC1": -1.6035864433858418,
          "PC2": 0.29259622202993235
         },
         {
          "Class": 0,
          "PC1": 3.765932154104665,
          "PC2": 5.985295348777781
         },
         {
          "Class": 1,
          "PC1": -0.9255666032071975,
          "PC2": 2.302481429635118
         },
         {
          "Class": 1,
          "PC1": -3.2883495941018146,
          "PC2": 0.2013113373363653
         },
         {
          "Class": 1,
          "PC1": -1.5548521496518535,
          "PC2": 0.9798577288570044
         },
         {
          "Class": 1,
          "PC1": -0.39877991758101355,
          "PC2": 2.1612126914878425
         },
         {
          "Class": 1,
          "PC1": -2.3005678213339897,
          "PC2": -0.932077583629439
         },
         {
          "Class": 0,
          "PC1": -0.5429013641684904,
          "PC2": -1.31706791049938
         },
         {
          "Class": 1,
          "PC1": -2.058819455829791,
          "PC2": 0.320435145826373
         },
         {
          "Class": 1,
          "PC1": -3.4245180552312973,
          "PC2": -2.44551841136915
         },
         {
          "Class": 1,
          "PC1": -0.47240655185334646,
          "PC2": 3.7028294388332914
         },
         {
          "Class": 0,
          "PC1": 4.703500731699746,
          "PC2": -0.1959557558835905
         },
         {
          "Class": 1,
          "PC1": -3.643380238614189,
          "PC2": 0.7868599164310996
         },
         {
          "Class": 1,
          "PC1": -3.594689343590685,
          "PC2": 2.6050872178348152
         },
         {
          "Class": 0,
          "PC1": 4.149097342449385,
          "PC2": 0.7674888437373406
         },
         {
          "Class": 0,
          "PC1": 7.67214155262528,
          "PC2": -0.8604841496467965
         },
         {
          "Class": 1,
          "PC1": -2.0103794137579634,
          "PC2": 0.4296895609565873
         },
         {
          "Class": 1,
          "PC1": -2.9208334948368257,
          "PC2": -1.700472475059249
         },
         {
          "Class": 1,
          "PC1": -0.5007378002661662,
          "PC2": 0.10673146471486368
         },
         {
          "Class": 1,
          "PC1": -1.9114985749234987,
          "PC2": -0.6513938792655822
         },
         {
          "Class": 1,
          "PC1": -3.785099227795605,
          "PC2": -0.32614636747766274
         },
         {
          "Class": 1,
          "PC1": -2.708393968213715,
          "PC2": -0.21966574139080935
         },
         {
          "Class": 0,
          "PC1": 6.289673469533273,
          "PC2": 2.0365473991562504
         },
         {
          "Class": 1,
          "PC1": -3.4307706912386773,
          "PC2": -0.9926100350298399
         },
         {
          "Class": 1,
          "PC1": -2.0013884663893537,
          "PC2": -0.29332646323538303
         },
         {
          "Class": 1,
          "PC1": -2.473293094286822,
          "PC2": -0.3350470268815923
         },
         {
          "Class": 1,
          "PC1": -3.6472577463942883,
          "PC2": -1.2413651250833073
         },
         {
          "Class": 1,
          "PC1": -2.346186850942202,
          "PC2": 0.6827413166405988
         },
         {
          "Class": 1,
          "PC1": -1.142996926547729,
          "PC2": -1.9621714940032033
         },
         {
          "Class": 1,
          "PC1": -1.3508573033314752,
          "PC2": 0.36957390144696867
         },
         {
          "Class": 0,
          "PC1": 2.763370786289851,
          "PC2": -1.0786335087871026
         },
         {
          "Class": 1,
          "PC1": -1.9693236050361407,
          "PC2": -0.17584850902988164
         },
         {
          "Class": 1,
          "PC1": -2.931187055439189,
          "PC2": -0.49485623006700347
         },
         {
          "Class": 1,
          "PC1": -2.9263743861498983,
          "PC2": 0.377332256441746
         },
         {
          "Class": 1,
          "PC1": -3.996188277410337,
          "PC2": 0.9598560897440402
         },
         {
          "Class": 1,
          "PC1": 0.15513805946842998,
          "PC2": -0.4380082281607258
         },
         {
          "Class": 0,
          "PC1": -0.934090810373287,
          "PC2": -2.105945591350871
         },
         {
          "Class": 1,
          "PC1": -1.9296217302558476,
          "PC2": 0.8924666908355022
         },
         {
          "Class": 1,
          "PC1": -2.622338601703757,
          "PC2": 2.502101617764445
         },
         {
          "Class": 0,
          "PC1": 6.003616591373859,
          "PC2": -0.09102922292888346
         },
         {
          "Class": 1,
          "PC1": -2.9218778045738865,
          "PC2": -0.009212682084411094
         },
         {
          "Class": 1,
          "PC1": -3.3419448039486666,
          "PC2": -0.022224731153965768
         },
         {
          "Class": 1,
          "PC1": -2.014915033412375,
          "PC2": 0.7784521318836097
         },
         {
          "Class": 1,
          "PC1": 1.9884621055502152,
          "PC2": 2.3160480552975606
         },
         {
          "Class": 1,
          "PC1": -1.669603930600959,
          "PC2": 0.862318853092027
         },
         {
          "Class": 1,
          "PC1": -0.3711781135189747,
          "PC2": 0.1136126591982162
         },
         {
          "Class": 1,
          "PC1": -1.8489599298380235,
          "PC2": 2.5412296501610205
         },
         {
          "Class": 1,
          "PC1": -4.703042202111526,
          "PC2": -0.4323024303882432
         },
         {
          "Class": 1,
          "PC1": -1.283187150786232,
          "PC2": 2.5509093102646787
         },
         {
          "Class": 1,
          "PC1": -2.314246819305111,
          "PC2": 0.40203147740535766
         },
         {
          "Class": 1,
          "PC1": -4.659085176411028,
          "PC2": -0.7822987563666354
         },
         {
          "Class": 1,
          "PC1": -3.9434733817354495,
          "PC2": -2.0300162863418447
         },
         {
          "Class": 0,
          "PC1": 4.949858461548204,
          "PC2": 3.0060641314074794
         },
         {
          "Class": 1,
          "PC1": -0.9158035193315692,
          "PC2": 2.479013128960259
         },
         {
          "Class": 0,
          "PC1": 4.5491111466284355,
          "PC2": -0.8160005061108615
         },
         {
          "Class": 0,
          "PC1": 4.442342818131353,
          "PC2": -0.9924388982947102
         },
         {
          "Class": 1,
          "PC1": -2.194984301020652,
          "PC2": -1.8053532376788122
         },
         {
          "Class": 0,
          "PC1": 0.6644409146918826,
          "PC2": 0.43686085492887056
         },
         {
          "Class": 1,
          "PC1": -2.240876053643217,
          "PC2": -0.4545895113501197
         },
         {
          "Class": 1,
          "PC1": -2.125180436920068,
          "PC2": -1.194796911864345
         },
         {
          "Class": 1,
          "PC1": -2.6153174112218553,
          "PC2": -1.8320604330216939
         },
         {
          "Class": 1,
          "PC1": -3.2109679756623377,
          "PC2": -2.2351427039427576
         },
         {
          "Class": 1,
          "PC1": -0.30675039870763526,
          "PC2": 2.184998833115139
         },
         {
          "Class": 0,
          "PC1": 2.4723569167739456,
          "PC2": -1.499824752019139
         },
         {
          "Class": 1,
          "PC1": -3.4547183721133927,
          "PC2": -2.1364615475688553
         },
         {
          "Class": 1,
          "PC1": -3.900526848059669,
          "PC2": 0.7307759715968595
         },
         {
          "Class": 0,
          "PC1": 0.9817275418951543,
          "PC2": -2.2104299468335813
         },
         {
          "Class": 1,
          "PC1": -1.2572515710229435,
          "PC2": 1.067691514911801
         },
         {
          "Class": 0,
          "PC1": 3.2454136489029652,
          "PC2": -1.778358631948324
         },
         {
          "Class": 1,
          "PC1": -1.5572194125369736,
          "PC2": -1.037927106451215
         },
         {
          "Class": 1,
          "PC1": -1.2492580966984468,
          "PC2": -1.5888387891563922
         },
         {
          "Class": 0,
          "PC1": 4.331653344536305,
          "PC2": -4.049332418789139
         },
         {
          "Class": 1,
          "PC1": -1.0774513298931259,
          "PC2": 1.8036181629121613
         },
         {
          "Class": 0,
          "PC1": 2.5117531022601267,
          "PC2": -2.528807582665909
         },
         {
          "Class": 1,
          "PC1": -2.217092305447948,
          "PC2": 0.029891288214296517
         },
         {
          "Class": 1,
          "PC1": -1.1738306467781974,
          "PC2": -0.4748395056707416
         },
         {
          "Class": 1,
          "PC1": -2.836301444333266,
          "PC2": -1.018125806516153
         },
         {
          "Class": 1,
          "PC1": -1.8570858988743846,
          "PC2": -1.5713931195884645
         },
         {
          "Class": 1,
          "PC1": -1.3286143729585522,
          "PC2": 0.7770956610978819
         },
         {
          "Class": 1,
          "PC1": -2.8027713567762844,
          "PC2": -1.6663016341319803
         },
         {
          "Class": 1,
          "PC1": -3.1745687967642287,
          "PC2": -2.075733618818642
         },
         {
          "Class": 1,
          "PC1": -4.087077360931953,
          "PC2": -0.4847100786807035
         },
         {
          "Class": 0,
          "PC1": 3.4754937481318144,
          "PC2": -1.6728843923169978
         },
         {
          "Class": 0,
          "PC1": 16.319233231031475,
          "PC2": -7.775852803663495
         },
         {
          "Class": 1,
          "PC1": -2.560115018018031,
          "PC2": -2.494045446252018
         },
         {
          "Class": 1,
          "PC1": -2.9688887959165515,
          "PC2": -0.06884713629118656
         },
         {
          "Class": 1,
          "PC1": -2.757430451020421,
          "PC2": -1.79391876776723
         },
         {
          "Class": 1,
          "PC1": 1.3703398754406624,
          "PC2": 2.1100113490862924
         },
         {
          "Class": 1,
          "PC1": -0.4176644925535262,
          "PC2": 0.116519697775208
         },
         {
          "Class": 1,
          "PC1": -3.838398622981322,
          "PC2": 0.899178648662694
         },
         {
          "Class": 0,
          "PC1": 5.930964859584066,
          "PC2": 1.228296682037247
         },
         {
          "Class": 1,
          "PC1": 0.6454786474864557,
          "PC2": 3.426011421180608
         },
         {
          "Class": 1,
          "PC1": -2.6838464009796685,
          "PC2": 1.4435555294397369
         },
         {
          "Class": 1,
          "PC1": -2.04166405210562,
          "PC2": -0.9032559293146257
         },
         {
          "Class": 1,
          "PC1": -1.3992963501124132,
          "PC2": -1.7722262449087156
         },
         {
          "Class": 1,
          "PC1": -3.5364152954178465,
          "PC2": -1.2468541533662878
         },
         {
          "Class": 1,
          "PC1": -1.9905294465915586,
          "PC2": 1.8994625514899102
         },
         {
          "Class": 1,
          "PC1": -1.9981853671294028,
          "PC2": -0.20637113627572376
         },
         {
          "Class": 1,
          "PC1": -0.5206581123169242,
          "PC2": -0.9733678108368395
         },
         {
          "Class": 1,
          "PC1": -3.1723704882490282,
          "PC2": -2.089052297119209
         },
         {
          "Class": 1,
          "PC1": -2.2027101890563037,
          "PC2": 1.286039318173581
         },
         {
          "Class": 0,
          "PC1": 3.8244330429401785,
          "PC2": 2.3052363175164663
         },
         {
          "Class": 1,
          "PC1": -2.9854846903265417,
          "PC2": -0.6733392440371215
         },
         {
          "Class": 1,
          "PC1": -2.4810551072777542,
          "PC2": -2.363958760462834
         },
         {
          "Class": 1,
          "PC1": -1.2721114612778868,
          "PC2": 0.5098338478772717
         },
         {
          "Class": 1,
          "PC1": -2.235156888078125,
          "PC2": -1.2987044936512158
         },
         {
          "Class": 1,
          "PC1": -0.05618310431230793,
          "PC2": -0.22738339229748658
         },
         {
          "Class": 1,
          "PC1": 2.3173906062810548,
          "PC2": 4.389134334455694
         },
         {
          "Class": 1,
          "PC1": -2.2843312608518995,
          "PC2": -2.4668407564082675
         },
         {
          "Class": 0,
          "PC1": 4.754614870668942,
          "PC2": -1.489423560603846
         },
         {
          "Class": 1,
          "PC1": -1.7263109176875995,
          "PC2": 0.9981778349360461
         },
         {
          "Class": 0,
          "PC1": -0.7417817670627505,
          "PC2": -2.4520349665826435
         },
         {
          "Class": 1,
          "PC1": -2.894310661011523,
          "PC2": -0.9779443197187582
         },
         {
          "Class": 1,
          "PC1": -1.6545218459205824,
          "PC2": -4.555664122686677
         },
         {
          "Class": 0,
          "PC1": 3.1035197039280233,
          "PC2": -1.236153211532777
         },
         {
          "Class": 1,
          "PC1": -4.064270597765478,
          "PC2": -0.560954221678841
         },
         {
          "Class": 1,
          "PC1": -2.7933306574633745,
          "PC2": -1.0778881326372647
         },
         {
          "Class": 1,
          "PC1": -1.4749199376083522,
          "PC2": -1.5910942018567147
         },
         {
          "Class": 1,
          "PC1": -0.22939463704300206,
          "PC2": 1.515903417681715
         },
         {
          "Class": 1,
          "PC1": -2.5532584076131797,
          "PC2": -0.7639004855446874
         },
         {
          "Class": 0,
          "PC1": 3.7157051034635433,
          "PC2": -1.058686219669435
         },
         {
          "Class": 0,
          "PC1": 5.094841843796151,
          "PC2": -2.0192078334638257
         },
         {
          "Class": 1,
          "PC1": -0.6006161135566214,
          "PC2": -0.8384546622659828
         },
         {
          "Class": 0,
          "PC1": 2.7903998294340955,
          "PC2": 3.385560771468515
         },
         {
          "Class": 1,
          "PC1": -1.4087712143989284,
          "PC2": 1.5057705920000362
         },
         {
          "Class": 0,
          "PC1": 7.259178840794323,
          "PC2": -5.495735720768542
         },
         {
          "Class": 1,
          "PC1": 1.2988665487867923,
          "PC2": 7.729852800701114
         },
         {
          "Class": 1,
          "PC1": 1.0766932756327858,
          "PC2": 8.294775449585805
         },
         {
          "Class": 1,
          "PC1": -1.2497605247730668,
          "PC2": 1.5956838556835207
         },
         {
          "Class": 1,
          "PC1": -1.256928405618393,
          "PC2": 4.117186680809829
         },
         {
          "Class": 1,
          "PC1": -1.1665352144774548,
          "PC2": -1.6656937359026593
         },
         {
          "Class": 0,
          "PC1": 4.094142557240663,
          "PC2": 2.8029272492660486
         },
         {
          "Class": 1,
          "PC1": -1.8876392413591576,
          "PC2": 1.6721917383419411
         },
         {
          "Class": 1,
          "PC1": -2.767435702846297,
          "PC2": -2.1610487947312693
         },
         {
          "Class": 0,
          "PC1": 2.2269944892060374,
          "PC2": 1.9416347589419811
         },
         {
          "Class": 1,
          "PC1": -1.1315768907453672,
          "PC2": -1.4110019650228947
         },
         {
          "Class": 0,
          "PC1": -0.7337724522412534,
          "PC2": -1.9436971832577736
         },
         {
          "Class": 1,
          "PC1": -2.333670736811628,
          "PC2": 0.7901466075685735
         },
         {
          "Class": 0,
          "PC1": 2.6972237543994013,
          "PC2": -1.9437099455820879
         },
         {
          "Class": 0,
          "PC1": 3.379014667722207,
          "PC2": -2.333428944752572
         },
         {
          "Class": 1,
          "PC1": -0.19987058014132128,
          "PC2": 1.0763600028794174
         },
         {
          "Class": 1,
          "PC1": -1.176025913235495,
          "PC2": 1.0113701779197848
         },
         {
          "Class": 1,
          "PC1": -1.2926365392810344,
          "PC2": 4.96422470151697
         },
         {
          "Class": 0,
          "PC1": 8.63075585909593,
          "PC2": -3.459451914934349
         },
         {
          "Class": 1,
          "PC1": -4.429456371065875,
          "PC2": -0.7860360355883952
         },
         {
          "Class": 1,
          "PC1": -0.6198387404455056,
          "PC2": 0.6363492693960631
         },
         {
          "Class": 1,
          "PC1": -3.252315768611721,
          "PC2": 1.2859251608984277
         },
         {
          "Class": 1,
          "PC1": -3.3529270535360083,
          "PC2": 2.673300597046879
         },
         {
          "Class": 1,
          "PC1": -0.8598029860020289,
          "PC2": 0.09684852192944234
         },
         {
          "Class": 1,
          "PC1": -3.156621968682681,
          "PC2": -0.8715426238256291
         },
         {
          "Class": 1,
          "PC1": 0.3465281132093485,
          "PC2": 1.541225274710913
         },
         {
          "Class": 1,
          "PC1": -2.4614066509242845,
          "PC2": 0.6008479689725379
         },
         {
          "Class": 1,
          "PC1": -1.5301007215868563,
          "PC2": 0.4052177886124873
         },
         {
          "Class": 1,
          "PC1": -1.7735850660606582,
          "PC2": 0.8042100124790883
         },
         {
          "Class": 1,
          "PC1": -2.6804416239657467,
          "PC2": -1.4847089006658512
         },
         {
          "Class": 0,
          "PC1": 4.028435261073991,
          "PC2": -2.94143009774969
         },
         {
          "Class": 1,
          "PC1": -2.136351228599056,
          "PC2": 1.5185806392276184
         },
         {
          "Class": 0,
          "PC1": 5.165410948304288,
          "PC2": -2.382203230465855
         },
         {
          "Class": 0,
          "PC1": 0.5359319494270831,
          "PC2": 0.38071514609061013
         },
         {
          "Class": 1,
          "PC1": 0.3431233829428009,
          "PC2": 3.5344810520958836
         },
         {
          "Class": 1,
          "PC1": -4.197079986346347,
          "PC2": 2.367392283543616
         },
         {
          "Class": 1,
          "PC1": -1.1428318645980238,
          "PC2": 5.599458471901105
         },
         {
          "Class": 1,
          "PC1": -1.6654751532175711,
          "PC2": 2.389618125365477
         },
         {
          "Class": 1,
          "PC1": 1.0117124957297359,
          "PC2": 1.0923896499562693
         },
         {
          "Class": 1,
          "PC1": -1.3009297119683172,
          "PC2": -1.8214153018691404
         },
         {
          "Class": 1,
          "PC1": -2.3734287250099526,
          "PC2": -1.681576237801964
         },
         {
          "Class": 1,
          "PC1": -1.6658710117956728,
          "PC2": -0.21396273979809674
         },
         {
          "Class": 1,
          "PC1": -1.9276781923708395,
          "PC2": -1.1377399162157182
         },
         {
          "Class": 1,
          "PC1": -4.237216617941256,
          "PC2": 0.18427249742039442
         },
         {
          "Class": 1,
          "PC1": -2.6778707208420647,
          "PC2": 2.3157928227269706
         },
         {
          "Class": 1,
          "PC1": -3.836497851795409,
          "PC2": 0.4962499280644017
         },
         {
          "Class": 1,
          "PC1": -2.551440295950655,
          "PC2": 0.22832995798075267
         },
         {
          "Class": 1,
          "PC1": -4.694923445157832,
          "PC2": -0.7674779427438905
         },
         {
          "Class": 1,
          "PC1": -2.025037164126969,
          "PC2": 1.261241900107947
         },
         {
          "Class": 1,
          "PC1": -2.895948205519024,
          "PC2": -1.45163576410128
         },
         {
          "Class": 1,
          "PC1": -3.5022010405436905,
          "PC2": 1.8008324921205625
         },
         {
          "Class": 1,
          "PC1": -2.1539036673966883,
          "PC2": -0.8300688176280349
         },
         {
          "Class": 1,
          "PC1": -2.055084067991145,
          "PC2": 1.616459267880602
         },
         {
          "Class": 1,
          "PC1": -3.8772895793988416,
          "PC2": 1.084254745699836
         },
         {
          "Class": 1,
          "PC1": -4.0638621147289555,
          "PC2": 0.12216843623540737
         },
         {
          "Class": 1,
          "PC1": -0.09866733268887737,
          "PC2": -0.21355983781645688
         },
         {
          "Class": 1,
          "PC1": -1.089376190069908,
          "PC2": 1.292847897997938
         },
         {
          "Class": 1,
          "PC1": -0.4817709648469872,
          "PC2": -0.17801969165781514
         },
         {
          "Class": 1,
          "PC1": -4.870309518087117,
          "PC2": -2.1311061073798734
         },
         {
          "Class": 0,
          "PC1": 5.917612589141653,
          "PC2": 3.4826366602530756
         },
         {
          "Class": 0,
          "PC1": 8.741338077267141,
          "PC2": -0.5738546716276586
         },
         {
          "Class": 0,
          "PC1": 6.439315483954052,
          "PC2": -3.576817444014457
         },
         {
          "Class": 0,
          "PC1": 3.7933823700331293,
          "PC2": -3.584047864404206
         },
         {
          "Class": 0,
          "PC1": 1.256179276149847,
          "PC2": -1.9022967126101444
         },
         {
          "Class": 0,
          "PC1": 10.374794059768249,
          "PC2": 1.672010107168494
         },
         {
          "Class": 1,
          "PC1": -5.475243302545211,
          "PC2": -0.6706367897367537
         }
        ]
       },
       "layer": [
        {
         "data": {
          "name": "data-0d49ed8d6951598991e79810a64eefd9"
         },
         "encoding": {
          "color": {
           "field": "Class",
           "type": "nominal"
          },
          "x": {
           "field": "PC1",
           "type": "quantitative"
          },
          "y": {
           "field": "PC2",
           "type": "quantitative"
          }
         },
         "mark": "tick",
         "selection": {
          "selector003": {
           "bind": "scales",
           "encodings": [
            "x",
            "y"
           ],
           "mark": {
            "fill": "#333",
            "fillOpacity": 0.125,
            "stroke": "white"
           },
           "on": "[mousedown, window:mouseup] > window:mousemove!",
           "resolve": "global",
           "translate": "[mousedown, window:mouseup] > window:mousemove!",
           "type": "interval",
           "zoom": "wheel!"
          }
         }
        },
        {
         "data": {
          "name": "data-2e5840120e3ccd325f45eb78a2e73c5d"
         },
         "encoding": {
          "color": {
           "field": "Class",
           "type": "nominal"
          },
          "x": {
           "field": "PC1",
           "type": "quantitative"
          },
          "y": {
           "field": "PC2",
           "type": "quantitative"
          }
         },
         "mark": "point"
        }
       ]
      },
      "image/png": "[encoded data removed]",
      "text/plain": [
       "<VegaLite 2 object>\n",
       "\n",
       "If you see this message, it means the renderer has not been properly enabled\n",
       "for the frontend that you are using. For more information, see\n",
       "https://altair-viz.github.io/user_guide/troubleshooting.html\n"
      ]
     },
     "execution_count": 39,
     "metadata": {},
     "output_type": "execute_result"
    }
   ],
   "source": [
    "test_set = alt.Chart(X_test.assign(Class=predictions)).mark_tick().encode(\n",
    "    x='PC1',\n",
    "    y='PC2',\n",
    "    color=alt.Color('Class', type='nominal')\n",
    ")\n",
    "(test_set + train_set).interactive()"
   ]
  },
  {
   "cell_type": "markdown",
   "metadata": {},
   "source": [
    "Los círculos con lineas son los círculos predichos. El color del relleno representa la clase predicha."
   ]
  }
 ],
 "metadata": {
  "kernelspec": {
   "display_name": "Python 3",
   "language": "python",
   "name": "python3"
  },
  "language_info": {
   "codemirror_mode": {
    "name": "ipython",
    "version": 3
   },
   "file_extension": ".py",
   "mimetype": "text/x-python",
   "name": "python",
   "nbconvert_exporter": "python",
   "pygments_lexer": "ipython3",
   "version": "3.7.0"
  }
 },
 "nbformat": 4,
 "nbformat_minor": 2
}
