{
 "cells": [
  {
   "cell_type": "markdown",
   "metadata": {},
   "source": [
    "# Ayudantía 2: [Pandas](https://pandas.pydata.org/ \"Pandas' homepage\")"
   ]
  },
  {
   "cell_type": "markdown",
   "metadata": {},
   "source": [
    "### ¿Qué es Pandas?\n",
    "\n",
    "Pandas es una librería de Python que provee estructuras de datos y herramientas de análisis de datos."
   ]
  },
  {
   "cell_type": "markdown",
   "metadata": {},
   "source": [
    "### ¿Por qué usar Pandas?\n",
    "\n",
    "- Aumenta la productividad de quien lo use\n",
    "\n",
    "- La ejecución de las funcionalidades de la librería es eficiente (usualmente más de lo que uno puede concebir en poco tiempo usando solo Python)\n",
    "\n",
    "- Es una excelente herramienta para procesar datos y analizarlos rápidamente\n"
   ]
  },
  {
   "cell_type": "markdown",
   "metadata": {},
   "source": [
    "### ¿Cómo usar Pandas?\n",
    "\n",
    "Para poder usar Pandas, primero hay que entender cómo funciona y cuáles son sus piezas fundamentales (además de tenerlo instalado - con `pip`, por ejemplo -, pues no viene incluido con la librería estándar de Python). [Aquí](https://pandas.pydata.org/pandas-docs/stable/tutorials.html) hay una compilación de tutoriales con una infinidad de información y técnicas de uso de pandas.\n",
    "\n",
    "Antes de empezar, hay que tener claro que Pandas utiliza fuertemente la librería [NumPy](http://www.numpy.org/) y es compatible con ella, lo que se refleja en la forma de las estructuras de datos provistas por Pandas y de muchos de los argumentos de muchas funciones y métodos de la librería.\n",
    "\n",
    "Se empieza importando la librería, lo que por convención se hace de la siguiente manera:"
   ]
  },
  {
   "cell_type": "code",
   "execution_count": 1,
   "metadata": {},
   "outputs": [],
   "source": [
    "import pandas as pd"
   ]
  },
  {
   "cell_type": "markdown",
   "metadata": {},
   "source": [
    "***\n",
    "# 1. Estructuras de datos\n",
    "\n",
    "Las estructuras de datos principales que provee la librería son las [series](https://pandas.pydata.org/pandas-docs/stable/generated/pandas.Series.html \"Documentación de Series\") y los [Dataframes](https://pandas.pydata.org/pandas-docs/stable/generated/pandas.DataFrame.html \"Documentación de DataFrama\")."
   ]
  },
  {
   "cell_type": "markdown",
   "metadata": {},
   "source": [
    "## 1.1. [Series](https://pandas.pydata.org/pandas-docs/stable/generated/pandas.Series.html)\n",
    "\n",
    "Las series son conjuntos de datos **unidimensionales** e **indexados**. Son como listas de Python pero indexables no solo por números. Los datos que contienen **son del mismo tipo** (*e.g.* string, float). Para crear una serie se debe instanciar un objeto *Series*. El primer argumento del constructor es `data`, pero hay muchos más de los que pueden leer en [la documetación](https://pandas.pydata.org/pandas-docs/stable/generated/pandas.Series.html).\n",
    "\n",
    "```python\n",
    "pd.Series(data)  # instanciación simple y común\n",
    "```\n",
    "\n",
    "`data` puede ser de varias formas diferentes: [*array-like*](https://stackoverflow.com/questions/40378427/numpy-formal-definition-of-array-like-objects), *dict* o *scalar value*. En términos **simplificados**: puede ser un [array de NumPy](https://docs.scipy.org/doc/numpy/reference/arrays.ndarray.html), un diccionario de Python o un valor escalar (un número).\n",
    "\n",
    "Por ejemplo, pasando una lista de números"
   ]
  },
  {
   "cell_type": "code",
   "execution_count": 2,
   "metadata": {},
   "outputs": [
    {
     "data": {
      "text/plain": [
       "0     5\n",
       "1     8\n",
       "2     0\n",
       "3    10\n",
       "dtype: int64"
      ]
     },
     "execution_count": 2,
     "metadata": {},
     "output_type": "execute_result"
    }
   ],
   "source": [
    "s0 = pd.Series([5, 8, 0, 10])\n",
    "s0"
   ]
  },
  {
   "cell_type": "markdown",
   "metadata": {},
   "source": [
    "En el llamado anterior, Pandas infirió un tipo de dato para los datos de la serie: `int64`. Los tipos de datos de Pandas tienen relación con los tipos de datos de Python y de NumPy. De esto pueden leer más [aquí](http://pbpython.com/pandas_dtypes.html). Además, se creo un índice ([Pandas index](https://pandas.pydata.org/pandas-docs/stable/generated/pandas.Index.html)) que permite tener acceso rápido a cualquiera de los datos. Este índice es la columna de la izquierda que va desde el 0 al 3.\n",
    "\n",
    "La *property* [`loc`](https://pandas.pydata.org/pandas-docs/stable/generated/pandas.Series.loc.html) permite acceder a los datos mediante el índice (también existe [`iloc`](https://pandas.pydata.org/pandas-docs/stable/generated/pandas.Series.iloc.html), que puede seleccionar datos como se acostumbra a hacer con listas de Python)."
   ]
  },
  {
   "cell_type": "code",
   "execution_count": 3,
   "metadata": {},
   "outputs": [
    {
     "data": {
      "text/plain": [
       "0"
      ]
     },
     "execution_count": 3,
     "metadata": {},
     "output_type": "execute_result"
    }
   ],
   "source": [
    "s0.loc[2]  # acceso al elemento de la serie indexado por el número 2"
   ]
  },
  {
   "cell_type": "code",
   "execution_count": 4,
   "metadata": {},
   "outputs": [
    {
     "data": {
      "text/plain": [
       "0    5\n",
       "2    0\n",
       "dtype: int64"
      ]
     },
     "execution_count": 4,
     "metadata": {},
     "output_type": "execute_result"
    }
   ],
   "source": [
    "s0.loc[[0, 2]]  # elementos indexados por 0 y 2"
   ]
  },
  {
   "cell_type": "markdown",
   "metadata": {},
   "source": [
    "Se puede especificar, también, un índice explícitamente para una serie:"
   ]
  },
  {
   "cell_type": "code",
   "execution_count": 5,
   "metadata": {},
   "outputs": [
    {
     "data": {
      "text/plain": [
       "z    a\n",
       "x    2\n",
       "w    c\n",
       "y    4\n",
       "dtype: object"
      ]
     },
     "execution_count": 5,
     "metadata": {},
     "output_type": "execute_result"
    }
   ],
   "source": [
    "s1 = pd.Series(['a', 2, 'c', 4], index=['z', 'x', 'w', 'y'])\n",
    "s1"
   ]
  },
  {
   "cell_type": "code",
   "execution_count": 6,
   "metadata": {},
   "outputs": [
    {
     "data": {
      "text/plain": [
       "2"
      ]
     },
     "execution_count": 6,
     "metadata": {},
     "output_type": "execute_result"
    }
   ],
   "source": [
    "s1.loc['x']  # acceso al valor indexado por 'x'"
   ]
  },
  {
   "cell_type": "markdown",
   "metadata": {},
   "source": [
    "Nótese que en `s1` hay letras y números, pero Pandas los transforma a un solo tipo de dato: `object`, que [es semejante a `str` de Python](https://stackoverflow.com/questions/34881079/pandas-distinction-between-str-and-object-types). Si se necesita conocer el tipo de dato de una serie, se puede utilizar el [método `dtype`](https://pandas.pydata.org/pandas-docs/stable/generated/pandas.Series.dtype.html).\n",
    "\n",
    "Por último, existe la instanciación con diccionarios y con escalares:"
   ]
  },
  {
   "cell_type": "code",
   "execution_count": 7,
   "metadata": {},
   "outputs": [
    {
     "data": {
      "text/plain": [
       "i0    v0\n",
       "i1    v1\n",
       "i2    v3\n",
       "dtype: object"
      ]
     },
     "execution_count": 7,
     "metadata": {},
     "output_type": "execute_result"
    }
   ],
   "source": [
    "s2 = pd.Series({'i0': 'v0', 'i1': 'v1', 'i2': 'v3'})  # instanciación con diccionario. Keys=index, values=values\n",
    "s2"
   ]
  },
  {
   "cell_type": "code",
   "execution_count": 8,
   "metadata": {},
   "outputs": [
    {
     "data": {
      "text/plain": [
       "0    3.14\n",
       "1    3.14\n",
       "2    3.14\n",
       "3    3.14\n",
       "4    3.14\n",
       "dtype: float64"
      ]
     },
     "execution_count": 8,
     "metadata": {},
     "output_type": "execute_result"
    }
   ],
   "source": [
    "s3 = pd.Series(3.14, index=range(5))  # instanciación con escalar. Todos los valores son iguales\n",
    "s3"
   ]
  },
  {
   "cell_type": "markdown",
   "metadata": {},
   "source": [
    "## 1.2 [DataFrames](https://pandas.pydata.org/pandas-docs/stable/generated/pandas.DataFrame.html)\n",
    "\n",
    "Los *DataFrames* son otro tipo de estructura de datos que puede ser vista como una generalización de las series; como tablas (indexadas) con series como columnas. Cabe notar que pueden ser tablas multidimensionales, no solo de dos dimensiones.\n",
    "\n",
    "El primer argumento del constructor *DataFrame* es `data` como en las series y puede ser un array de NumPy, un diccionario u otro *DataFrame*.\n",
    "\n",
    "A diferencia de las series, si se instancia un *DataFrame* con un diccionario, las llaves del diccionario pasan a ser los nombres de las columnas y los valores del diccionario pasan a ser los valores de las columnas."
   ]
  },
  {
   "cell_type": "code",
   "execution_count": 9,
   "metadata": {},
   "outputs": [
    {
     "data": {
      "text/html": [
       "<div>\n",
       "<style scoped>\n",
       "    .dataframe tbody tr th:only-of-type {\n",
       "        vertical-align: middle;\n",
       "    }\n",
       "\n",
       "    .dataframe tbody tr th {\n",
       "        vertical-align: top;\n",
       "    }\n",
       "\n",
       "    .dataframe thead th {\n",
       "        text-align: right;\n",
       "    }\n",
       "</style>\n",
       "<table border=\"1\" class=\"dataframe\">\n",
       "  <thead>\n",
       "    <tr style=\"text-align: right;\">\n",
       "      <th></th>\n",
       "      <th>C1</th>\n",
       "      <th>C2</th>\n",
       "      <th>C3</th>\n",
       "    </tr>\n",
       "  </thead>\n",
       "  <tbody>\n",
       "    <tr>\n",
       "      <th>0</th>\n",
       "      <td>1.0</td>\n",
       "      <td>42</td>\n",
       "      <td>69</td>\n",
       "    </tr>\n",
       "    <tr>\n",
       "      <th>1</th>\n",
       "      <td>2.0</td>\n",
       "      <td>42</td>\n",
       "      <td>el mundo digital</td>\n",
       "    </tr>\n",
       "    <tr>\n",
       "      <th>2</th>\n",
       "      <td>3.0</td>\n",
       "      <td>42</td>\n",
       "      <td>False</td>\n",
       "    </tr>\n",
       "  </tbody>\n",
       "</table>\n",
       "</div>"
      ],
      "text/plain": [
       "    C1  C2                C3\n",
       "0  1.0  42                69\n",
       "1  2.0  42  el mundo digital\n",
       "2  3.0  42             False"
      ]
     },
     "execution_count": 9,
     "metadata": {},
     "output_type": "execute_result"
    }
   ],
   "source": [
    "df0 = pd.DataFrame({\n",
    "    'C1': [1., 2, 3], \n",
    "    'C2': 42, \n",
    "    'C3': [69, 'el mundo digital', False] \n",
    "})  # instanciación con diccionario\n",
    "df0"
   ]
  },
  {
   "cell_type": "markdown",
   "metadata": {},
   "source": [
    "Es importante saber que las columnas de los *DataFrames* pueden contener datos de tipos diferentes, su atributo [`dtypes`](https://pandas.pydata.org/pandas-docs/stable/generated/pandas.DataFrame.dtypes.html#pandas.DataFrame.dtypes) permite identificar estos tipos de datos para cada columna."
   ]
  },
  {
   "cell_type": "code",
   "execution_count": 10,
   "metadata": {},
   "outputs": [
    {
     "data": {
      "text/plain": [
       "C1    float64\n",
       "C2      int64\n",
       "C3     object\n",
       "dtype: object"
      ]
     },
     "execution_count": 10,
     "metadata": {},
     "output_type": "execute_result"
    }
   ],
   "source": [
    "df0.dtypes"
   ]
  },
  {
   "cell_type": "markdown",
   "metadata": {},
   "source": [
    "En la celda anterior se evidencia que cada columna de `df0` tiene tipos de datos diferentes. La columna `C3`, en particular, fue creada usando una lista (*i.e.* ```[69, 'el mundo digital', False]```) con valores de distinta naturaleza: un *integer*, un *string* y un valor booleano. Pandas simplemente convirtió estos valores a su tipo de dato `object`.\n",
    "\n",
    "Ahora un ejemplo de instanciación con un array de NumPy creado con la función [`randint`](https://docs.scipy.org/doc/numpy/reference/generated/numpy.random.randint.html) del módulo [`random`](https://docs.scipy.org/doc/numpy/reference/routines.random.html)."
   ]
  },
  {
   "cell_type": "code",
   "execution_count": 11,
   "metadata": {},
   "outputs": [],
   "source": [
    "import numpy as np"
   ]
  },
  {
   "cell_type": "code",
   "execution_count": 12,
   "metadata": {},
   "outputs": [
    {
     "data": {
      "text/html": [
       "<div>\n",
       "<style scoped>\n",
       "    .dataframe tbody tr th:only-of-type {\n",
       "        vertical-align: middle;\n",
       "    }\n",
       "\n",
       "    .dataframe tbody tr th {\n",
       "        vertical-align: top;\n",
       "    }\n",
       "\n",
       "    .dataframe thead th {\n",
       "        text-align: right;\n",
       "    }\n",
       "</style>\n",
       "<table border=\"1\" class=\"dataframe\">\n",
       "  <thead>\n",
       "    <tr style=\"text-align: right;\">\n",
       "      <th></th>\n",
       "      <th>a</th>\n",
       "      <th>b</th>\n",
       "      <th>c</th>\n",
       "      <th>d</th>\n",
       "      <th>e</th>\n",
       "    </tr>\n",
       "  </thead>\n",
       "  <tbody>\n",
       "    <tr>\n",
       "      <th>68</th>\n",
       "      <td>2</td>\n",
       "      <td>5</td>\n",
       "      <td>3</td>\n",
       "      <td>0</td>\n",
       "      <td>7</td>\n",
       "    </tr>\n",
       "    <tr>\n",
       "      <th>102</th>\n",
       "      <td>1</td>\n",
       "      <td>7</td>\n",
       "      <td>3</td>\n",
       "      <td>1</td>\n",
       "      <td>8</td>\n",
       "    </tr>\n",
       "    <tr>\n",
       "      <th>-4</th>\n",
       "      <td>4</td>\n",
       "      <td>5</td>\n",
       "      <td>3</td>\n",
       "      <td>6</td>\n",
       "      <td>0</td>\n",
       "    </tr>\n",
       "    <tr>\n",
       "      <th>u</th>\n",
       "      <td>4</td>\n",
       "      <td>5</td>\n",
       "      <td>6</td>\n",
       "      <td>2</td>\n",
       "      <td>9</td>\n",
       "    </tr>\n",
       "    <tr>\n",
       "      <th>vw</th>\n",
       "      <td>2</td>\n",
       "      <td>2</td>\n",
       "      <td>1</td>\n",
       "      <td>5</td>\n",
       "      <td>6</td>\n",
       "    </tr>\n",
       "  </tbody>\n",
       "</table>\n",
       "</div>"
      ],
      "text/plain": [
       "     a  b  c  d  e\n",
       "68   2  5  3  0  7\n",
       "102  1  7  3  1  8\n",
       "-4   4  5  3  6  0\n",
       "u    4  5  6  2  9\n",
       "vw   2  2  1  5  6"
      ]
     },
     "execution_count": 12,
     "metadata": {},
     "output_type": "execute_result"
    }
   ],
   "source": [
    "df1 = pd.DataFrame(\n",
    "    np.random.randint(low=0, high=10, size=(5, 5)),\n",
    "    columns=['a', 'b', 'c', 'd', 'e'],\n",
    "    index=[68, 102, -4, 'u', 'vw']\n",
    ")  # instanciación con NumPy array\n",
    "df1"
   ]
  },
  {
   "cell_type": "markdown",
   "metadata": {},
   "source": [
    "También se puede usar la *property* [`loc`](https://pandas.pydata.org/pandas-docs/stable/generated/pandas.DataFrame.loc.html) (e [`iloc`](https://pandas.pydata.org/pandas-docs/stable/generated/pandas.DataFrame.iloc.html#pandas.DataFrame.iloc)) para seleccionar **subconjuntos de filas y columnas** del *DataFrame*."
   ]
  },
  {
   "cell_type": "code",
   "execution_count": 13,
   "metadata": {},
   "outputs": [
    {
     "data": {
      "text/plain": [
       "C1                   2\n",
       "C2                  42\n",
       "C3    el mundo digital\n",
       "Name: 1, dtype: object"
      ]
     },
     "execution_count": 13,
     "metadata": {},
     "output_type": "execute_result"
    }
   ],
   "source": [
    "df0.loc[1] # fila indexada por 2 del DataFrame"
   ]
  },
  {
   "cell_type": "code",
   "execution_count": 14,
   "metadata": {},
   "outputs": [
    {
     "data": {
      "text/html": [
       "<div>\n",
       "<style scoped>\n",
       "    .dataframe tbody tr th:only-of-type {\n",
       "        vertical-align: middle;\n",
       "    }\n",
       "\n",
       "    .dataframe tbody tr th {\n",
       "        vertical-align: top;\n",
       "    }\n",
       "\n",
       "    .dataframe thead th {\n",
       "        text-align: right;\n",
       "    }\n",
       "</style>\n",
       "<table border=\"1\" class=\"dataframe\">\n",
       "  <thead>\n",
       "    <tr style=\"text-align: right;\">\n",
       "      <th></th>\n",
       "      <th>a</th>\n",
       "      <th>b</th>\n",
       "      <th>c</th>\n",
       "      <th>d</th>\n",
       "      <th>e</th>\n",
       "    </tr>\n",
       "  </thead>\n",
       "  <tbody>\n",
       "    <tr>\n",
       "      <th>u</th>\n",
       "      <td>4</td>\n",
       "      <td>5</td>\n",
       "      <td>6</td>\n",
       "      <td>2</td>\n",
       "      <td>9</td>\n",
       "    </tr>\n",
       "    <tr>\n",
       "      <th>-4</th>\n",
       "      <td>4</td>\n",
       "      <td>5</td>\n",
       "      <td>3</td>\n",
       "      <td>6</td>\n",
       "      <td>0</td>\n",
       "    </tr>\n",
       "    <tr>\n",
       "      <th>102</th>\n",
       "      <td>1</td>\n",
       "      <td>7</td>\n",
       "      <td>3</td>\n",
       "      <td>1</td>\n",
       "      <td>8</td>\n",
       "    </tr>\n",
       "  </tbody>\n",
       "</table>\n",
       "</div>"
      ],
      "text/plain": [
       "     a  b  c  d  e\n",
       "u    4  5  6  2  9\n",
       "-4   4  5  3  6  0\n",
       "102  1  7  3  1  8"
      ]
     },
     "execution_count": 14,
     "metadata": {},
     "output_type": "execute_result"
    }
   ],
   "source": [
    "df1.loc[['u', -4, 102]] # filas indexadas por 'u', -4 y 102"
   ]
  },
  {
   "cell_type": "code",
   "execution_count": 15,
   "metadata": {},
   "outputs": [
    {
     "data": {
      "text/html": [
       "<div>\n",
       "<style scoped>\n",
       "    .dataframe tbody tr th:only-of-type {\n",
       "        vertical-align: middle;\n",
       "    }\n",
       "\n",
       "    .dataframe tbody tr th {\n",
       "        vertical-align: top;\n",
       "    }\n",
       "\n",
       "    .dataframe thead th {\n",
       "        text-align: right;\n",
       "    }\n",
       "</style>\n",
       "<table border=\"1\" class=\"dataframe\">\n",
       "  <thead>\n",
       "    <tr style=\"text-align: right;\">\n",
       "      <th></th>\n",
       "      <th>c</th>\n",
       "      <th>e</th>\n",
       "    </tr>\n",
       "  </thead>\n",
       "  <tbody>\n",
       "    <tr>\n",
       "      <th>u</th>\n",
       "      <td>6</td>\n",
       "      <td>9</td>\n",
       "    </tr>\n",
       "    <tr>\n",
       "      <th>-4</th>\n",
       "      <td>3</td>\n",
       "      <td>0</td>\n",
       "    </tr>\n",
       "    <tr>\n",
       "      <th>102</th>\n",
       "      <td>3</td>\n",
       "      <td>8</td>\n",
       "    </tr>\n",
       "  </tbody>\n",
       "</table>\n",
       "</div>"
      ],
      "text/plain": [
       "     c  e\n",
       "u    6  9\n",
       "-4   3  0\n",
       "102  3  8"
      ]
     },
     "execution_count": 15,
     "metadata": {},
     "output_type": "execute_result"
    }
   ],
   "source": [
    "df1.loc[['u', -4, 102], ['c', 'e']]  # lo mismo de arriba, pero filtrando columnas"
   ]
  },
  {
   "cell_type": "code",
   "execution_count": 16,
   "metadata": {},
   "outputs": [
    {
     "data": {
      "text/html": [
       "<div>\n",
       "<style scoped>\n",
       "    .dataframe tbody tr th:only-of-type {\n",
       "        vertical-align: middle;\n",
       "    }\n",
       "\n",
       "    .dataframe tbody tr th {\n",
       "        vertical-align: top;\n",
       "    }\n",
       "\n",
       "    .dataframe thead th {\n",
       "        text-align: right;\n",
       "    }\n",
       "</style>\n",
       "<table border=\"1\" class=\"dataframe\">\n",
       "  <thead>\n",
       "    <tr style=\"text-align: right;\">\n",
       "      <th></th>\n",
       "      <th>a</th>\n",
       "      <th>c</th>\n",
       "      <th>e</th>\n",
       "    </tr>\n",
       "  </thead>\n",
       "  <tbody>\n",
       "    <tr>\n",
       "      <th>68</th>\n",
       "      <td>2</td>\n",
       "      <td>3</td>\n",
       "      <td>7</td>\n",
       "    </tr>\n",
       "    <tr>\n",
       "      <th>102</th>\n",
       "      <td>1</td>\n",
       "      <td>3</td>\n",
       "      <td>8</td>\n",
       "    </tr>\n",
       "    <tr>\n",
       "      <th>-4</th>\n",
       "      <td>4</td>\n",
       "      <td>3</td>\n",
       "      <td>0</td>\n",
       "    </tr>\n",
       "    <tr>\n",
       "      <th>u</th>\n",
       "      <td>4</td>\n",
       "      <td>6</td>\n",
       "      <td>9</td>\n",
       "    </tr>\n",
       "    <tr>\n",
       "      <th>vw</th>\n",
       "      <td>2</td>\n",
       "      <td>1</td>\n",
       "      <td>6</td>\n",
       "    </tr>\n",
       "  </tbody>\n",
       "</table>\n",
       "</div>"
      ],
      "text/plain": [
       "     a  c  e\n",
       "68   2  3  7\n",
       "102  1  3  8\n",
       "-4   4  3  0\n",
       "u    4  6  9\n",
       "vw   2  1  6"
      ]
     },
     "execution_count": 16,
     "metadata": {},
     "output_type": "execute_result"
    }
   ],
   "source": [
    "df1[['a', 'c', 'e']]  # solamente selección de columnas (sin loc)"
   ]
  },
  {
   "cell_type": "markdown",
   "metadata": {},
   "source": [
    "***\n",
    "# 2. Resumiendo datos\n",
    "\n",
    "Si se quiere atisbar los datos, existen métodos para esto, de los que algunos son [`head`](https://pandas.pydata.org/pandas-docs/stable/generated/pandas.DataFrame.head.html), [`tail`](https://pandas.pydata.org/pandas-docs/stable/generated/pandas.DataFrame.tail.html) y [`describe`](https://pandas.pydata.org/pandas-docs/stable/generated/pandas.DataFrame.describe.html)"
   ]
  },
  {
   "cell_type": "code",
   "execution_count": 17,
   "metadata": {},
   "outputs": [
    {
     "data": {
      "text/html": [
       "<div>\n",
       "<style scoped>\n",
       "    .dataframe tbody tr th:only-of-type {\n",
       "        vertical-align: middle;\n",
       "    }\n",
       "\n",
       "    .dataframe tbody tr th {\n",
       "        vertical-align: top;\n",
       "    }\n",
       "\n",
       "    .dataframe thead th {\n",
       "        text-align: right;\n",
       "    }\n",
       "</style>\n",
       "<table border=\"1\" class=\"dataframe\">\n",
       "  <thead>\n",
       "    <tr style=\"text-align: right;\">\n",
       "      <th></th>\n",
       "      <th>a</th>\n",
       "      <th>b</th>\n",
       "      <th>c</th>\n",
       "      <th>d</th>\n",
       "      <th>e</th>\n",
       "    </tr>\n",
       "  </thead>\n",
       "  <tbody>\n",
       "    <tr>\n",
       "      <th>count</th>\n",
       "      <td>5.000000</td>\n",
       "      <td>5.000000</td>\n",
       "      <td>5.000000</td>\n",
       "      <td>5.000000</td>\n",
       "      <td>5.000000</td>\n",
       "    </tr>\n",
       "    <tr>\n",
       "      <th>mean</th>\n",
       "      <td>2.600000</td>\n",
       "      <td>4.800000</td>\n",
       "      <td>3.200000</td>\n",
       "      <td>2.800000</td>\n",
       "      <td>6.000000</td>\n",
       "    </tr>\n",
       "    <tr>\n",
       "      <th>std</th>\n",
       "      <td>1.341641</td>\n",
       "      <td>1.788854</td>\n",
       "      <td>1.788854</td>\n",
       "      <td>2.588436</td>\n",
       "      <td>3.535534</td>\n",
       "    </tr>\n",
       "    <tr>\n",
       "      <th>min</th>\n",
       "      <td>1.000000</td>\n",
       "      <td>2.000000</td>\n",
       "      <td>1.000000</td>\n",
       "      <td>0.000000</td>\n",
       "      <td>0.000000</td>\n",
       "    </tr>\n",
       "    <tr>\n",
       "      <th>25%</th>\n",
       "      <td>2.000000</td>\n",
       "      <td>5.000000</td>\n",
       "      <td>3.000000</td>\n",
       "      <td>1.000000</td>\n",
       "      <td>6.000000</td>\n",
       "    </tr>\n",
       "    <tr>\n",
       "      <th>50%</th>\n",
       "      <td>2.000000</td>\n",
       "      <td>5.000000</td>\n",
       "      <td>3.000000</td>\n",
       "      <td>2.000000</td>\n",
       "      <td>7.000000</td>\n",
       "    </tr>\n",
       "    <tr>\n",
       "      <th>75%</th>\n",
       "      <td>4.000000</td>\n",
       "      <td>5.000000</td>\n",
       "      <td>3.000000</td>\n",
       "      <td>5.000000</td>\n",
       "      <td>8.000000</td>\n",
       "    </tr>\n",
       "    <tr>\n",
       "      <th>max</th>\n",
       "      <td>4.000000</td>\n",
       "      <td>7.000000</td>\n",
       "      <td>6.000000</td>\n",
       "      <td>6.000000</td>\n",
       "      <td>9.000000</td>\n",
       "    </tr>\n",
       "  </tbody>\n",
       "</table>\n",
       "</div>"
      ],
      "text/plain": [
       "              a         b         c         d         e\n",
       "count  5.000000  5.000000  5.000000  5.000000  5.000000\n",
       "mean   2.600000  4.800000  3.200000  2.800000  6.000000\n",
       "std    1.341641  1.788854  1.788854  2.588436  3.535534\n",
       "min    1.000000  2.000000  1.000000  0.000000  0.000000\n",
       "25%    2.000000  5.000000  3.000000  1.000000  6.000000\n",
       "50%    2.000000  5.000000  3.000000  2.000000  7.000000\n",
       "75%    4.000000  5.000000  3.000000  5.000000  8.000000\n",
       "max    4.000000  7.000000  6.000000  6.000000  9.000000"
      ]
     },
     "execution_count": 17,
     "metadata": {},
     "output_type": "execute_result"
    }
   ],
   "source": [
    "df1.describe()  # retorna estadísticos de los datos"
   ]
  },
  {
   "cell_type": "markdown",
   "metadata": {},
   "source": [
    "***\n",
    "# 3. Selección de datos de estructuras"
   ]
  },
  {
   "cell_type": "markdown",
   "metadata": {},
   "source": [
    "Las selecciones que se han hecho hasta este momento son simples, pero Pandas permite **mucho** más en este ámbito. En esta sección se mostrarán algunas formas convenientes de seleccionar datos en `DataFrames`. No se cubrirán formas más avanzadas que las ya vistas para seleccionar datos de series, pues usualmente no se necesitan (y siempre pueden buscarse en la documentación).\n",
    "\n",
    "Para obtener un conocimiento más profundo de esta sección, refiérase a [esta guía](https://pandas.pydata.org/pandas-docs/stable/indexing.html). Contiene, además, información sobre cómo modificar datos de una selección, usualmente con el operador de asignación (*i.e.* `=`)"
   ]
  },
  {
   "cell_type": "markdown",
   "metadata": {},
   "source": [
    "## 3.1 Selección por secuencia/serie booleana\n",
    "\n",
    "Este tipo de selección **es uno de los más fundamentales**, pues muchos más funcionan usando la misma lógica. \n",
    "Para seleccionar de esta manera, se provee a la *property* `loc` una secuencia de valores verdaderos o falsos."
   ]
  },
  {
   "cell_type": "code",
   "execution_count": 18,
   "metadata": {},
   "outputs": [
    {
     "data": {
      "text/html": [
       "<div>\n",
       "<style scoped>\n",
       "    .dataframe tbody tr th:only-of-type {\n",
       "        vertical-align: middle;\n",
       "    }\n",
       "\n",
       "    .dataframe tbody tr th {\n",
       "        vertical-align: top;\n",
       "    }\n",
       "\n",
       "    .dataframe thead th {\n",
       "        text-align: right;\n",
       "    }\n",
       "</style>\n",
       "<table border=\"1\" class=\"dataframe\">\n",
       "  <thead>\n",
       "    <tr style=\"text-align: right;\">\n",
       "      <th></th>\n",
       "      <th>a</th>\n",
       "      <th>b</th>\n",
       "      <th>c</th>\n",
       "      <th>d</th>\n",
       "      <th>e</th>\n",
       "    </tr>\n",
       "  </thead>\n",
       "  <tbody>\n",
       "    <tr>\n",
       "      <th>68</th>\n",
       "      <td>2</td>\n",
       "      <td>5</td>\n",
       "      <td>3</td>\n",
       "      <td>0</td>\n",
       "      <td>7</td>\n",
       "    </tr>\n",
       "    <tr>\n",
       "      <th>-4</th>\n",
       "      <td>4</td>\n",
       "      <td>5</td>\n",
       "      <td>3</td>\n",
       "      <td>6</td>\n",
       "      <td>0</td>\n",
       "    </tr>\n",
       "    <tr>\n",
       "      <th>u</th>\n",
       "      <td>4</td>\n",
       "      <td>5</td>\n",
       "      <td>6</td>\n",
       "      <td>2</td>\n",
       "      <td>9</td>\n",
       "    </tr>\n",
       "  </tbody>\n",
       "</table>\n",
       "</div>"
      ],
      "text/plain": [
       "    a  b  c  d  e\n",
       "68  2  5  3  0  7\n",
       "-4  4  5  3  6  0\n",
       "u   4  5  6  2  9"
      ]
     },
     "execution_count": 18,
     "metadata": {},
     "output_type": "execute_result"
    }
   ],
   "source": [
    "df1.loc[[True, False, True, True, False]]"
   ]
  },
  {
   "cell_type": "markdown",
   "metadata": {},
   "source": [
    "____\n",
    "### **Importante**\n",
    "Lo que sucede aquí es que **la secuencia booleana se alinea con las filas del DataFrame**, en orden, y aquellas filas que se hayan alineado con un valor booleano verdadero son las filas que estarán en la selección.\n",
    "****"
   ]
  },
  {
   "cell_type": "markdown",
   "metadata": {},
   "source": [
    "### 3.1.1 Operaciones que retornan una secuencia booleana\n",
    "\n",
    "Existen formas de generar secuencias booleanas con operadores que actúan sobre las estructuras de datos de Pandas. Estas secuencias, al ser alineadas con la misma estructura de datos con `loc`, retornan los datos de la estructura que cumplan con la condición del operador."
   ]
  },
  {
   "cell_type": "code",
   "execution_count": 19,
   "metadata": {},
   "outputs": [
    {
     "data": {
      "text/plain": [
       "0     True\n",
       "1     True\n",
       "2    False\n",
       "Name: C1, dtype: bool"
      ]
     },
     "execution_count": 19,
     "metadata": {},
     "output_type": "execute_result"
    }
   ],
   "source": [
    "bool_seq = df0['C1'] < 3\n",
    "bool_seq"
   ]
  },
  {
   "cell_type": "markdown",
   "metadata": {},
   "source": [
    "`bool_seq` es una serie de valores booleanos que al ser alineados con las filas de `df0` con `loc`, hacen que `loc` retorne un nuevo *DataFrame* solo con las filas de `df0` cuyos valores de la columna `C1` que sean menores que 3."
   ]
  },
  {
   "cell_type": "code",
   "execution_count": 20,
   "metadata": {},
   "outputs": [
    {
     "data": {
      "text/html": [
       "<div>\n",
       "<style scoped>\n",
       "    .dataframe tbody tr th:only-of-type {\n",
       "        vertical-align: middle;\n",
       "    }\n",
       "\n",
       "    .dataframe tbody tr th {\n",
       "        vertical-align: top;\n",
       "    }\n",
       "\n",
       "    .dataframe thead th {\n",
       "        text-align: right;\n",
       "    }\n",
       "</style>\n",
       "<table border=\"1\" class=\"dataframe\">\n",
       "  <thead>\n",
       "    <tr style=\"text-align: right;\">\n",
       "      <th></th>\n",
       "      <th>C1</th>\n",
       "      <th>C2</th>\n",
       "      <th>C3</th>\n",
       "    </tr>\n",
       "  </thead>\n",
       "  <tbody>\n",
       "    <tr>\n",
       "      <th>0</th>\n",
       "      <td>1.0</td>\n",
       "      <td>42</td>\n",
       "      <td>69</td>\n",
       "    </tr>\n",
       "    <tr>\n",
       "      <th>1</th>\n",
       "      <td>2.0</td>\n",
       "      <td>42</td>\n",
       "      <td>el mundo digital</td>\n",
       "    </tr>\n",
       "  </tbody>\n",
       "</table>\n",
       "</div>"
      ],
      "text/plain": [
       "    C1  C2                C3\n",
       "0  1.0  42                69\n",
       "1  2.0  42  el mundo digital"
      ]
     },
     "execution_count": 20,
     "metadata": {},
     "output_type": "execute_result"
    }
   ],
   "source": [
    "df0.loc[bool_seq]"
   ]
  },
  {
   "cell_type": "markdown",
   "metadata": {},
   "source": [
    "Otro ejemplo de lo mismo, pero en una misma línea, usando más operadores y filtrando columnas:"
   ]
  },
  {
   "cell_type": "code",
   "execution_count": 21,
   "metadata": {},
   "outputs": [
    {
     "data": {
      "text/html": [
       "<div>\n",
       "<style scoped>\n",
       "    .dataframe tbody tr th:only-of-type {\n",
       "        vertical-align: middle;\n",
       "    }\n",
       "\n",
       "    .dataframe tbody tr th {\n",
       "        vertical-align: top;\n",
       "    }\n",
       "\n",
       "    .dataframe thead th {\n",
       "        text-align: right;\n",
       "    }\n",
       "</style>\n",
       "<table border=\"1\" class=\"dataframe\">\n",
       "  <thead>\n",
       "    <tr style=\"text-align: right;\">\n",
       "      <th></th>\n",
       "      <th>c</th>\n",
       "      <th>e</th>\n",
       "      <th>b</th>\n",
       "    </tr>\n",
       "  </thead>\n",
       "  <tbody>\n",
       "    <tr>\n",
       "      <th>-4</th>\n",
       "      <td>3</td>\n",
       "      <td>0</td>\n",
       "      <td>5</td>\n",
       "    </tr>\n",
       "    <tr>\n",
       "      <th>u</th>\n",
       "      <td>6</td>\n",
       "      <td>9</td>\n",
       "      <td>5</td>\n",
       "    </tr>\n",
       "  </tbody>\n",
       "</table>\n",
       "</div>"
      ],
      "text/plain": [
       "    c  e  b\n",
       "-4  3  0  5\n",
       "u   6  9  5"
      ]
     },
     "execution_count": 21,
     "metadata": {},
     "output_type": "execute_result"
    }
   ],
   "source": [
    "df1.loc[~((df1['a'] < 3) & (df1['e'] >= 3)), ['c', 'e', 'b']] # ~ es not; & es and"
   ]
  },
  {
   "cell_type": "markdown",
   "metadata": {},
   "source": [
    "***\n",
    "# 4. Importación de datos desde archivos\n",
    "\n",
    "Para llevar datos desde archivos en formatos *csv* o *JSON*, Pandas provee métodos muy convenientes: [`read_csv`](https://pandas.pydata.org/pandas-docs/stable/generated/pandas.read_csv.html) y [`read_json`](https://pandas.pydata.org/pandas-docs/stable/generated/pandas.read_json.html)."
   ]
  },
  {
   "cell_type": "markdown",
   "metadata": {},
   "source": [
    "***\n",
    "# 5. Asignación de valores a subconjuntos de datos\n",
    "\n",
    "La documentación oficial de este tema está distribuída en varios documentos y hay muchas maneras de abordarlo y de realizar las mismas asignaciones, por esto es recomendable leer [esta guía](https://medium.com/dunder-data/selecting-subsets-of-data-in-pandas-part-3-d5704b4b9116).\n",
    "\n",
    "Sin embargo, la asignación de valores usualmente se hace sobre selecciones y usando el operador de asignación (`=`), por lo que se puede (en teoría) asignar valores a selecciones sin leer la guía anterior, pero no es recomendable."
   ]
  },
  {
   "cell_type": "markdown",
   "metadata": {},
   "source": [
    "***\n",
    "# 6. Agregación de datos\n",
    "\n",
    "Muchas veces se necesita agrupar los datos de alguna forma. Pandas es especialmente útil para hacer esto. Por ejemplo, se puede calcular el promedio de las columnas o de las filas."
   ]
  },
  {
   "cell_type": "code",
   "execution_count": 22,
   "metadata": {},
   "outputs": [
    {
     "data": {
      "text/plain": [
       "a    5.4\n",
       "b    2.4\n",
       "c    5.6\n",
       "d    4.4\n",
       "e    5.8\n",
       "dtype: float64"
      ]
     },
     "execution_count": 22,
     "metadata": {},
     "output_type": "execute_result"
    }
   ],
   "source": [
    "df1.mean(axis='index')  # promedio de columnas (sí, columnas)"
   ]
  },
  {
   "cell_type": "code",
   "execution_count": 23,
   "metadata": {},
   "outputs": [
    {
     "data": {
      "text/plain": [
       "68     5.0\n",
       "102    4.8\n",
       "-4     6.0\n",
       "u      4.8\n",
       "vw     3.0\n",
       "dtype: float64"
      ]
     },
     "execution_count": 23,
     "metadata": {},
     "output_type": "execute_result"
    }
   ],
   "source": [
    "df1.mean(axis='columns')  # promedio de filas (sí, filas)"
   ]
  },
  {
   "cell_type": "markdown",
   "metadata": {},
   "source": [
    "Hay muchas funciones como esta y siempre se pueden buscar cuando se necesiten. \n",
    "\n",
    "Respecto a los *axes*, `axis='index'` significa que la operación es ejecutada en la dimensión en la que cambian los índices (al pasar de una fila a otra, los índices cambian) la operación *aplasta* las filas. `axis='columns'` es lo contrario, se *aplastan* las columnas.\n",
    "\n",
    "Para más información sobre aplicar operaciones de agregación arbitrarias, refiérase a [estos métodos](https://pandas.pydata.org/pandas-docs/stable/basics.html#function-application)"
   ]
  },
  {
   "cell_type": "markdown",
   "metadata": {},
   "source": [
    "***\n",
    "# Más información\n",
    "\n",
    "Para más detalles e información **rápidos**, [este torpedo de Pandas](http://pandas.pydata.org/Pandas_Cheat_Sheet.pdf) es de mucha utilidad. Cubre las tareas más comunes que se pueden hacer con Pandas.\n",
    "\n",
    "Además existe [este *cookbook*](https://pandas.pydata.org/pandas-docs/stable/cookbook.html#cookbook) que es más extenso que el torpedo, pero contiene casos de uso **explicados** de Pandas."
   ]
  }
 ],
 "metadata": {
  "kernelspec": {
   "display_name": "Python 3",
   "language": "python",
   "name": "python3"
  },
  "language_info": {
   "codemirror_mode": {
    "name": "ipython",
    "version": 3
   },
   "file_extension": ".py",
   "mimetype": "text/x-python",
   "name": "python",
   "nbconvert_exporter": "python",
   "pygments_lexer": "ipython3",
   "version": "3.6.6"
  }
 },
 "nbformat": 4,
 "nbformat_minor": 2
}
